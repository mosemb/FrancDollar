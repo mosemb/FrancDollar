{
 "cells": [
  {
   "cell_type": "code",
   "execution_count": 1,
   "metadata": {},
   "outputs": [],
   "source": [
    "\n",
    "import pandas as pd\n",
    "import numpy as np\n",
    "import matplotlib.pyplot as plt\n",
    "import seaborn as sns\n",
    "from math import ceil\n",
    "import datetime \n",
    "import calendar \n",
    "\n",
    "\n",
    "%matplotlib inline "
   ]
  },
  {
   "cell_type": "code",
   "execution_count": 2,
   "metadata": {},
   "outputs": [],
   "source": [
    "df=pd.read_csv('/root/Downloads/ritco_20180425.csv')"
   ]
  },
  {
   "cell_type": "code",
   "execution_count": 19,
   "metadata": {},
   "outputs": [
    {
     "data": {
      "text/html": [
       "<div>\n",
       "<style scoped>\n",
       "    .dataframe tbody tr th:only-of-type {\n",
       "        vertical-align: middle;\n",
       "    }\n",
       "\n",
       "    .dataframe tbody tr th {\n",
       "        vertical-align: top;\n",
       "    }\n",
       "\n",
       "    .dataframe thead th {\n",
       "        text-align: right;\n",
       "    }\n",
       "</style>\n",
       "<table border=\"1\" class=\"dataframe\">\n",
       "  <thead>\n",
       "    <tr style=\"text-align: right;\">\n",
       "      <th></th>\n",
       "      <th>101577</th>\n",
       "      <th>SAMU</th>\n",
       "      <th>NGARAMA-GICUMBI</th>\n",
       "      <th>05:00:00</th>\n",
       "      <th>2017-01-01 05:30:00</th>\n",
       "      <th>GR468C</th>\n",
       "      <th>2017-01-01 05:08:55</th>\n",
       "      <th>1700</th>\n",
       "      <th>MP220150900287</th>\n",
       "      <th>KAMUHANGIRE Fred</th>\n",
       "      <th>1</th>\n",
       "      <th>0</th>\n",
       "      <th>0.1</th>\n",
       "      <th>1.1</th>\n",
       "    </tr>\n",
       "  </thead>\n",
       "  <tbody>\n",
       "    <tr>\n",
       "      <th>0</th>\n",
       "      <td>101578</td>\n",
       "      <td>JMV</td>\n",
       "      <td>NYABIMATA-NDAGO</td>\n",
       "      <td>06:00:00</td>\n",
       "      <td>2017-01-01 06:00:00</td>\n",
       "      <td>GR827C</td>\n",
       "      <td>2017-01-01 05:14:23</td>\n",
       "      <td>800</td>\n",
       "      <td>MP220150900277</td>\n",
       "      <td>SHUMBUSHO JMV</td>\n",
       "      <td>1</td>\n",
       "      <td>0</td>\n",
       "      <td>0</td>\n",
       "      <td>1</td>\n",
       "    </tr>\n",
       "    <tr>\n",
       "      <th>1</th>\n",
       "      <td>101579</td>\n",
       "      <td>URAYENEZA</td>\n",
       "      <td>MUNINI-HUYE</td>\n",
       "      <td>06:00:00</td>\n",
       "      <td>2017-01-01 06:00:00</td>\n",
       "      <td>GR827C</td>\n",
       "      <td>2017-01-01 05:14:46</td>\n",
       "      <td>1200</td>\n",
       "      <td>MP220150900014</td>\n",
       "      <td>MUNYAMPUNDU VENUSTE</td>\n",
       "      <td>1</td>\n",
       "      <td>0</td>\n",
       "      <td>0</td>\n",
       "      <td>1</td>\n",
       "    </tr>\n",
       "    <tr>\n",
       "      <th>2</th>\n",
       "      <td>101580</td>\n",
       "      <td>IMACLE</td>\n",
       "      <td>MUNINI-HUYE</td>\n",
       "      <td>06:00:00</td>\n",
       "      <td>2017-01-01 06:00:00</td>\n",
       "      <td>GR827C</td>\n",
       "      <td>2017-01-01 05:15:33</td>\n",
       "      <td>1200</td>\n",
       "      <td>MP220150900014</td>\n",
       "      <td>MUNYAMPUNDU VENUSTE</td>\n",
       "      <td>1</td>\n",
       "      <td>0</td>\n",
       "      <td>0</td>\n",
       "      <td>1</td>\n",
       "    </tr>\n",
       "    <tr>\n",
       "      <th>3</th>\n",
       "      <td>101581</td>\n",
       "      <td>GEDAHEZ</td>\n",
       "      <td>NYABIMATA-HUYE</td>\n",
       "      <td>06:00:00</td>\n",
       "      <td>2017-01-01 06:00:00</td>\n",
       "      <td>GR827C</td>\n",
       "      <td>2017-01-01 05:15:55</td>\n",
       "      <td>1700</td>\n",
       "      <td>MP220150900277</td>\n",
       "      <td>SHUMBUSHO JMV</td>\n",
       "      <td>1</td>\n",
       "      <td>0</td>\n",
       "      <td>0</td>\n",
       "      <td>1</td>\n",
       "    </tr>\n",
       "    <tr>\n",
       "      <th>4</th>\n",
       "      <td>101582</td>\n",
       "      <td>IRIDEFOSE</td>\n",
       "      <td>MUNINI-HUYE</td>\n",
       "      <td>06:00:00</td>\n",
       "      <td>2017-01-01 06:00:00</td>\n",
       "      <td>GR827C</td>\n",
       "      <td>2017-01-01 05:16:57</td>\n",
       "      <td>1200</td>\n",
       "      <td>MP220150900014</td>\n",
       "      <td>MUNYAMPUNDU VENUSTE</td>\n",
       "      <td>1</td>\n",
       "      <td>0</td>\n",
       "      <td>0</td>\n",
       "      <td>1</td>\n",
       "    </tr>\n",
       "  </tbody>\n",
       "</table>\n",
       "</div>"
      ],
      "text/plain": [
       "   101577       SAMU  NGARAMA-GICUMBI  05:00:00  2017-01-01 05:30:00  GR468C  \\\n",
       "0  101578        JMV  NYABIMATA-NDAGO  06:00:00  2017-01-01 06:00:00  GR827C   \n",
       "1  101579  URAYENEZA      MUNINI-HUYE  06:00:00  2017-01-01 06:00:00  GR827C   \n",
       "2  101580     IMACLE      MUNINI-HUYE  06:00:00  2017-01-01 06:00:00  GR827C   \n",
       "3  101581    GEDAHEZ   NYABIMATA-HUYE  06:00:00  2017-01-01 06:00:00  GR827C   \n",
       "4  101582  IRIDEFOSE      MUNINI-HUYE  06:00:00  2017-01-01 06:00:00  GR827C   \n",
       "\n",
       "   2017-01-01 05:08:55  1700  MP220150900287     KAMUHANGIRE Fred  1  0  0.1  \\\n",
       "0  2017-01-01 05:14:23   800  MP220150900277        SHUMBUSHO JMV  1  0    0   \n",
       "1  2017-01-01 05:14:46  1200  MP220150900014  MUNYAMPUNDU VENUSTE  1  0    0   \n",
       "2  2017-01-01 05:15:33  1200  MP220150900014  MUNYAMPUNDU VENUSTE  1  0    0   \n",
       "3  2017-01-01 05:15:55  1700  MP220150900277        SHUMBUSHO JMV  1  0    0   \n",
       "4  2017-01-01 05:16:57  1200  MP220150900014  MUNYAMPUNDU VENUSTE  1  0    0   \n",
       "\n",
       "   1.1  \n",
       "0    1  \n",
       "1    1  \n",
       "2    1  \n",
       "3    1  \n",
       "4    1  "
      ]
     },
     "execution_count": 19,
     "metadata": {},
     "output_type": "execute_result"
    }
   ],
   "source": [
    "df.head()\n"
   ]
  },
  {
   "cell_type": "code",
   "execution_count": 4,
   "metadata": {},
   "outputs": [
    {
     "name": "stdout",
     "output_type": "stream",
     "text": [
      "<class 'pandas.core.frame.DataFrame'>\n",
      "RangeIndex: 1775076 entries, 0 to 1775075\n",
      "Data columns (total 14 columns):\n",
      "101577                 int64\n",
      "SAMU                   object\n",
      "NGARAMA-GICUMBI        object\n",
      "05:00:00               object\n",
      "2017-01-01 05:30:00    object\n",
      "GR468C                 object\n",
      "2017-01-01 05:08:55    object\n",
      "1700                   int64\n",
      "MP220150900287         object\n",
      "KAMUHANGIRE Fred       object\n",
      "1                      int64\n",
      "0                      int64\n",
      "0.1                    int64\n",
      "1.1                    int64\n",
      "dtypes: int64(6), object(8)\n",
      "memory usage: 189.6+ MB\n"
     ]
    }
   ],
   "source": [
    "df.info()"
   ]
  },
  {
   "cell_type": "code",
   "execution_count": 18,
   "metadata": {},
   "outputs": [
    {
     "data": {
      "text/html": [
       "<div>\n",
       "<style scoped>\n",
       "    .dataframe tbody tr th:only-of-type {\n",
       "        vertical-align: middle;\n",
       "    }\n",
       "\n",
       "    .dataframe tbody tr th {\n",
       "        vertical-align: top;\n",
       "    }\n",
       "\n",
       "    .dataframe thead th {\n",
       "        text-align: right;\n",
       "    }\n",
       "</style>\n",
       "<table border=\"1\" class=\"dataframe\">\n",
       "  <thead>\n",
       "    <tr style=\"text-align: right;\">\n",
       "      <th></th>\n",
       "      <th>101577</th>\n",
       "      <th>SAMU</th>\n",
       "      <th>NGARAMA-GICUMBI</th>\n",
       "      <th>05:00:00</th>\n",
       "      <th>2017-01-01 05:30:00</th>\n",
       "      <th>GR468C</th>\n",
       "      <th>2017-01-01 05:08:55</th>\n",
       "      <th>1700</th>\n",
       "      <th>MP220150900287</th>\n",
       "      <th>KAMUHANGIRE Fred</th>\n",
       "      <th>1</th>\n",
       "      <th>0</th>\n",
       "      <th>0.1</th>\n",
       "      <th>1.1</th>\n",
       "    </tr>\n",
       "  </thead>\n",
       "  <tbody>\n",
       "    <tr>\n",
       "      <th>0</th>\n",
       "      <td>101578</td>\n",
       "      <td>JMV</td>\n",
       "      <td>NYABIMATA-NDAGO</td>\n",
       "      <td>06:00:00</td>\n",
       "      <td>2017-01-01 06:00:00</td>\n",
       "      <td>GR827C</td>\n",
       "      <td>2017-01-01 05:14:23</td>\n",
       "      <td>800</td>\n",
       "      <td>MP220150900277</td>\n",
       "      <td>SHUMBUSHO JMV</td>\n",
       "      <td>1</td>\n",
       "      <td>0</td>\n",
       "      <td>0</td>\n",
       "      <td>1</td>\n",
       "    </tr>\n",
       "    <tr>\n",
       "      <th>1</th>\n",
       "      <td>101579</td>\n",
       "      <td>URAYENEZA</td>\n",
       "      <td>MUNINI-HUYE</td>\n",
       "      <td>06:00:00</td>\n",
       "      <td>2017-01-01 06:00:00</td>\n",
       "      <td>GR827C</td>\n",
       "      <td>2017-01-01 05:14:46</td>\n",
       "      <td>1200</td>\n",
       "      <td>MP220150900014</td>\n",
       "      <td>MUNYAMPUNDU VENUSTE</td>\n",
       "      <td>1</td>\n",
       "      <td>0</td>\n",
       "      <td>0</td>\n",
       "      <td>1</td>\n",
       "    </tr>\n",
       "    <tr>\n",
       "      <th>2</th>\n",
       "      <td>101580</td>\n",
       "      <td>IMACLE</td>\n",
       "      <td>MUNINI-HUYE</td>\n",
       "      <td>06:00:00</td>\n",
       "      <td>2017-01-01 06:00:00</td>\n",
       "      <td>GR827C</td>\n",
       "      <td>2017-01-01 05:15:33</td>\n",
       "      <td>1200</td>\n",
       "      <td>MP220150900014</td>\n",
       "      <td>MUNYAMPUNDU VENUSTE</td>\n",
       "      <td>1</td>\n",
       "      <td>0</td>\n",
       "      <td>0</td>\n",
       "      <td>1</td>\n",
       "    </tr>\n",
       "    <tr>\n",
       "      <th>3</th>\n",
       "      <td>101581</td>\n",
       "      <td>GEDAHEZ</td>\n",
       "      <td>NYABIMATA-HUYE</td>\n",
       "      <td>06:00:00</td>\n",
       "      <td>2017-01-01 06:00:00</td>\n",
       "      <td>GR827C</td>\n",
       "      <td>2017-01-01 05:15:55</td>\n",
       "      <td>1700</td>\n",
       "      <td>MP220150900277</td>\n",
       "      <td>SHUMBUSHO JMV</td>\n",
       "      <td>1</td>\n",
       "      <td>0</td>\n",
       "      <td>0</td>\n",
       "      <td>1</td>\n",
       "    </tr>\n",
       "    <tr>\n",
       "      <th>4</th>\n",
       "      <td>101582</td>\n",
       "      <td>IRIDEFOSE</td>\n",
       "      <td>MUNINI-HUYE</td>\n",
       "      <td>06:00:00</td>\n",
       "      <td>2017-01-01 06:00:00</td>\n",
       "      <td>GR827C</td>\n",
       "      <td>2017-01-01 05:16:57</td>\n",
       "      <td>1200</td>\n",
       "      <td>MP220150900014</td>\n",
       "      <td>MUNYAMPUNDU VENUSTE</td>\n",
       "      <td>1</td>\n",
       "      <td>0</td>\n",
       "      <td>0</td>\n",
       "      <td>1</td>\n",
       "    </tr>\n",
       "  </tbody>\n",
       "</table>\n",
       "</div>"
      ],
      "text/plain": [
       "   101577       SAMU  NGARAMA-GICUMBI  05:00:00  2017-01-01 05:30:00  GR468C  \\\n",
       "0  101578        JMV  NYABIMATA-NDAGO  06:00:00  2017-01-01 06:00:00  GR827C   \n",
       "1  101579  URAYENEZA      MUNINI-HUYE  06:00:00  2017-01-01 06:00:00  GR827C   \n",
       "2  101580     IMACLE      MUNINI-HUYE  06:00:00  2017-01-01 06:00:00  GR827C   \n",
       "3  101581    GEDAHEZ   NYABIMATA-HUYE  06:00:00  2017-01-01 06:00:00  GR827C   \n",
       "4  101582  IRIDEFOSE      MUNINI-HUYE  06:00:00  2017-01-01 06:00:00  GR827C   \n",
       "\n",
       "   2017-01-01 05:08:55  1700  MP220150900287     KAMUHANGIRE Fred  1  0  0.1  \\\n",
       "0  2017-01-01 05:14:23   800  MP220150900277        SHUMBUSHO JMV  1  0    0   \n",
       "1  2017-01-01 05:14:46  1200  MP220150900014  MUNYAMPUNDU VENUSTE  1  0    0   \n",
       "2  2017-01-01 05:15:33  1200  MP220150900014  MUNYAMPUNDU VENUSTE  1  0    0   \n",
       "3  2017-01-01 05:15:55  1700  MP220150900277        SHUMBUSHO JMV  1  0    0   \n",
       "4  2017-01-01 05:16:57  1200  MP220150900014  MUNYAMPUNDU VENUSTE  1  0    0   \n",
       "\n",
       "   1.1  \n",
       "0    1  \n",
       "1    1  \n",
       "2    1  \n",
       "3    1  \n",
       "4    1  "
      ]
     },
     "execution_count": 18,
     "metadata": {},
     "output_type": "execute_result"
    }
   ],
   "source": [
    "df.head()\n"
   ]
  },
  {
   "cell_type": "code",
   "execution_count": 14,
   "metadata": {},
   "outputs": [],
   "source": [
    "df2 = ~(df[\"NGARAMA-GICUMBI\"].str.contains(\"-\"))"
   ]
  },
  {
   "cell_type": "code",
   "execution_count": 15,
   "metadata": {},
   "outputs": [
    {
     "data": {
      "text/plain": [
       "1775076"
      ]
     },
     "execution_count": 15,
     "metadata": {},
     "output_type": "execute_result"
    }
   ],
   "source": [
    "df2.count()\n"
   ]
  },
  {
   "cell_type": "code",
   "execution_count": 13,
   "metadata": {},
   "outputs": [
    {
     "name": "stdout",
     "output_type": "stream",
     "text": [
      "<class 'pandas.core.frame.DataFrame'>\n",
      "RangeIndex: 1775076 entries, 0 to 1775075\n",
      "Data columns (total 14 columns):\n",
      "101577                 int64\n",
      "SAMU                   object\n",
      "NGARAMA-GICUMBI        object\n",
      "05:00:00               object\n",
      "2017-01-01 05:30:00    object\n",
      "GR468C                 object\n",
      "2017-01-01 05:08:55    object\n",
      "1700                   int64\n",
      "MP220150900287         object\n",
      "KAMUHANGIRE Fred       object\n",
      "1                      int64\n",
      "0                      int64\n",
      "0.1                    int64\n",
      "1.1                    int64\n",
      "dtypes: int64(6), object(8)\n",
      "memory usage: 189.6+ MB\n"
     ]
    }
   ],
   "source": [
    "df.info()"
   ]
  },
  {
   "cell_type": "code",
   "execution_count": 20,
   "metadata": {},
   "outputs": [
    {
     "data": {
      "text/plain": [
       "<matplotlib.axes._subplots.AxesSubplot at 0x7f4339c00208>"
      ]
     },
     "execution_count": 20,
     "metadata": {},
     "output_type": "execute_result"
    },
    {
     "data": {
      "image/png": "[encoded data removed]",
      "text/plain": [
       "<matplotlib.figure.Figure at 0x7f432ec0ccc0>"
      ]
     },
     "metadata": {},
     "output_type": "display_data"
    }
   ],
   "source": [
    "sns.heatmap((df.isnull()),yticklabels=False,cbar=False,cmap='viridis')"
   ]
  },
  {
   "cell_type": "code",
   "execution_count": 21,
   "metadata": {},
   "outputs": [
    {
     "data": {
      "text/plain": [
       "Index(['101577', 'SAMU', 'NGARAMA-GICUMBI', '05:00:00', '2017-01-01 05:30:00',\n",
       "       'GR468C', '2017-01-01 05:08:55', '1700', 'MP220150900287',\n",
       "       'KAMUHANGIRE Fred', '1', '0', '0.1', '1.1'],\n",
       "      dtype='object')"
      ]
     },
     "execution_count": 21,
     "metadata": {},
     "output_type": "execute_result"
    }
   ],
   "source": [
    "df.columns\n"
   ]
  },
  {
   "cell_type": "code",
   "execution_count": 22,
   "metadata": {},
   "outputs": [],
   "source": [
    "old_names = ['2017-01-01 05:08:55'] \n",
    "new_names = ['TimeStamp']\n",
    "df.rename(columns=dict(zip(old_names, new_names)), inplace=True)\n"
   ]
  },
  {
   "cell_type": "code",
   "execution_count": 24,
   "metadata": {},
   "outputs": [],
   "source": [
    "old_names = ['101577','SAMU'] \n",
    "new_names = ['TicketNo','Client']\n",
    "df.rename(columns=dict(zip(old_names, new_names)), inplace=True)\n"
   ]
  },
  {
   "cell_type": "code",
   "execution_count": 25,
   "metadata": {},
   "outputs": [
    {
     "data": {
      "text/plain": [
       "Index(['TicketNo', 'Client', 'NGARAMA-GICUMBI', '05:00:00',\n",
       "       '2017-01-01 05:30:00', 'GR468C', 'TimeStamp', '1700', 'MP220150900287',\n",
       "       'KAMUHANGIRE Fred', '1', '0', '0.1', '1.1'],\n",
       "      dtype='object')"
      ]
     },
     "execution_count": 25,
     "metadata": {},
     "output_type": "execute_result"
    }
   ],
   "source": [
    "df.columns"
   ]
  },
  {
   "cell_type": "code",
   "execution_count": 26,
   "metadata": {},
   "outputs": [],
   "source": [
    "old_names = ['NGARAMA-GICUMBI','05:00:00','GR468C','Fare','KAMUHANGIRE Fred'] \n",
    "new_names = ['Route','TimeofRoute','PlateNo','1700','AgentName',]\n",
    "df.rename(columns=dict(zip(old_names, new_names)), inplace=True)\n"
   ]
  },
  {
   "cell_type": "code",
   "execution_count": 27,
   "metadata": {},
   "outputs": [
    {
     "data": {
      "text/plain": [
       "Index(['TicketNo', 'Client', 'Route', 'TimeofRoute', '2017-01-01 05:30:00',\n",
       "       'PlateNo', 'TimeStamp', '1700', 'MP220150900287', 'AgentName', '1', '0',\n",
       "       '0.1', '1.1'],\n",
       "      dtype='object')"
      ]
     },
     "execution_count": 27,
     "metadata": {},
     "output_type": "execute_result"
    }
   ],
   "source": [
    "df.columns"
   ]
  },
  {
   "cell_type": "code",
   "execution_count": 28,
   "metadata": {},
   "outputs": [
    {
     "data": {
      "text/html": [
       "<div>\n",
       "<style scoped>\n",
       "    .dataframe tbody tr th:only-of-type {\n",
       "        vertical-align: middle;\n",
       "    }\n",
       "\n",
       "    .dataframe tbody tr th {\n",
       "        vertical-align: top;\n",
       "    }\n",
       "\n",
       "    .dataframe thead th {\n",
       "        text-align: right;\n",
       "    }\n",
       "</style>\n",
       "<table border=\"1\" class=\"dataframe\">\n",
       "  <thead>\n",
       "    <tr style=\"text-align: right;\">\n",
       "      <th></th>\n",
       "      <th>TicketNo</th>\n",
       "      <th>Client</th>\n",
       "      <th>Route</th>\n",
       "      <th>TimeofRoute</th>\n",
       "      <th>2017-01-01 05:30:00</th>\n",
       "      <th>PlateNo</th>\n",
       "      <th>TimeStamp</th>\n",
       "      <th>1700</th>\n",
       "      <th>MP220150900287</th>\n",
       "      <th>AgentName</th>\n",
       "      <th>1</th>\n",
       "      <th>0</th>\n",
       "      <th>0.1</th>\n",
       "      <th>1.1</th>\n",
       "    </tr>\n",
       "  </thead>\n",
       "  <tbody>\n",
       "    <tr>\n",
       "      <th>0</th>\n",
       "      <td>101578</td>\n",
       "      <td>JMV</td>\n",
       "      <td>NYABIMATA-NDAGO</td>\n",
       "      <td>06:00:00</td>\n",
       "      <td>2017-01-01 06:00:00</td>\n",
       "      <td>GR827C</td>\n",
       "      <td>2017-01-01 05:14:23</td>\n",
       "      <td>800</td>\n",
       "      <td>MP220150900277</td>\n",
       "      <td>SHUMBUSHO JMV</td>\n",
       "      <td>1</td>\n",
       "      <td>0</td>\n",
       "      <td>0</td>\n",
       "      <td>1</td>\n",
       "    </tr>\n",
       "    <tr>\n",
       "      <th>1</th>\n",
       "      <td>101579</td>\n",
       "      <td>URAYENEZA</td>\n",
       "      <td>MUNINI-HUYE</td>\n",
       "      <td>06:00:00</td>\n",
       "      <td>2017-01-01 06:00:00</td>\n",
       "      <td>GR827C</td>\n",
       "      <td>2017-01-01 05:14:46</td>\n",
       "      <td>1200</td>\n",
       "      <td>MP220150900014</td>\n",
       "      <td>MUNYAMPUNDU VENUSTE</td>\n",
       "      <td>1</td>\n",
       "      <td>0</td>\n",
       "      <td>0</td>\n",
       "      <td>1</td>\n",
       "    </tr>\n",
       "    <tr>\n",
       "      <th>2</th>\n",
       "      <td>101580</td>\n",
       "      <td>IMACLE</td>\n",
       "      <td>MUNINI-HUYE</td>\n",
       "      <td>06:00:00</td>\n",
       "      <td>2017-01-01 06:00:00</td>\n",
       "      <td>GR827C</td>\n",
       "      <td>2017-01-01 05:15:33</td>\n",
       "      <td>1200</td>\n",
       "      <td>MP220150900014</td>\n",
       "      <td>MUNYAMPUNDU VENUSTE</td>\n",
       "      <td>1</td>\n",
       "      <td>0</td>\n",
       "      <td>0</td>\n",
       "      <td>1</td>\n",
       "    </tr>\n",
       "    <tr>\n",
       "      <th>3</th>\n",
       "      <td>101581</td>\n",
       "      <td>GEDAHEZ</td>\n",
       "      <td>NYABIMATA-HUYE</td>\n",
       "      <td>06:00:00</td>\n",
       "      <td>2017-01-01 06:00:00</td>\n",
       "      <td>GR827C</td>\n",
       "      <td>2017-01-01 05:15:55</td>\n",
       "      <td>1700</td>\n",
       "      <td>MP220150900277</td>\n",
       "      <td>SHUMBUSHO JMV</td>\n",
       "      <td>1</td>\n",
       "      <td>0</td>\n",
       "      <td>0</td>\n",
       "      <td>1</td>\n",
       "    </tr>\n",
       "    <tr>\n",
       "      <th>4</th>\n",
       "      <td>101582</td>\n",
       "      <td>IRIDEFOSE</td>\n",
       "      <td>MUNINI-HUYE</td>\n",
       "      <td>06:00:00</td>\n",
       "      <td>2017-01-01 06:00:00</td>\n",
       "      <td>GR827C</td>\n",
       "      <td>2017-01-01 05:16:57</td>\n",
       "      <td>1200</td>\n",
       "      <td>MP220150900014</td>\n",
       "      <td>MUNYAMPUNDU VENUSTE</td>\n",
       "      <td>1</td>\n",
       "      <td>0</td>\n",
       "      <td>0</td>\n",
       "      <td>1</td>\n",
       "    </tr>\n",
       "  </tbody>\n",
       "</table>\n",
       "</div>"
      ],
      "text/plain": [
       "   TicketNo     Client            Route TimeofRoute  2017-01-01 05:30:00  \\\n",
       "0    101578        JMV  NYABIMATA-NDAGO    06:00:00  2017-01-01 06:00:00   \n",
       "1    101579  URAYENEZA      MUNINI-HUYE    06:00:00  2017-01-01 06:00:00   \n",
       "2    101580     IMACLE      MUNINI-HUYE    06:00:00  2017-01-01 06:00:00   \n",
       "3    101581    GEDAHEZ   NYABIMATA-HUYE    06:00:00  2017-01-01 06:00:00   \n",
       "4    101582  IRIDEFOSE      MUNINI-HUYE    06:00:00  2017-01-01 06:00:00   \n",
       "\n",
       "  PlateNo            TimeStamp  1700  MP220150900287            AgentName  1  \\\n",
       "0  GR827C  2017-01-01 05:14:23   800  MP220150900277        SHUMBUSHO JMV  1   \n",
       "1  GR827C  2017-01-01 05:14:46  1200  MP220150900014  MUNYAMPUNDU VENUSTE  1   \n",
       "2  GR827C  2017-01-01 05:15:33  1200  MP220150900014  MUNYAMPUNDU VENUSTE  1   \n",
       "3  GR827C  2017-01-01 05:15:55  1700  MP220150900277        SHUMBUSHO JMV  1   \n",
       "4  GR827C  2017-01-01 05:16:57  1200  MP220150900014  MUNYAMPUNDU VENUSTE  1   \n",
       "\n",
       "   0  0.1  1.1  \n",
       "0  0    0    1  \n",
       "1  0    0    1  \n",
       "2  0    0    1  \n",
       "3  0    0    1  \n",
       "4  0    0    1  "
      ]
     },
     "execution_count": 28,
     "metadata": {},
     "output_type": "execute_result"
    }
   ],
   "source": [
    "df.head()\n"
   ]
  },
  {
   "cell_type": "code",
   "execution_count": 29,
   "metadata": {},
   "outputs": [],
   "source": [
    "old_names = ['1700'] \n",
    "new_names = ['Fare']\n",
    "df.rename(columns=dict(zip(old_names, new_names)), inplace=True)"
   ]
  },
  {
   "cell_type": "code",
   "execution_count": 30,
   "metadata": {},
   "outputs": [
    {
     "data": {
      "text/plain": [
       "Index(['TicketNo', 'Client', 'Route', 'TimeofRoute', '2017-01-01 05:30:00',\n",
       "       'PlateNo', 'TimeStamp', 'Fare', 'MP220150900287', 'AgentName', '1', '0',\n",
       "       '0.1', '1.1'],\n",
       "      dtype='object')"
      ]
     },
     "execution_count": 30,
     "metadata": {},
     "output_type": "execute_result"
    }
   ],
   "source": [
    "df.columns\n"
   ]
  },
  {
   "cell_type": "code",
   "execution_count": 32,
   "metadata": {},
   "outputs": [],
   "source": [
    "old_names = ['2017-01-01 05:30:00'] \n",
    "new_names = ['TimeStampOfRoute']\n",
    "df.rename(columns=dict(zip(old_names, new_names)), inplace=True)\n",
    "             "
   ]
  },
  {
   "cell_type": "code",
   "execution_count": 33,
   "metadata": {},
   "outputs": [
    {
     "data": {
      "text/plain": [
       "Index(['TicketNo', 'Client', 'Route', 'TimeofRoute', 'TimeStampOfRoute',\n",
       "       'PlateNo', 'TimeStamp', 'Fare', 'MP220150900287', 'AgentName', '1', '0',\n",
       "       '0.1', '1.1'],\n",
       "      dtype='object')"
      ]
     },
     "execution_count": 33,
     "metadata": {},
     "output_type": "execute_result"
    }
   ],
   "source": [
    "df.columns\n"
   ]
  },
  {
   "cell_type": "code",
   "execution_count": 34,
   "metadata": {},
   "outputs": [],
   "source": [
    "old_names = ['TimeStamp'] \n",
    "new_names = ['TimeStampOfTicket']\n",
    "df.rename(columns=dict(zip(old_names, new_names)), inplace=True)\n",
    "\n",
    "             "
   ]
  },
  {
   "cell_type": "code",
   "execution_count": 35,
   "metadata": {},
   "outputs": [
    {
     "data": {
      "text/plain": [
       "Index(['TicketNo', 'Client', 'Route', 'TimeofRoute', 'TimeStampOfRoute',\n",
       "       'PlateNo', 'TimeStampOfTicket', 'Fare', 'MP220150900287', 'AgentName',\n",
       "       '1', '0', '0.1', '1.1'],\n",
       "      dtype='object')"
      ]
     },
     "execution_count": 35,
     "metadata": {},
     "output_type": "execute_result"
    }
   ],
   "source": [
    "df.columns\n",
    "\n"
   ]
  },
  {
   "cell_type": "code",
   "execution_count": 36,
   "metadata": {},
   "outputs": [],
   "source": [
    "old_names = ['MP220150900287'] \n",
    "new_names = ['POSMachine']\n",
    "df.rename(columns=dict(zip(old_names, new_names)), inplace=True)"
   ]
  },
  {
   "cell_type": "code",
   "execution_count": 37,
   "metadata": {},
   "outputs": [
    {
     "data": {
      "text/plain": [
       "Index(['TicketNo', 'Client', 'Route', 'TimeofRoute', 'TimeStampOfRoute',\n",
       "       'PlateNo', 'TimeStampOfTicket', 'Fare', 'POSMachine', 'AgentName', '1',\n",
       "       '0', '0.1', '1.1'],\n",
       "      dtype='object')"
      ]
     },
     "execution_count": 37,
     "metadata": {},
     "output_type": "execute_result"
    }
   ],
   "source": [
    "df.columns\n"
   ]
  },
  {
   "cell_type": "code",
   "execution_count": 38,
   "metadata": {},
   "outputs": [
    {
     "data": {
      "text/html": [
       "<div>\n",
       "<style scoped>\n",
       "    .dataframe tbody tr th:only-of-type {\n",
       "        vertical-align: middle;\n",
       "    }\n",
       "\n",
       "    .dataframe tbody tr th {\n",
       "        vertical-align: top;\n",
       "    }\n",
       "\n",
       "    .dataframe thead th {\n",
       "        text-align: right;\n",
       "    }\n",
       "</style>\n",
       "<table border=\"1\" class=\"dataframe\">\n",
       "  <thead>\n",
       "    <tr style=\"text-align: right;\">\n",
       "      <th></th>\n",
       "      <th>TicketNo</th>\n",
       "      <th>Client</th>\n",
       "      <th>Route</th>\n",
       "      <th>TimeofRoute</th>\n",
       "      <th>TimeStampOfRoute</th>\n",
       "      <th>PlateNo</th>\n",
       "      <th>TimeStampOfTicket</th>\n",
       "      <th>Fare</th>\n",
       "      <th>POSMachine</th>\n",
       "      <th>AgentName</th>\n",
       "      <th>1</th>\n",
       "      <th>0</th>\n",
       "      <th>0.1</th>\n",
       "      <th>1.1</th>\n",
       "    </tr>\n",
       "  </thead>\n",
       "  <tbody>\n",
       "    <tr>\n",
       "      <th>0</th>\n",
       "      <td>101578</td>\n",
       "      <td>JMV</td>\n",
       "      <td>NYABIMATA-NDAGO</td>\n",
       "      <td>06:00:00</td>\n",
       "      <td>2017-01-01 06:00:00</td>\n",
       "      <td>GR827C</td>\n",
       "      <td>2017-01-01 05:14:23</td>\n",
       "      <td>800</td>\n",
       "      <td>MP220150900277</td>\n",
       "      <td>SHUMBUSHO JMV</td>\n",
       "      <td>1</td>\n",
       "      <td>0</td>\n",
       "      <td>0</td>\n",
       "      <td>1</td>\n",
       "    </tr>\n",
       "    <tr>\n",
       "      <th>1</th>\n",
       "      <td>101579</td>\n",
       "      <td>URAYENEZA</td>\n",
       "      <td>MUNINI-HUYE</td>\n",
       "      <td>06:00:00</td>\n",
       "      <td>2017-01-01 06:00:00</td>\n",
       "      <td>GR827C</td>\n",
       "      <td>2017-01-01 05:14:46</td>\n",
       "      <td>1200</td>\n",
       "      <td>MP220150900014</td>\n",
       "      <td>MUNYAMPUNDU VENUSTE</td>\n",
       "      <td>1</td>\n",
       "      <td>0</td>\n",
       "      <td>0</td>\n",
       "      <td>1</td>\n",
       "    </tr>\n",
       "    <tr>\n",
       "      <th>2</th>\n",
       "      <td>101580</td>\n",
       "      <td>IMACLE</td>\n",
       "      <td>MUNINI-HUYE</td>\n",
       "      <td>06:00:00</td>\n",
       "      <td>2017-01-01 06:00:00</td>\n",
       "      <td>GR827C</td>\n",
       "      <td>2017-01-01 05:15:33</td>\n",
       "      <td>1200</td>\n",
       "      <td>MP220150900014</td>\n",
       "      <td>MUNYAMPUNDU VENUSTE</td>\n",
       "      <td>1</td>\n",
       "      <td>0</td>\n",
       "      <td>0</td>\n",
       "      <td>1</td>\n",
       "    </tr>\n",
       "    <tr>\n",
       "      <th>3</th>\n",
       "      <td>101581</td>\n",
       "      <td>GEDAHEZ</td>\n",
       "      <td>NYABIMATA-HUYE</td>\n",
       "      <td>06:00:00</td>\n",
       "      <td>2017-01-01 06:00:00</td>\n",
       "      <td>GR827C</td>\n",
       "      <td>2017-01-01 05:15:55</td>\n",
       "      <td>1700</td>\n",
       "      <td>MP220150900277</td>\n",
       "      <td>SHUMBUSHO JMV</td>\n",
       "      <td>1</td>\n",
       "      <td>0</td>\n",
       "      <td>0</td>\n",
       "      <td>1</td>\n",
       "    </tr>\n",
       "    <tr>\n",
       "      <th>4</th>\n",
       "      <td>101582</td>\n",
       "      <td>IRIDEFOSE</td>\n",
       "      <td>MUNINI-HUYE</td>\n",
       "      <td>06:00:00</td>\n",
       "      <td>2017-01-01 06:00:00</td>\n",
       "      <td>GR827C</td>\n",
       "      <td>2017-01-01 05:16:57</td>\n",
       "      <td>1200</td>\n",
       "      <td>MP220150900014</td>\n",
       "      <td>MUNYAMPUNDU VENUSTE</td>\n",
       "      <td>1</td>\n",
       "      <td>0</td>\n",
       "      <td>0</td>\n",
       "      <td>1</td>\n",
       "    </tr>\n",
       "  </tbody>\n",
       "</table>\n",
       "</div>"
      ],
      "text/plain": [
       "   TicketNo     Client            Route TimeofRoute     TimeStampOfRoute  \\\n",
       "0    101578        JMV  NYABIMATA-NDAGO    06:00:00  2017-01-01 06:00:00   \n",
       "1    101579  URAYENEZA      MUNINI-HUYE    06:00:00  2017-01-01 06:00:00   \n",
       "2    101580     IMACLE      MUNINI-HUYE    06:00:00  2017-01-01 06:00:00   \n",
       "3    101581    GEDAHEZ   NYABIMATA-HUYE    06:00:00  2017-01-01 06:00:00   \n",
       "4    101582  IRIDEFOSE      MUNINI-HUYE    06:00:00  2017-01-01 06:00:00   \n",
       "\n",
       "  PlateNo    TimeStampOfTicket  Fare      POSMachine            AgentName  1  \\\n",
       "0  GR827C  2017-01-01 05:14:23   800  MP220150900277        SHUMBUSHO JMV  1   \n",
       "1  GR827C  2017-01-01 05:14:46  1200  MP220150900014  MUNYAMPUNDU VENUSTE  1   \n",
       "2  GR827C  2017-01-01 05:15:33  1200  MP220150900014  MUNYAMPUNDU VENUSTE  1   \n",
       "3  GR827C  2017-01-01 05:15:55  1700  MP220150900277        SHUMBUSHO JMV  1   \n",
       "4  GR827C  2017-01-01 05:16:57  1200  MP220150900014  MUNYAMPUNDU VENUSTE  1   \n",
       "\n",
       "   0  0.1  1.1  \n",
       "0  0    0    1  \n",
       "1  0    0    1  \n",
       "2  0    0    1  \n",
       "3  0    0    1  \n",
       "4  0    0    1  "
      ]
     },
     "execution_count": 38,
     "metadata": {},
     "output_type": "execute_result"
    }
   ],
   "source": [
    "df.head()"
   ]
  },
  {
   "cell_type": "code",
   "execution_count": 40,
   "metadata": {},
   "outputs": [],
   "source": [
    "df[\"TimeStampOfTicket\"]=pd.to_datetime(df.TimeStampOfTicket)"
   ]
  },
  {
   "cell_type": "code",
   "execution_count": 41,
   "metadata": {},
   "outputs": [
    {
     "data": {
      "text/html": [
       "<div>\n",
       "<style scoped>\n",
       "    .dataframe tbody tr th:only-of-type {\n",
       "        vertical-align: middle;\n",
       "    }\n",
       "\n",
       "    .dataframe tbody tr th {\n",
       "        vertical-align: top;\n",
       "    }\n",
       "\n",
       "    .dataframe thead th {\n",
       "        text-align: right;\n",
       "    }\n",
       "</style>\n",
       "<table border=\"1\" class=\"dataframe\">\n",
       "  <thead>\n",
       "    <tr style=\"text-align: right;\">\n",
       "      <th></th>\n",
       "      <th>TicketNo</th>\n",
       "      <th>Client</th>\n",
       "      <th>Route</th>\n",
       "      <th>TimeofRoute</th>\n",
       "      <th>TimeStampOfRoute</th>\n",
       "      <th>PlateNo</th>\n",
       "      <th>TimeStampOfTicket</th>\n",
       "      <th>Fare</th>\n",
       "      <th>POSMachine</th>\n",
       "      <th>AgentName</th>\n",
       "      <th>1</th>\n",
       "      <th>0</th>\n",
       "      <th>0.1</th>\n",
       "      <th>1.1</th>\n",
       "    </tr>\n",
       "  </thead>\n",
       "  <tbody>\n",
       "    <tr>\n",
       "      <th>1775071</th>\n",
       "      <td>3022584</td>\n",
       "      <td>SAMU</td>\n",
       "      <td>MUSANZE-RUBAVU</td>\n",
       "      <td>20:15:00</td>\n",
       "      <td>2017-12-31 20:15:00</td>\n",
       "      <td>RAD585J</td>\n",
       "      <td>2017-12-31 20:16:03</td>\n",
       "      <td>1180</td>\n",
       "      <td>IMEI359128046011793</td>\n",
       "      <td>INGABIRE NADIA</td>\n",
       "      <td>1</td>\n",
       "      <td>0</td>\n",
       "      <td>0</td>\n",
       "      <td>1</td>\n",
       "    </tr>\n",
       "    <tr>\n",
       "      <th>1775072</th>\n",
       "      <td>3022587</td>\n",
       "      <td>EDMOND</td>\n",
       "      <td>MUSANZE-RUBAVU</td>\n",
       "      <td>20:15:00</td>\n",
       "      <td>2017-12-31 20:15:00</td>\n",
       "      <td>RAD585J</td>\n",
       "      <td>2017-12-31 20:17:46</td>\n",
       "      <td>1180</td>\n",
       "      <td>IMEI359128046011793</td>\n",
       "      <td>INGABIRE NADIA</td>\n",
       "      <td>1</td>\n",
       "      <td>0</td>\n",
       "      <td>0</td>\n",
       "      <td>1</td>\n",
       "    </tr>\n",
       "    <tr>\n",
       "      <th>1775073</th>\n",
       "      <td>3022588</td>\n",
       "      <td>EDMOND</td>\n",
       "      <td>MUSANZE-RUBAVU</td>\n",
       "      <td>20:15:00</td>\n",
       "      <td>2017-12-31 20:15:00</td>\n",
       "      <td>RAD585J</td>\n",
       "      <td>2017-12-31 20:18:01</td>\n",
       "      <td>1180</td>\n",
       "      <td>IMEI359128046011793</td>\n",
       "      <td>INGABIRE NADIA</td>\n",
       "      <td>1</td>\n",
       "      <td>0</td>\n",
       "      <td>0</td>\n",
       "      <td>1</td>\n",
       "    </tr>\n",
       "    <tr>\n",
       "      <th>1775074</th>\n",
       "      <td>3022590</td>\n",
       "      <td>ALLY</td>\n",
       "      <td>MUSANZE-RUBAVU</td>\n",
       "      <td>20:15:00</td>\n",
       "      <td>2017-12-31 20:15:00</td>\n",
       "      <td>RAD585J</td>\n",
       "      <td>2017-12-31 20:19:25</td>\n",
       "      <td>1180</td>\n",
       "      <td>IMEI359128046011793</td>\n",
       "      <td>INGABIRE NADIA</td>\n",
       "      <td>1</td>\n",
       "      <td>0</td>\n",
       "      <td>0</td>\n",
       "      <td>1</td>\n",
       "    </tr>\n",
       "    <tr>\n",
       "      <th>1775075</th>\n",
       "      <td>3022645</td>\n",
       "      <td>ANJE</td>\n",
       "      <td>BUMAZI-KIGALI</td>\n",
       "      <td>14:00:00</td>\n",
       "      <td>2017-12-31 14:00:00</td>\n",
       "      <td>RAD204K</td>\n",
       "      <td>2017-12-31 21:54:05</td>\n",
       "      <td>4000</td>\n",
       "      <td>MP220150900325</td>\n",
       "      <td>SIBOMANA Aimable</td>\n",
       "      <td>1</td>\n",
       "      <td>0</td>\n",
       "      <td>0</td>\n",
       "      <td>1</td>\n",
       "    </tr>\n",
       "  </tbody>\n",
       "</table>\n",
       "</div>"
      ],
      "text/plain": [
       "         TicketNo  Client           Route TimeofRoute     TimeStampOfRoute  \\\n",
       "1775071   3022584    SAMU  MUSANZE-RUBAVU    20:15:00  2017-12-31 20:15:00   \n",
       "1775072   3022587  EDMOND  MUSANZE-RUBAVU    20:15:00  2017-12-31 20:15:00   \n",
       "1775073   3022588  EDMOND  MUSANZE-RUBAVU    20:15:00  2017-12-31 20:15:00   \n",
       "1775074   3022590    ALLY  MUSANZE-RUBAVU    20:15:00  2017-12-31 20:15:00   \n",
       "1775075   3022645    ANJE   BUMAZI-KIGALI    14:00:00  2017-12-31 14:00:00   \n",
       "\n",
       "         PlateNo   TimeStampOfTicket  Fare           POSMachine  \\\n",
       "1775071  RAD585J 2017-12-31 20:16:03  1180  IMEI359128046011793   \n",
       "1775072  RAD585J 2017-12-31 20:17:46  1180  IMEI359128046011793   \n",
       "1775073  RAD585J 2017-12-31 20:18:01  1180  IMEI359128046011793   \n",
       "1775074  RAD585J 2017-12-31 20:19:25  1180  IMEI359128046011793   \n",
       "1775075  RAD204K 2017-12-31 21:54:05  4000       MP220150900325   \n",
       "\n",
       "                AgentName  1  0  0.1  1.1  \n",
       "1775071    INGABIRE NADIA  1  0    0    1  \n",
       "1775072    INGABIRE NADIA  1  0    0    1  \n",
       "1775073    INGABIRE NADIA  1  0    0    1  \n",
       "1775074    INGABIRE NADIA  1  0    0    1  \n",
       "1775075  SIBOMANA Aimable  1  0    0    1  "
      ]
     },
     "execution_count": 41,
     "metadata": {},
     "output_type": "execute_result"
    }
   ],
   "source": [
    "df.tail()"
   ]
  },
  {
   "cell_type": "code",
   "execution_count": 42,
   "metadata": {},
   "outputs": [
    {
     "data": {
      "text/plain": [
       "TicketNo                      int64\n",
       "Client                       object\n",
       "Route                        object\n",
       "TimeofRoute                  object\n",
       "TimeStampOfRoute             object\n",
       "PlateNo                      object\n",
       "TimeStampOfTicket    datetime64[ns]\n",
       "Fare                          int64\n",
       "POSMachine                   object\n",
       "AgentName                    object\n",
       "1                             int64\n",
       "0                             int64\n",
       "0.1                           int64\n",
       "1.1                           int64\n",
       "dtype: object"
      ]
     },
     "execution_count": 42,
     "metadata": {},
     "output_type": "execute_result"
    }
   ],
   "source": [
    "df.dtypes"
   ]
  },
  {
   "cell_type": "code",
   "execution_count": 43,
   "metadata": {},
   "outputs": [],
   "source": [
    "df[\"TimeStampOfRoute\"]=pd.to_datetime(df.TimeStampOfRoute, errors='ignore')\n"
   ]
  },
  {
   "cell_type": "code",
   "execution_count": 44,
   "metadata": {},
   "outputs": [
    {
     "data": {
      "text/plain": [
       "TicketNo                      int64\n",
       "Client                       object\n",
       "Route                        object\n",
       "TimeofRoute                  object\n",
       "TimeStampOfRoute             object\n",
       "PlateNo                      object\n",
       "TimeStampOfTicket    datetime64[ns]\n",
       "Fare                          int64\n",
       "POSMachine                   object\n",
       "AgentName                    object\n",
       "1                             int64\n",
       "0                             int64\n",
       "0.1                           int64\n",
       "1.1                           int64\n",
       "dtype: object"
      ]
     },
     "execution_count": 44,
     "metadata": {},
     "output_type": "execute_result"
    }
   ],
   "source": [
    "df.dtypes"
   ]
  },
  {
   "cell_type": "code",
   "execution_count": 45,
   "metadata": {},
   "outputs": [
    {
     "data": {
      "text/html": [
       "<div>\n",
       "<style scoped>\n",
       "    .dataframe tbody tr th:only-of-type {\n",
       "        vertical-align: middle;\n",
       "    }\n",
       "\n",
       "    .dataframe tbody tr th {\n",
       "        vertical-align: top;\n",
       "    }\n",
       "\n",
       "    .dataframe thead th {\n",
       "        text-align: right;\n",
       "    }\n",
       "</style>\n",
       "<table border=\"1\" class=\"dataframe\">\n",
       "  <thead>\n",
       "    <tr style=\"text-align: right;\">\n",
       "      <th></th>\n",
       "      <th>TicketNo</th>\n",
       "      <th>Client</th>\n",
       "      <th>Route</th>\n",
       "      <th>TimeofRoute</th>\n",
       "      <th>TimeStampOfRoute</th>\n",
       "      <th>PlateNo</th>\n",
       "      <th>TimeStampOfTicket</th>\n",
       "      <th>Fare</th>\n",
       "      <th>POSMachine</th>\n",
       "      <th>AgentName</th>\n",
       "      <th>1</th>\n",
       "      <th>0</th>\n",
       "      <th>0.1</th>\n",
       "      <th>1.1</th>\n",
       "    </tr>\n",
       "  </thead>\n",
       "  <tbody>\n",
       "    <tr>\n",
       "      <th>0</th>\n",
       "      <td>101578</td>\n",
       "      <td>JMV</td>\n",
       "      <td>NYABIMATA-NDAGO</td>\n",
       "      <td>06:00:00</td>\n",
       "      <td>2017-01-01 06:00:00</td>\n",
       "      <td>GR827C</td>\n",
       "      <td>2017-01-01 05:14:23</td>\n",
       "      <td>800</td>\n",
       "      <td>MP220150900277</td>\n",
       "      <td>SHUMBUSHO JMV</td>\n",
       "      <td>1</td>\n",
       "      <td>0</td>\n",
       "      <td>0</td>\n",
       "      <td>1</td>\n",
       "    </tr>\n",
       "    <tr>\n",
       "      <th>1</th>\n",
       "      <td>101579</td>\n",
       "      <td>URAYENEZA</td>\n",
       "      <td>MUNINI-HUYE</td>\n",
       "      <td>06:00:00</td>\n",
       "      <td>2017-01-01 06:00:00</td>\n",
       "      <td>GR827C</td>\n",
       "      <td>2017-01-01 05:14:46</td>\n",
       "      <td>1200</td>\n",
       "      <td>MP220150900014</td>\n",
       "      <td>MUNYAMPUNDU VENUSTE</td>\n",
       "      <td>1</td>\n",
       "      <td>0</td>\n",
       "      <td>0</td>\n",
       "      <td>1</td>\n",
       "    </tr>\n",
       "    <tr>\n",
       "      <th>2</th>\n",
       "      <td>101580</td>\n",
       "      <td>IMACLE</td>\n",
       "      <td>MUNINI-HUYE</td>\n",
       "      <td>06:00:00</td>\n",
       "      <td>2017-01-01 06:00:00</td>\n",
       "      <td>GR827C</td>\n",
       "      <td>2017-01-01 05:15:33</td>\n",
       "      <td>1200</td>\n",
       "      <td>MP220150900014</td>\n",
       "      <td>MUNYAMPUNDU VENUSTE</td>\n",
       "      <td>1</td>\n",
       "      <td>0</td>\n",
       "      <td>0</td>\n",
       "      <td>1</td>\n",
       "    </tr>\n",
       "    <tr>\n",
       "      <th>3</th>\n",
       "      <td>101581</td>\n",
       "      <td>GEDAHEZ</td>\n",
       "      <td>NYABIMATA-HUYE</td>\n",
       "      <td>06:00:00</td>\n",
       "      <td>2017-01-01 06:00:00</td>\n",
       "      <td>GR827C</td>\n",
       "      <td>2017-01-01 05:15:55</td>\n",
       "      <td>1700</td>\n",
       "      <td>MP220150900277</td>\n",
       "      <td>SHUMBUSHO JMV</td>\n",
       "      <td>1</td>\n",
       "      <td>0</td>\n",
       "      <td>0</td>\n",
       "      <td>1</td>\n",
       "    </tr>\n",
       "    <tr>\n",
       "      <th>4</th>\n",
       "      <td>101582</td>\n",
       "      <td>IRIDEFOSE</td>\n",
       "      <td>MUNINI-HUYE</td>\n",
       "      <td>06:00:00</td>\n",
       "      <td>2017-01-01 06:00:00</td>\n",
       "      <td>GR827C</td>\n",
       "      <td>2017-01-01 05:16:57</td>\n",
       "      <td>1200</td>\n",
       "      <td>MP220150900014</td>\n",
       "      <td>MUNYAMPUNDU VENUSTE</td>\n",
       "      <td>1</td>\n",
       "      <td>0</td>\n",
       "      <td>0</td>\n",
       "      <td>1</td>\n",
       "    </tr>\n",
       "  </tbody>\n",
       "</table>\n",
       "</div>"
      ],
      "text/plain": [
       "   TicketNo     Client            Route TimeofRoute     TimeStampOfRoute  \\\n",
       "0    101578        JMV  NYABIMATA-NDAGO    06:00:00  2017-01-01 06:00:00   \n",
       "1    101579  URAYENEZA      MUNINI-HUYE    06:00:00  2017-01-01 06:00:00   \n",
       "2    101580     IMACLE      MUNINI-HUYE    06:00:00  2017-01-01 06:00:00   \n",
       "3    101581    GEDAHEZ   NYABIMATA-HUYE    06:00:00  2017-01-01 06:00:00   \n",
       "4    101582  IRIDEFOSE      MUNINI-HUYE    06:00:00  2017-01-01 06:00:00   \n",
       "\n",
       "  PlateNo   TimeStampOfTicket  Fare      POSMachine            AgentName  1  \\\n",
       "0  GR827C 2017-01-01 05:14:23   800  MP220150900277        SHUMBUSHO JMV  1   \n",
       "1  GR827C 2017-01-01 05:14:46  1200  MP220150900014  MUNYAMPUNDU VENUSTE  1   \n",
       "2  GR827C 2017-01-01 05:15:33  1200  MP220150900014  MUNYAMPUNDU VENUSTE  1   \n",
       "3  GR827C 2017-01-01 05:15:55  1700  MP220150900277        SHUMBUSHO JMV  1   \n",
       "4  GR827C 2017-01-01 05:16:57  1200  MP220150900014  MUNYAMPUNDU VENUSTE  1   \n",
       "\n",
       "   0  0.1  1.1  \n",
       "0  0    0    1  \n",
       "1  0    0    1  \n",
       "2  0    0    1  \n",
       "3  0    0    1  \n",
       "4  0    0    1  "
      ]
     },
     "execution_count": 45,
     "metadata": {},
     "output_type": "execute_result"
    }
   ],
   "source": [
    "df.head()"
   ]
  },
  {
   "cell_type": "code",
   "execution_count": 54,
   "metadata": {},
   "outputs": [
    {
     "data": {
      "text/plain": [
       "TicketNo                      int64\n",
       "Client                       object\n",
       "Route                        object\n",
       "TimeofRoute                  object\n",
       "TimeStampOfRoute             object\n",
       "PlateNo                      object\n",
       "TimeStampOfTicket    datetime64[ns]\n",
       "Fare                          int64\n",
       "POSMachine                   object\n",
       "AgentName                    object\n",
       "1                             int64\n",
       "0                             int64\n",
       "0.1                           int64\n",
       "1.1                           int64\n",
       "dtype: object"
      ]
     },
     "execution_count": 54,
     "metadata": {},
     "output_type": "execute_result"
    }
   ],
   "source": [
    "df.dtypes"
   ]
  },
  {
   "cell_type": "code",
   "execution_count": 56,
   "metadata": {},
   "outputs": [
    {
     "data": {
      "text/html": [
       "<div>\n",
       "<style scoped>\n",
       "    .dataframe tbody tr th:only-of-type {\n",
       "        vertical-align: middle;\n",
       "    }\n",
       "\n",
       "    .dataframe tbody tr th {\n",
       "        vertical-align: top;\n",
       "    }\n",
       "\n",
       "    .dataframe thead th {\n",
       "        text-align: right;\n",
       "    }\n",
       "</style>\n",
       "<table border=\"1\" class=\"dataframe\">\n",
       "  <thead>\n",
       "    <tr style=\"text-align: right;\">\n",
       "      <th></th>\n",
       "      <th>TicketNo</th>\n",
       "      <th>Client</th>\n",
       "      <th>Route</th>\n",
       "      <th>TimeofRoute</th>\n",
       "      <th>TimeStampOfRoute</th>\n",
       "      <th>PlateNo</th>\n",
       "      <th>TimeStampOfTicket</th>\n",
       "      <th>Fare</th>\n",
       "      <th>POSMachine</th>\n",
       "      <th>AgentName</th>\n",
       "      <th>1</th>\n",
       "      <th>0</th>\n",
       "      <th>0.1</th>\n",
       "      <th>1.1</th>\n",
       "    </tr>\n",
       "  </thead>\n",
       "  <tbody>\n",
       "    <tr>\n",
       "      <th>0</th>\n",
       "      <td>101578</td>\n",
       "      <td>JMV</td>\n",
       "      <td>NYABIMATA-NDAGO</td>\n",
       "      <td>06:00:00</td>\n",
       "      <td>2017-01-01 06:00:00</td>\n",
       "      <td>GR827C</td>\n",
       "      <td>2017-01-01 05:14:23</td>\n",
       "      <td>800</td>\n",
       "      <td>MP220150900277</td>\n",
       "      <td>SHUMBUSHO JMV</td>\n",
       "      <td>1</td>\n",
       "      <td>0</td>\n",
       "      <td>0</td>\n",
       "      <td>1</td>\n",
       "    </tr>\n",
       "    <tr>\n",
       "      <th>1</th>\n",
       "      <td>101579</td>\n",
       "      <td>URAYENEZA</td>\n",
       "      <td>MUNINI-HUYE</td>\n",
       "      <td>06:00:00</td>\n",
       "      <td>2017-01-01 06:00:00</td>\n",
       "      <td>GR827C</td>\n",
       "      <td>2017-01-01 05:14:46</td>\n",
       "      <td>1200</td>\n",
       "      <td>MP220150900014</td>\n",
       "      <td>MUNYAMPUNDU VENUSTE</td>\n",
       "      <td>1</td>\n",
       "      <td>0</td>\n",
       "      <td>0</td>\n",
       "      <td>1</td>\n",
       "    </tr>\n",
       "  </tbody>\n",
       "</table>\n",
       "</div>"
      ],
      "text/plain": [
       "   TicketNo     Client            Route TimeofRoute     TimeStampOfRoute  \\\n",
       "0    101578        JMV  NYABIMATA-NDAGO    06:00:00  2017-01-01 06:00:00   \n",
       "1    101579  URAYENEZA      MUNINI-HUYE    06:00:00  2017-01-01 06:00:00   \n",
       "\n",
       "  PlateNo   TimeStampOfTicket  Fare      POSMachine            AgentName  1  \\\n",
       "0  GR827C 2017-01-01 05:14:23   800  MP220150900277        SHUMBUSHO JMV  1   \n",
       "1  GR827C 2017-01-01 05:14:46  1200  MP220150900014  MUNYAMPUNDU VENUSTE  1   \n",
       "\n",
       "   0  0.1  1.1  \n",
       "0  0    0    1  \n",
       "1  0    0    1  "
      ]
     },
     "execution_count": 56,
     "metadata": {},
     "output_type": "execute_result"
    }
   ],
   "source": [
    "df.head(2)"
   ]
  },
  {
   "cell_type": "code",
   "execution_count": 58,
   "metadata": {},
   "outputs": [],
   "source": [
    "df2=~(df[\"TimeofRoute\"].str.contains(\"00\"))"
   ]
  },
  {
   "cell_type": "code",
   "execution_count": 59,
   "metadata": {},
   "outputs": [
    {
     "data": {
      "text/plain": [
       "1775076"
      ]
     },
     "execution_count": 59,
     "metadata": {},
     "output_type": "execute_result"
    }
   ],
   "source": [
    "df2.count()"
   ]
  },
  {
   "cell_type": "code",
   "execution_count": 61,
   "metadata": {},
   "outputs": [],
   "source": [
    "df['NumericalMonth']=df.TimeStampOfTicket.dt.month"
   ]
  },
  {
   "cell_type": "code",
   "execution_count": 64,
   "metadata": {},
   "outputs": [
    {
     "data": {
      "text/html": [
       "<div>\n",
       "<style scoped>\n",
       "    .dataframe tbody tr th:only-of-type {\n",
       "        vertical-align: middle;\n",
       "    }\n",
       "\n",
       "    .dataframe tbody tr th {\n",
       "        vertical-align: top;\n",
       "    }\n",
       "\n",
       "    .dataframe thead th {\n",
       "        text-align: right;\n",
       "    }\n",
       "</style>\n",
       "<table border=\"1\" class=\"dataframe\">\n",
       "  <thead>\n",
       "    <tr style=\"text-align: right;\">\n",
       "      <th></th>\n",
       "      <th>TicketNo</th>\n",
       "      <th>Client</th>\n",
       "      <th>Route</th>\n",
       "      <th>TimeofRoute</th>\n",
       "      <th>TimeStampOfRoute</th>\n",
       "      <th>PlateNo</th>\n",
       "      <th>TimeStampOfTicket</th>\n",
       "      <th>Fare</th>\n",
       "      <th>POSMachine</th>\n",
       "      <th>AgentName</th>\n",
       "      <th>1</th>\n",
       "      <th>0</th>\n",
       "      <th>0.1</th>\n",
       "      <th>1.1</th>\n",
       "      <th>NumericalMonth</th>\n",
       "    </tr>\n",
       "  </thead>\n",
       "  <tbody>\n",
       "    <tr>\n",
       "      <th>1775074</th>\n",
       "      <td>3022590</td>\n",
       "      <td>ALLY</td>\n",
       "      <td>MUSANZE-RUBAVU</td>\n",
       "      <td>20:15:00</td>\n",
       "      <td>2017-12-31 20:15:00</td>\n",
       "      <td>RAD585J</td>\n",
       "      <td>2017-12-31 20:19:25</td>\n",
       "      <td>1180</td>\n",
       "      <td>IMEI359128046011793</td>\n",
       "      <td>INGABIRE NADIA</td>\n",
       "      <td>1</td>\n",
       "      <td>0</td>\n",
       "      <td>0</td>\n",
       "      <td>1</td>\n",
       "      <td>12</td>\n",
       "    </tr>\n",
       "    <tr>\n",
       "      <th>1775075</th>\n",
       "      <td>3022645</td>\n",
       "      <td>ANJE</td>\n",
       "      <td>BUMAZI-KIGALI</td>\n",
       "      <td>14:00:00</td>\n",
       "      <td>2017-12-31 14:00:00</td>\n",
       "      <td>RAD204K</td>\n",
       "      <td>2017-12-31 21:54:05</td>\n",
       "      <td>4000</td>\n",
       "      <td>MP220150900325</td>\n",
       "      <td>SIBOMANA Aimable</td>\n",
       "      <td>1</td>\n",
       "      <td>0</td>\n",
       "      <td>0</td>\n",
       "      <td>1</td>\n",
       "      <td>12</td>\n",
       "    </tr>\n",
       "  </tbody>\n",
       "</table>\n",
       "</div>"
      ],
      "text/plain": [
       "         TicketNo Client           Route TimeofRoute     TimeStampOfRoute  \\\n",
       "1775074   3022590   ALLY  MUSANZE-RUBAVU    20:15:00  2017-12-31 20:15:00   \n",
       "1775075   3022645   ANJE   BUMAZI-KIGALI    14:00:00  2017-12-31 14:00:00   \n",
       "\n",
       "         PlateNo   TimeStampOfTicket  Fare           POSMachine  \\\n",
       "1775074  RAD585J 2017-12-31 20:19:25  1180  IMEI359128046011793   \n",
       "1775075  RAD204K 2017-12-31 21:54:05  4000       MP220150900325   \n",
       "\n",
       "                AgentName  1  0  0.1  1.1  NumericalMonth  \n",
       "1775074    INGABIRE NADIA  1  0    0    1              12  \n",
       "1775075  SIBOMANA Aimable  1  0    0    1              12  "
      ]
     },
     "execution_count": 64,
     "metadata": {},
     "output_type": "execute_result"
    }
   ],
   "source": [
    "df.tail(2)"
   ]
  },
  {
   "cell_type": "code",
   "execution_count": 67,
   "metadata": {},
   "outputs": [],
   "source": [
    "df['StringMonth'] = df['NumericalMonth'].apply(lambda x: calendar.month_name[x])"
   ]
  },
  {
   "cell_type": "code",
   "execution_count": 68,
   "metadata": {},
   "outputs": [
    {
     "data": {
      "text/html": [
       "<div>\n",
       "<style scoped>\n",
       "    .dataframe tbody tr th:only-of-type {\n",
       "        vertical-align: middle;\n",
       "    }\n",
       "\n",
       "    .dataframe tbody tr th {\n",
       "        vertical-align: top;\n",
       "    }\n",
       "\n",
       "    .dataframe thead th {\n",
       "        text-align: right;\n",
       "    }\n",
       "</style>\n",
       "<table border=\"1\" class=\"dataframe\">\n",
       "  <thead>\n",
       "    <tr style=\"text-align: right;\">\n",
       "      <th></th>\n",
       "      <th>TicketNo</th>\n",
       "      <th>Client</th>\n",
       "      <th>Route</th>\n",
       "      <th>TimeofRoute</th>\n",
       "      <th>TimeStampOfRoute</th>\n",
       "      <th>PlateNo</th>\n",
       "      <th>TimeStampOfTicket</th>\n",
       "      <th>Fare</th>\n",
       "      <th>POSMachine</th>\n",
       "      <th>AgentName</th>\n",
       "      <th>1</th>\n",
       "      <th>0</th>\n",
       "      <th>0.1</th>\n",
       "      <th>1.1</th>\n",
       "      <th>NumericalMonth</th>\n",
       "      <th>StringMonth</th>\n",
       "    </tr>\n",
       "  </thead>\n",
       "  <tbody>\n",
       "    <tr>\n",
       "      <th>1775071</th>\n",
       "      <td>3022584</td>\n",
       "      <td>SAMU</td>\n",
       "      <td>MUSANZE-RUBAVU</td>\n",
       "      <td>20:15:00</td>\n",
       "      <td>2017-12-31 20:15:00</td>\n",
       "      <td>RAD585J</td>\n",
       "      <td>2017-12-31 20:16:03</td>\n",
       "      <td>1180</td>\n",
       "      <td>IMEI359128046011793</td>\n",
       "      <td>INGABIRE NADIA</td>\n",
       "      <td>1</td>\n",
       "      <td>0</td>\n",
       "      <td>0</td>\n",
       "      <td>1</td>\n",
       "      <td>12</td>\n",
       "      <td>December</td>\n",
       "    </tr>\n",
       "    <tr>\n",
       "      <th>1775072</th>\n",
       "      <td>3022587</td>\n",
       "      <td>EDMOND</td>\n",
       "      <td>MUSANZE-RUBAVU</td>\n",
       "      <td>20:15:00</td>\n",
       "      <td>2017-12-31 20:15:00</td>\n",
       "      <td>RAD585J</td>\n",
       "      <td>2017-12-31 20:17:46</td>\n",
       "      <td>1180</td>\n",
       "      <td>IMEI359128046011793</td>\n",
       "      <td>INGABIRE NADIA</td>\n",
       "      <td>1</td>\n",
       "      <td>0</td>\n",
       "      <td>0</td>\n",
       "      <td>1</td>\n",
       "      <td>12</td>\n",
       "      <td>December</td>\n",
       "    </tr>\n",
       "    <tr>\n",
       "      <th>1775073</th>\n",
       "      <td>3022588</td>\n",
       "      <td>EDMOND</td>\n",
       "      <td>MUSANZE-RUBAVU</td>\n",
       "      <td>20:15:00</td>\n",
       "      <td>2017-12-31 20:15:00</td>\n",
       "      <td>RAD585J</td>\n",
       "      <td>2017-12-31 20:18:01</td>\n",
       "      <td>1180</td>\n",
       "      <td>IMEI359128046011793</td>\n",
       "      <td>INGABIRE NADIA</td>\n",
       "      <td>1</td>\n",
       "      <td>0</td>\n",
       "      <td>0</td>\n",
       "      <td>1</td>\n",
       "      <td>12</td>\n",
       "      <td>December</td>\n",
       "    </tr>\n",
       "    <tr>\n",
       "      <th>1775074</th>\n",
       "      <td>3022590</td>\n",
       "      <td>ALLY</td>\n",
       "      <td>MUSANZE-RUBAVU</td>\n",
       "      <td>20:15:00</td>\n",
       "      <td>2017-12-31 20:15:00</td>\n",
       "      <td>RAD585J</td>\n",
       "      <td>2017-12-31 20:19:25</td>\n",
       "      <td>1180</td>\n",
       "      <td>IMEI359128046011793</td>\n",
       "      <td>INGABIRE NADIA</td>\n",
       "      <td>1</td>\n",
       "      <td>0</td>\n",
       "      <td>0</td>\n",
       "      <td>1</td>\n",
       "      <td>12</td>\n",
       "      <td>December</td>\n",
       "    </tr>\n",
       "    <tr>\n",
       "      <th>1775075</th>\n",
       "      <td>3022645</td>\n",
       "      <td>ANJE</td>\n",
       "      <td>BUMAZI-KIGALI</td>\n",
       "      <td>14:00:00</td>\n",
       "      <td>2017-12-31 14:00:00</td>\n",
       "      <td>RAD204K</td>\n",
       "      <td>2017-12-31 21:54:05</td>\n",
       "      <td>4000</td>\n",
       "      <td>MP220150900325</td>\n",
       "      <td>SIBOMANA Aimable</td>\n",
       "      <td>1</td>\n",
       "      <td>0</td>\n",
       "      <td>0</td>\n",
       "      <td>1</td>\n",
       "      <td>12</td>\n",
       "      <td>December</td>\n",
       "    </tr>\n",
       "  </tbody>\n",
       "</table>\n",
       "</div>"
      ],
      "text/plain": [
       "         TicketNo  Client           Route TimeofRoute     TimeStampOfRoute  \\\n",
       "1775071   3022584    SAMU  MUSANZE-RUBAVU    20:15:00  2017-12-31 20:15:00   \n",
       "1775072   3022587  EDMOND  MUSANZE-RUBAVU    20:15:00  2017-12-31 20:15:00   \n",
       "1775073   3022588  EDMOND  MUSANZE-RUBAVU    20:15:00  2017-12-31 20:15:00   \n",
       "1775074   3022590    ALLY  MUSANZE-RUBAVU    20:15:00  2017-12-31 20:15:00   \n",
       "1775075   3022645    ANJE   BUMAZI-KIGALI    14:00:00  2017-12-31 14:00:00   \n",
       "\n",
       "         PlateNo   TimeStampOfTicket  Fare           POSMachine  \\\n",
       "1775071  RAD585J 2017-12-31 20:16:03  1180  IMEI359128046011793   \n",
       "1775072  RAD585J 2017-12-31 20:17:46  1180  IMEI359128046011793   \n",
       "1775073  RAD585J 2017-12-31 20:18:01  1180  IMEI359128046011793   \n",
       "1775074  RAD585J 2017-12-31 20:19:25  1180  IMEI359128046011793   \n",
       "1775075  RAD204K 2017-12-31 21:54:05  4000       MP220150900325   \n",
       "\n",
       "                AgentName  1  0  0.1  1.1  NumericalMonth StringMonth  \n",
       "1775071    INGABIRE NADIA  1  0    0    1              12    December  \n",
       "1775072    INGABIRE NADIA  1  0    0    1              12    December  \n",
       "1775073    INGABIRE NADIA  1  0    0    1              12    December  \n",
       "1775074    INGABIRE NADIA  1  0    0    1              12    December  \n",
       "1775075  SIBOMANA Aimable  1  0    0    1              12    December  "
      ]
     },
     "execution_count": 68,
     "metadata": {},
     "output_type": "execute_result"
    }
   ],
   "source": [
    "df.tail()"
   ]
  },
  {
   "cell_type": "code",
   "execution_count": 69,
   "metadata": {},
   "outputs": [],
   "source": [
    "df['WeekDay']= df.TimeStampOfTicket.dt.weekday_name"
   ]
  },
  {
   "cell_type": "code",
   "execution_count": 71,
   "metadata": {},
   "outputs": [
    {
     "data": {
      "text/html": [
       "<div>\n",
       "<style scoped>\n",
       "    .dataframe tbody tr th:only-of-type {\n",
       "        vertical-align: middle;\n",
       "    }\n",
       "\n",
       "    .dataframe tbody tr th {\n",
       "        vertical-align: top;\n",
       "    }\n",
       "\n",
       "    .dataframe thead th {\n",
       "        text-align: right;\n",
       "    }\n",
       "</style>\n",
       "<table border=\"1\" class=\"dataframe\">\n",
       "  <thead>\n",
       "    <tr style=\"text-align: right;\">\n",
       "      <th></th>\n",
       "      <th>TicketNo</th>\n",
       "      <th>Client</th>\n",
       "      <th>Route</th>\n",
       "      <th>TimeofRoute</th>\n",
       "      <th>TimeStampOfRoute</th>\n",
       "      <th>PlateNo</th>\n",
       "      <th>TimeStampOfTicket</th>\n",
       "      <th>Fare</th>\n",
       "      <th>POSMachine</th>\n",
       "      <th>AgentName</th>\n",
       "      <th>1</th>\n",
       "      <th>0</th>\n",
       "      <th>0.1</th>\n",
       "      <th>1.1</th>\n",
       "      <th>NumericalMonth</th>\n",
       "      <th>StringMonth</th>\n",
       "      <th>WeekDay</th>\n",
       "    </tr>\n",
       "  </thead>\n",
       "  <tbody>\n",
       "    <tr>\n",
       "      <th>1775071</th>\n",
       "      <td>3022584</td>\n",
       "      <td>SAMU</td>\n",
       "      <td>MUSANZE-RUBAVU</td>\n",
       "      <td>20:15:00</td>\n",
       "      <td>2017-12-31 20:15:00</td>\n",
       "      <td>RAD585J</td>\n",
       "      <td>2017-12-31 20:16:03</td>\n",
       "      <td>1180</td>\n",
       "      <td>IMEI359128046011793</td>\n",
       "      <td>INGABIRE NADIA</td>\n",
       "      <td>1</td>\n",
       "      <td>0</td>\n",
       "      <td>0</td>\n",
       "      <td>1</td>\n",
       "      <td>12</td>\n",
       "      <td>December</td>\n",
       "      <td>Sunday</td>\n",
       "    </tr>\n",
       "    <tr>\n",
       "      <th>1775072</th>\n",
       "      <td>3022587</td>\n",
       "      <td>EDMOND</td>\n",
       "      <td>MUSANZE-RUBAVU</td>\n",
       "      <td>20:15:00</td>\n",
       "      <td>2017-12-31 20:15:00</td>\n",
       "      <td>RAD585J</td>\n",
       "      <td>2017-12-31 20:17:46</td>\n",
       "      <td>1180</td>\n",
       "      <td>IMEI359128046011793</td>\n",
       "      <td>INGABIRE NADIA</td>\n",
       "      <td>1</td>\n",
       "      <td>0</td>\n",
       "      <td>0</td>\n",
       "      <td>1</td>\n",
       "      <td>12</td>\n",
       "      <td>December</td>\n",
       "      <td>Sunday</td>\n",
       "    </tr>\n",
       "    <tr>\n",
       "      <th>1775073</th>\n",
       "      <td>3022588</td>\n",
       "      <td>EDMOND</td>\n",
       "      <td>MUSANZE-RUBAVU</td>\n",
       "      <td>20:15:00</td>\n",
       "      <td>2017-12-31 20:15:00</td>\n",
       "      <td>RAD585J</td>\n",
       "      <td>2017-12-31 20:18:01</td>\n",
       "      <td>1180</td>\n",
       "      <td>IMEI359128046011793</td>\n",
       "      <td>INGABIRE NADIA</td>\n",
       "      <td>1</td>\n",
       "      <td>0</td>\n",
       "      <td>0</td>\n",
       "      <td>1</td>\n",
       "      <td>12</td>\n",
       "      <td>December</td>\n",
       "      <td>Sunday</td>\n",
       "    </tr>\n",
       "    <tr>\n",
       "      <th>1775074</th>\n",
       "      <td>3022590</td>\n",
       "      <td>ALLY</td>\n",
       "      <td>MUSANZE-RUBAVU</td>\n",
       "      <td>20:15:00</td>\n",
       "      <td>2017-12-31 20:15:00</td>\n",
       "      <td>RAD585J</td>\n",
       "      <td>2017-12-31 20:19:25</td>\n",
       "      <td>1180</td>\n",
       "      <td>IMEI359128046011793</td>\n",
       "      <td>INGABIRE NADIA</td>\n",
       "      <td>1</td>\n",
       "      <td>0</td>\n",
       "      <td>0</td>\n",
       "      <td>1</td>\n",
       "      <td>12</td>\n",
       "      <td>December</td>\n",
       "      <td>Sunday</td>\n",
       "    </tr>\n",
       "    <tr>\n",
       "      <th>1775075</th>\n",
       "      <td>3022645</td>\n",
       "      <td>ANJE</td>\n",
       "      <td>BUMAZI-KIGALI</td>\n",
       "      <td>14:00:00</td>\n",
       "      <td>2017-12-31 14:00:00</td>\n",
       "      <td>RAD204K</td>\n",
       "      <td>2017-12-31 21:54:05</td>\n",
       "      <td>4000</td>\n",
       "      <td>MP220150900325</td>\n",
       "      <td>SIBOMANA Aimable</td>\n",
       "      <td>1</td>\n",
       "      <td>0</td>\n",
       "      <td>0</td>\n",
       "      <td>1</td>\n",
       "      <td>12</td>\n",
       "      <td>December</td>\n",
       "      <td>Sunday</td>\n",
       "    </tr>\n",
       "  </tbody>\n",
       "</table>\n",
       "</div>"
      ],
      "text/plain": [
       "         TicketNo  Client           Route TimeofRoute     TimeStampOfRoute  \\\n",
       "1775071   3022584    SAMU  MUSANZE-RUBAVU    20:15:00  2017-12-31 20:15:00   \n",
       "1775072   3022587  EDMOND  MUSANZE-RUBAVU    20:15:00  2017-12-31 20:15:00   \n",
       "1775073   3022588  EDMOND  MUSANZE-RUBAVU    20:15:00  2017-12-31 20:15:00   \n",
       "1775074   3022590    ALLY  MUSANZE-RUBAVU    20:15:00  2017-12-31 20:15:00   \n",
       "1775075   3022645    ANJE   BUMAZI-KIGALI    14:00:00  2017-12-31 14:00:00   \n",
       "\n",
       "         PlateNo   TimeStampOfTicket  Fare           POSMachine  \\\n",
       "1775071  RAD585J 2017-12-31 20:16:03  1180  IMEI359128046011793   \n",
       "1775072  RAD585J 2017-12-31 20:17:46  1180  IMEI359128046011793   \n",
       "1775073  RAD585J 2017-12-31 20:18:01  1180  IMEI359128046011793   \n",
       "1775074  RAD585J 2017-12-31 20:19:25  1180  IMEI359128046011793   \n",
       "1775075  RAD204K 2017-12-31 21:54:05  4000       MP220150900325   \n",
       "\n",
       "                AgentName  1  0  0.1  1.1  NumericalMonth StringMonth WeekDay  \n",
       "1775071    INGABIRE NADIA  1  0    0    1              12    December  Sunday  \n",
       "1775072    INGABIRE NADIA  1  0    0    1              12    December  Sunday  \n",
       "1775073    INGABIRE NADIA  1  0    0    1              12    December  Sunday  \n",
       "1775074    INGABIRE NADIA  1  0    0    1              12    December  Sunday  \n",
       "1775075  SIBOMANA Aimable  1  0    0    1              12    December  Sunday  "
      ]
     },
     "execution_count": 71,
     "metadata": {},
     "output_type": "execute_result"
    }
   ],
   "source": [
    "df.tail()"
   ]
  },
  {
   "cell_type": "code",
   "execution_count": 72,
   "metadata": {},
   "outputs": [],
   "source": [
    "df['WeekOfMonth']=df['TimeStampOfTicket'].apply(lambda d: (d.day-1) // 7 + 1)"
   ]
  },
  {
   "cell_type": "code",
   "execution_count": 73,
   "metadata": {},
   "outputs": [
    {
     "data": {
      "text/html": [
       "<div>\n",
       "<style scoped>\n",
       "    .dataframe tbody tr th:only-of-type {\n",
       "        vertical-align: middle;\n",
       "    }\n",
       "\n",
       "    .dataframe tbody tr th {\n",
       "        vertical-align: top;\n",
       "    }\n",
       "\n",
       "    .dataframe thead th {\n",
       "        text-align: right;\n",
       "    }\n",
       "</style>\n",
       "<table border=\"1\" class=\"dataframe\">\n",
       "  <thead>\n",
       "    <tr style=\"text-align: right;\">\n",
       "      <th></th>\n",
       "      <th>TicketNo</th>\n",
       "      <th>Client</th>\n",
       "      <th>Route</th>\n",
       "      <th>TimeofRoute</th>\n",
       "      <th>TimeStampOfRoute</th>\n",
       "      <th>PlateNo</th>\n",
       "      <th>TimeStampOfTicket</th>\n",
       "      <th>Fare</th>\n",
       "      <th>POSMachine</th>\n",
       "      <th>AgentName</th>\n",
       "      <th>1</th>\n",
       "      <th>0</th>\n",
       "      <th>0.1</th>\n",
       "      <th>1.1</th>\n",
       "      <th>NumericalMonth</th>\n",
       "      <th>StringMonth</th>\n",
       "      <th>WeekDay</th>\n",
       "      <th>WeekOfMonth</th>\n",
       "    </tr>\n",
       "  </thead>\n",
       "  <tbody>\n",
       "    <tr>\n",
       "      <th>1775071</th>\n",
       "      <td>3022584</td>\n",
       "      <td>SAMU</td>\n",
       "      <td>MUSANZE-RUBAVU</td>\n",
       "      <td>20:15:00</td>\n",
       "      <td>2017-12-31 20:15:00</td>\n",
       "      <td>RAD585J</td>\n",
       "      <td>2017-12-31 20:16:03</td>\n",
       "      <td>1180</td>\n",
       "      <td>IMEI359128046011793</td>\n",
       "      <td>INGABIRE NADIA</td>\n",
       "      <td>1</td>\n",
       "      <td>0</td>\n",
       "      <td>0</td>\n",
       "      <td>1</td>\n",
       "      <td>12</td>\n",
       "      <td>December</td>\n",
       "      <td>Sunday</td>\n",
       "      <td>5</td>\n",
       "    </tr>\n",
       "    <tr>\n",
       "      <th>1775072</th>\n",
       "      <td>3022587</td>\n",
       "      <td>EDMOND</td>\n",
       "      <td>MUSANZE-RUBAVU</td>\n",
       "      <td>20:15:00</td>\n",
       "      <td>2017-12-31 20:15:00</td>\n",
       "      <td>RAD585J</td>\n",
       "      <td>2017-12-31 20:17:46</td>\n",
       "      <td>1180</td>\n",
       "      <td>IMEI359128046011793</td>\n",
       "      <td>INGABIRE NADIA</td>\n",
       "      <td>1</td>\n",
       "      <td>0</td>\n",
       "      <td>0</td>\n",
       "      <td>1</td>\n",
       "      <td>12</td>\n",
       "      <td>December</td>\n",
       "      <td>Sunday</td>\n",
       "      <td>5</td>\n",
       "    </tr>\n",
       "    <tr>\n",
       "      <th>1775073</th>\n",
       "      <td>3022588</td>\n",
       "      <td>EDMOND</td>\n",
       "      <td>MUSANZE-RUBAVU</td>\n",
       "      <td>20:15:00</td>\n",
       "      <td>2017-12-31 20:15:00</td>\n",
       "      <td>RAD585J</td>\n",
       "      <td>2017-12-31 20:18:01</td>\n",
       "      <td>1180</td>\n",
       "      <td>IMEI359128046011793</td>\n",
       "      <td>INGABIRE NADIA</td>\n",
       "      <td>1</td>\n",
       "      <td>0</td>\n",
       "      <td>0</td>\n",
       "      <td>1</td>\n",
       "      <td>12</td>\n",
       "      <td>December</td>\n",
       "      <td>Sunday</td>\n",
       "      <td>5</td>\n",
       "    </tr>\n",
       "    <tr>\n",
       "      <th>1775074</th>\n",
       "      <td>3022590</td>\n",
       "      <td>ALLY</td>\n",
       "      <td>MUSANZE-RUBAVU</td>\n",
       "      <td>20:15:00</td>\n",
       "      <td>2017-12-31 20:15:00</td>\n",
       "      <td>RAD585J</td>\n",
       "      <td>2017-12-31 20:19:25</td>\n",
       "      <td>1180</td>\n",
       "      <td>IMEI359128046011793</td>\n",
       "      <td>INGABIRE NADIA</td>\n",
       "      <td>1</td>\n",
       "      <td>0</td>\n",
       "      <td>0</td>\n",
       "      <td>1</td>\n",
       "      <td>12</td>\n",
       "      <td>December</td>\n",
       "      <td>Sunday</td>\n",
       "      <td>5</td>\n",
       "    </tr>\n",
       "    <tr>\n",
       "      <th>1775075</th>\n",
       "      <td>3022645</td>\n",
       "      <td>ANJE</td>\n",
       "      <td>BUMAZI-KIGALI</td>\n",
       "      <td>14:00:00</td>\n",
       "      <td>2017-12-31 14:00:00</td>\n",
       "      <td>RAD204K</td>\n",
       "      <td>2017-12-31 21:54:05</td>\n",
       "      <td>4000</td>\n",
       "      <td>MP220150900325</td>\n",
       "      <td>SIBOMANA Aimable</td>\n",
       "      <td>1</td>\n",
       "      <td>0</td>\n",
       "      <td>0</td>\n",
       "      <td>1</td>\n",
       "      <td>12</td>\n",
       "      <td>December</td>\n",
       "      <td>Sunday</td>\n",
       "      <td>5</td>\n",
       "    </tr>\n",
       "  </tbody>\n",
       "</table>\n",
       "</div>"
      ],
      "text/plain": [
       "         TicketNo  Client           Route TimeofRoute     TimeStampOfRoute  \\\n",
       "1775071   3022584    SAMU  MUSANZE-RUBAVU    20:15:00  2017-12-31 20:15:00   \n",
       "1775072   3022587  EDMOND  MUSANZE-RUBAVU    20:15:00  2017-12-31 20:15:00   \n",
       "1775073   3022588  EDMOND  MUSANZE-RUBAVU    20:15:00  2017-12-31 20:15:00   \n",
       "1775074   3022590    ALLY  MUSANZE-RUBAVU    20:15:00  2017-12-31 20:15:00   \n",
       "1775075   3022645    ANJE   BUMAZI-KIGALI    14:00:00  2017-12-31 14:00:00   \n",
       "\n",
       "         PlateNo   TimeStampOfTicket  Fare           POSMachine  \\\n",
       "1775071  RAD585J 2017-12-31 20:16:03  1180  IMEI359128046011793   \n",
       "1775072  RAD585J 2017-12-31 20:17:46  1180  IMEI359128046011793   \n",
       "1775073  RAD585J 2017-12-31 20:18:01  1180  IMEI359128046011793   \n",
       "1775074  RAD585J 2017-12-31 20:19:25  1180  IMEI359128046011793   \n",
       "1775075  RAD204K 2017-12-31 21:54:05  4000       MP220150900325   \n",
       "\n",
       "                AgentName  1  0  0.1  1.1  NumericalMonth StringMonth WeekDay  \\\n",
       "1775071    INGABIRE NADIA  1  0    0    1              12    December  Sunday   \n",
       "1775072    INGABIRE NADIA  1  0    0    1              12    December  Sunday   \n",
       "1775073    INGABIRE NADIA  1  0    0    1              12    December  Sunday   \n",
       "1775074    INGABIRE NADIA  1  0    0    1              12    December  Sunday   \n",
       "1775075  SIBOMANA Aimable  1  0    0    1              12    December  Sunday   \n",
       "\n",
       "         WeekOfMonth  \n",
       "1775071            5  \n",
       "1775072            5  \n",
       "1775073            5  \n",
       "1775074            5  \n",
       "1775075            5  "
      ]
     },
     "execution_count": 73,
     "metadata": {},
     "output_type": "execute_result"
    }
   ],
   "source": [
    "df.tail()"
   ]
  },
  {
   "cell_type": "code",
   "execution_count": 74,
   "metadata": {},
   "outputs": [],
   "source": [
    "df['Hour']=df.TimeStampOfTicket.dt.hour"
   ]
  },
  {
   "cell_type": "code",
   "execution_count": 75,
   "metadata": {},
   "outputs": [
    {
     "data": {
      "text/html": [
       "<div>\n",
       "<style scoped>\n",
       "    .dataframe tbody tr th:only-of-type {\n",
       "        vertical-align: middle;\n",
       "    }\n",
       "\n",
       "    .dataframe tbody tr th {\n",
       "        vertical-align: top;\n",
       "    }\n",
       "\n",
       "    .dataframe thead th {\n",
       "        text-align: right;\n",
       "    }\n",
       "</style>\n",
       "<table border=\"1\" class=\"dataframe\">\n",
       "  <thead>\n",
       "    <tr style=\"text-align: right;\">\n",
       "      <th></th>\n",
       "      <th>TicketNo</th>\n",
       "      <th>Client</th>\n",
       "      <th>Route</th>\n",
       "      <th>TimeofRoute</th>\n",
       "      <th>TimeStampOfRoute</th>\n",
       "      <th>PlateNo</th>\n",
       "      <th>TimeStampOfTicket</th>\n",
       "      <th>Fare</th>\n",
       "      <th>POSMachine</th>\n",
       "      <th>AgentName</th>\n",
       "      <th>1</th>\n",
       "      <th>0</th>\n",
       "      <th>0.1</th>\n",
       "      <th>1.1</th>\n",
       "      <th>NumericalMonth</th>\n",
       "      <th>StringMonth</th>\n",
       "      <th>WeekDay</th>\n",
       "      <th>WeekOfMonth</th>\n",
       "      <th>Hour</th>\n",
       "    </tr>\n",
       "  </thead>\n",
       "  <tbody>\n",
       "    <tr>\n",
       "      <th>1775071</th>\n",
       "      <td>3022584</td>\n",
       "      <td>SAMU</td>\n",
       "      <td>MUSANZE-RUBAVU</td>\n",
       "      <td>20:15:00</td>\n",
       "      <td>2017-12-31 20:15:00</td>\n",
       "      <td>RAD585J</td>\n",
       "      <td>2017-12-31 20:16:03</td>\n",
       "      <td>1180</td>\n",
       "      <td>IMEI359128046011793</td>\n",
       "      <td>INGABIRE NADIA</td>\n",
       "      <td>1</td>\n",
       "      <td>0</td>\n",
       "      <td>0</td>\n",
       "      <td>1</td>\n",
       "      <td>12</td>\n",
       "      <td>December</td>\n",
       "      <td>Sunday</td>\n",
       "      <td>5</td>\n",
       "      <td>20</td>\n",
       "    </tr>\n",
       "    <tr>\n",
       "      <th>1775072</th>\n",
       "      <td>3022587</td>\n",
       "      <td>EDMOND</td>\n",
       "      <td>MUSANZE-RUBAVU</td>\n",
       "      <td>20:15:00</td>\n",
       "      <td>2017-12-31 20:15:00</td>\n",
       "      <td>RAD585J</td>\n",
       "      <td>2017-12-31 20:17:46</td>\n",
       "      <td>1180</td>\n",
       "      <td>IMEI359128046011793</td>\n",
       "      <td>INGABIRE NADIA</td>\n",
       "      <td>1</td>\n",
       "      <td>0</td>\n",
       "      <td>0</td>\n",
       "      <td>1</td>\n",
       "      <td>12</td>\n",
       "      <td>December</td>\n",
       "      <td>Sunday</td>\n",
       "      <td>5</td>\n",
       "      <td>20</td>\n",
       "    </tr>\n",
       "    <tr>\n",
       "      <th>1775073</th>\n",
       "      <td>3022588</td>\n",
       "      <td>EDMOND</td>\n",
       "      <td>MUSANZE-RUBAVU</td>\n",
       "      <td>20:15:00</td>\n",
       "      <td>2017-12-31 20:15:00</td>\n",
       "      <td>RAD585J</td>\n",
       "      <td>2017-12-31 20:18:01</td>\n",
       "      <td>1180</td>\n",
       "      <td>IMEI359128046011793</td>\n",
       "      <td>INGABIRE NADIA</td>\n",
       "      <td>1</td>\n",
       "      <td>0</td>\n",
       "      <td>0</td>\n",
       "      <td>1</td>\n",
       "      <td>12</td>\n",
       "      <td>December</td>\n",
       "      <td>Sunday</td>\n",
       "      <td>5</td>\n",
       "      <td>20</td>\n",
       "    </tr>\n",
       "    <tr>\n",
       "      <th>1775074</th>\n",
       "      <td>3022590</td>\n",
       "      <td>ALLY</td>\n",
       "      <td>MUSANZE-RUBAVU</td>\n",
       "      <td>20:15:00</td>\n",
       "      <td>2017-12-31 20:15:00</td>\n",
       "      <td>RAD585J</td>\n",
       "      <td>2017-12-31 20:19:25</td>\n",
       "      <td>1180</td>\n",
       "      <td>IMEI359128046011793</td>\n",
       "      <td>INGABIRE NADIA</td>\n",
       "      <td>1</td>\n",
       "      <td>0</td>\n",
       "      <td>0</td>\n",
       "      <td>1</td>\n",
       "      <td>12</td>\n",
       "      <td>December</td>\n",
       "      <td>Sunday</td>\n",
       "      <td>5</td>\n",
       "      <td>20</td>\n",
       "    </tr>\n",
       "    <tr>\n",
       "      <th>1775075</th>\n",
       "      <td>3022645</td>\n",
       "      <td>ANJE</td>\n",
       "      <td>BUMAZI-KIGALI</td>\n",
       "      <td>14:00:00</td>\n",
       "      <td>2017-12-31 14:00:00</td>\n",
       "      <td>RAD204K</td>\n",
       "      <td>2017-12-31 21:54:05</td>\n",
       "      <td>4000</td>\n",
       "      <td>MP220150900325</td>\n",
       "      <td>SIBOMANA Aimable</td>\n",
       "      <td>1</td>\n",
       "      <td>0</td>\n",
       "      <td>0</td>\n",
       "      <td>1</td>\n",
       "      <td>12</td>\n",
       "      <td>December</td>\n",
       "      <td>Sunday</td>\n",
       "      <td>5</td>\n",
       "      <td>21</td>\n",
       "    </tr>\n",
       "  </tbody>\n",
       "</table>\n",
       "</div>"
      ],
      "text/plain": [
       "         TicketNo  Client           Route TimeofRoute     TimeStampOfRoute  \\\n",
       "1775071   3022584    SAMU  MUSANZE-RUBAVU    20:15:00  2017-12-31 20:15:00   \n",
       "1775072   3022587  EDMOND  MUSANZE-RUBAVU    20:15:00  2017-12-31 20:15:00   \n",
       "1775073   3022588  EDMOND  MUSANZE-RUBAVU    20:15:00  2017-12-31 20:15:00   \n",
       "1775074   3022590    ALLY  MUSANZE-RUBAVU    20:15:00  2017-12-31 20:15:00   \n",
       "1775075   3022645    ANJE   BUMAZI-KIGALI    14:00:00  2017-12-31 14:00:00   \n",
       "\n",
       "         PlateNo   TimeStampOfTicket  Fare           POSMachine  \\\n",
       "1775071  RAD585J 2017-12-31 20:16:03  1180  IMEI359128046011793   \n",
       "1775072  RAD585J 2017-12-31 20:17:46  1180  IMEI359128046011793   \n",
       "1775073  RAD585J 2017-12-31 20:18:01  1180  IMEI359128046011793   \n",
       "1775074  RAD585J 2017-12-31 20:19:25  1180  IMEI359128046011793   \n",
       "1775075  RAD204K 2017-12-31 21:54:05  4000       MP220150900325   \n",
       "\n",
       "                AgentName  1  0  0.1  1.1  NumericalMonth StringMonth WeekDay  \\\n",
       "1775071    INGABIRE NADIA  1  0    0    1              12    December  Sunday   \n",
       "1775072    INGABIRE NADIA  1  0    0    1              12    December  Sunday   \n",
       "1775073    INGABIRE NADIA  1  0    0    1              12    December  Sunday   \n",
       "1775074    INGABIRE NADIA  1  0    0    1              12    December  Sunday   \n",
       "1775075  SIBOMANA Aimable  1  0    0    1              12    December  Sunday   \n",
       "\n",
       "         WeekOfMonth  Hour  \n",
       "1775071            5    20  \n",
       "1775072            5    20  \n",
       "1775073            5    20  \n",
       "1775074            5    20  \n",
       "1775075            5    21  "
      ]
     },
     "execution_count": 75,
     "metadata": {},
     "output_type": "execute_result"
    }
   ],
   "source": [
    "df.tail()"
   ]
  },
  {
   "cell_type": "code",
   "execution_count": 223,
   "metadata": {},
   "outputs": [
    {
     "data": {
      "image/png": "[encoded data removed]",
      "text/plain": [
       "<matplotlib.figure.Figure at 0x7f4273838128>"
      ]
     },
     "metadata": {},
     "output_type": "display_data"
    }
   ],
   "source": [
    "sns.set_style('ticks')\n",
    "fig, ax = plt.subplots()\n",
    "# the size of A4 paper\n",
    "fig.set_size_inches(10, 5)\n",
    "\n",
    "ax=sns.countplot(x=\"WeekDay\",data=df)\n",
    "sns.despine()\n",
    "fig.savefig('RitcoWeekDay20172.png')\n",
    "ax.set_xticklabels(ax.get_xticklabels(),rotation=90)\n",
    "sns.set(font_scale = 1)\n",
    "ax.set_title('lalala')\n",
    "plt.show()\n",
    "#plt.title('RITCO 2017 DAILY TICKET SALES')\n",
    "#plt.show()\n",
    "\n",
    "\n",
    "total = df.WeekDay.count()\n",
    "\n",
    "for p in ax.patches:\n",
    "    height = p.get_height()\n",
    "    ax.text(p.get_x()+p.get_width()/2.,\n",
    "            height+2500,\n",
    "            '{:1.1f}'.format((height/total)*100)+'%',\n",
    "            ha=\"center\") \n",
    "    \n",
    "    plt.show()"
   ]
  },
  {
   "cell_type": "code",
   "execution_count": 82,
   "metadata": {},
   "outputs": [
    {
     "data": {
      "text/plain": [
       "Friday       282049\n",
       "Sunday       278831\n",
       "Monday       266745\n",
       "Tuesday      238881\n",
       "Saturday     237419\n",
       "Wednesday    235684\n",
       "Thursday     235467\n",
       "Name: WeekDay, dtype: int64"
      ]
     },
     "execution_count": 82,
     "metadata": {},
     "output_type": "execute_result"
    }
   ],
   "source": [
    "df.WeekDay.value_counts()"
   ]
  },
  {
   "cell_type": "code",
   "execution_count": 206,
   "metadata": {},
   "outputs": [
    {
     "data": {
      "image/png": "[encoded data removed]",
      "text/plain": [
       "<matplotlib.figure.Figure at 0x7f42e62b08d0>"
      ]
     },
     "metadata": {},
     "output_type": "display_data"
    }
   ],
   "source": [
    "sns.set_style('ticks')\n",
    "fig, ax = plt.subplots()\n",
    "# the size of A4 paper\n",
    "fig.set_size_inches(10, 5)\n",
    "\n",
    "sns.countplot(x=\"StringMonth\",data=df)\n",
    "sns.despine()\n",
    "fig.savefig('RitcoMonthly2017.png')\n",
    "ax.set_xticklabels(ax.get_xticklabels(),rotation=90)\n",
    "sns.set(font_scale = 1)\n",
    "plt.title('RITCO 2017 MONTHLY TICKET SALES')\n",
    "\n",
    "total = df.StringMonth.count()\n",
    "\n",
    "for p in ax.patches:\n",
    "    height = p.get_height()\n",
    "    ax.text(p.get_x()+p.get_width()/2.,\n",
    "            height+2500,\n",
    "            '{:1.1f}'.format((height/total)*100)+'%',\n",
    "            ha=\"center\") "
   ]
  },
  {
   "cell_type": "code",
   "execution_count": 84,
   "metadata": {},
   "outputs": [
    {
     "data": {
      "text/plain": [
       "December     208609\n",
       "June         193655\n",
       "August       180534\n",
       "May          176527\n",
       "October      175800\n",
       "September    172416\n",
       "November     169709\n",
       "July         151014\n",
       "April        105658\n",
       "March         92741\n",
       "January       77999\n",
       "February      70414\n",
       "Name: StringMonth, dtype: int64"
      ]
     },
     "execution_count": 84,
     "metadata": {},
     "output_type": "execute_result"
    }
   ],
   "source": [
    "df.StringMonth.value_counts()"
   ]
  },
  {
   "cell_type": "code",
   "execution_count": 207,
   "metadata": {},
   "outputs": [
    {
     "data": {
      "image/png": "[encoded data removed]",
      "text/plain": [
       "<matplotlib.figure.Figure at 0x7f4282ccc4a8>"
      ]
     },
     "metadata": {},
     "output_type": "display_data"
    }
   ],
   "source": [
    "sns.set_style('ticks')\n",
    "fig, ax = plt.subplots()\n",
    "# the size of A4 paper\n",
    "fig.set_size_inches(10, 5)\n",
    "\n",
    "sns.countplot(x=\"WeekOfMonth\",data=df)\n",
    "sns.despine()\n",
    "fig.savefig('RitcoWeekno2017.png')\n",
    "ax.set_xticklabels(ax.get_xticklabels(),rotation=90)\n",
    "sns.set(font_scale = 1)\n",
    "plt.title('RITCO TICKET SALES BY WEEK NUMBER 2017')\n",
    "\n",
    "total = df.WeekOfMonth.count()\n",
    "\n",
    "for p in ax.patches:\n",
    "    height = p.get_height()\n",
    "    ax.text(p.get_x()+p.get_width()/2.,\n",
    "            height+2500,\n",
    "            '{:1.1f}'.format((height/total)*100)+'%',\n",
    "            ha=\"center\") "
   ]
  },
  {
   "cell_type": "code",
   "execution_count": 86,
   "metadata": {},
   "outputs": [
    {
     "data": {
      "text/plain": [
       "2    422716\n",
       "3    413125\n",
       "1    397760\n",
       "4    392269\n",
       "5    149206\n",
       "Name: WeekOfMonth, dtype: int64"
      ]
     },
     "execution_count": 86,
     "metadata": {},
     "output_type": "execute_result"
    }
   ],
   "source": [
    "df.WeekOfMonth.value_counts()"
   ]
  },
  {
   "cell_type": "code",
   "execution_count": 208,
   "metadata": {},
   "outputs": [
    {
     "data": {
      "image/png": "[encoded data removed]",
      "text/plain": [
       "<matplotlib.figure.Figure at 0x7f4282b7d630>"
      ]
     },
     "metadata": {},
     "output_type": "display_data"
    }
   ],
   "source": [
    "sns.set_style('ticks')\n",
    "fig, ax = plt.subplots()\n",
    "# the size of A4 paper\n",
    "fig.set_size_inches(10, 5)\n",
    "\n",
    "sns.countplot(x=\"Hour\",data=df)\n",
    "sns.despine()\n",
    "fig.savefig('RitcoHour2017.png')\n",
    "ax.set_xticklabels(ax.get_xticklabels(),rotation=90)\n",
    "sns.set(font_scale = 1)\n",
    "plt.title('RITCO TICKET SALES BY HOUR 2017')\n",
    "\n",
    "total = df.Hour.count()\n",
    "\n",
    "for p in ax.patches:\n",
    "    height = p.get_height()\n",
    "    ax.text(p.get_x()+p.get_width()/2.,\n",
    "            height+500 ,\n",
    "            '{:1.0f}'.format((height/total)*100)+'%',\n",
    "            ha=\"center\") "
   ]
  },
  {
   "cell_type": "code",
   "execution_count": 90,
   "metadata": {},
   "outputs": [
    {
     "data": {
      "text/plain": [
       "7     168111\n",
       "6     152445\n",
       "8     150575\n",
       "9     134531\n",
       "10    130511\n",
       "12    129471\n",
       "11    123682\n",
       "2     110531\n",
       "5     105749\n",
       "3     101132\n",
       "1      97877\n",
       "4      91358\n",
       "14     53876\n",
       "15     50799\n",
       "16     45968\n",
       "13     45446\n",
       "17     41778\n",
       "18     29107\n",
       "19      9662\n",
       "20      1883\n",
       "0        403\n",
       "21       160\n",
       "23        21\n",
       "Name: Hour, dtype: int64"
      ]
     },
     "execution_count": 90,
     "metadata": {},
     "output_type": "execute_result"
    }
   ],
   "source": [
    "df.Hour.value_counts()"
   ]
  },
  {
   "cell_type": "code",
   "execution_count": 93,
   "metadata": {},
   "outputs": [
    {
     "data": {
      "text/plain": [
       "KIGALI-MUSANZE            135102\n",
       "RUBAVU-KIGALI             113209\n",
       "KIGALI-RUBAVU             112631\n",
       "MUSANZE-KIGALI            101444\n",
       "KIGALI-HUYE                66681\n",
       "HUYE-KIGALI                60145\n",
       "MUSANZE-RUBAVU             59934\n",
       "RUBAVU-MUSANZE             50421\n",
       "KIGALI-NGORORERO           44581\n",
       "NGORORERO-KIGALI           35082\n",
       "KIGALI-MUHANGA             27375\n",
       "MUHANGA-KIGALI             24284\n",
       "KIGALI-NYANZA              22172\n",
       "KIBEHO-HUYE                19151\n",
       "HUYE-KIBEHO                18901\n",
       "MUHANGA-HUYE               18826\n",
       "KIGALI-RUSIZI              17886\n",
       "KIGALI-GATUNA              17867\n",
       "HUYE-MUHANGA               14848\n",
       "HUYE-RUGARIKA              13995\n",
       "KIGALI-KARONGI             13859\n",
       "KIGALI-NYAMASHEKE          12425\n",
       "KIGALI-RWAMAGANA           12245\n",
       "KIGALI-BIRAMBO             11840\n",
       "KABARONDO-MURINDI          11800\n",
       "BIRAMBO-KIGALI             10489\n",
       "NGORORERO-MUHANGA          10431\n",
       "GATUNA-KIGALI               9932\n",
       "MURINDI-KABARONDO           9589\n",
       "RUBAVU-BYANGABO             9350\n",
       "                           ...  \n",
       "KAMABARE-RAMIRO                1\n",
       "RUBENGERA-BUBAZI               1\n",
       "CYURU-NYABIHU                  1\n",
       "RUSOZI-GITOMA                  1\n",
       "RUGABANO-GITWE                 1\n",
       "BIREMBO-RUGARAMA               1\n",
       "KAGAMBA-NYABIHU                1\n",
       "RUSHAKI-MULINDI                1\n",
       "GASENYI-GISOVU                 1\n",
       "KARAMBI-GAKUBO                 1\n",
       "KAMABUYE-MUNYINYA              1\n",
       "RAMIRO-GASORO                  1\n",
       "KIGUFI-NYAMUGARI               1\n",
       "KAMABUYE-NYARUGENGE            1\n",
       "CONGONIL-RUGARAMBIRO           1\n",
       "RUSHISHI-RWANKUBA              1\n",
       "KIGALI-RUKOKO                  1\n",
       "NYAGAHANGA-MANISHYA            1\n",
       "KIMIRONKO-KABARE               1\n",
       "KARAMBI-RUSASA                 1\n",
       "RUBENGERA-NYABARONGO           1\n",
       "KAMABUYE-KABASENGEREZI         1\n",
       "NYAMYUMBA-GAHARAWE             1\n",
       "MAKAMBAZI-NYANZA               1\n",
       "GITWE-KIBUNGO                  1\n",
       "GASHORA-GIHINGA                1\n",
       "BUSASAMANA-KABUYE              1\n",
       "GISIZA-KABUJENJE               1\n",
       "BUHANDA-MAKAMBAZI              1\n",
       "KABASAZI-KARAMA                1\n",
       "Name: Route, Length: 2988, dtype: int64"
      ]
     },
     "execution_count": 93,
     "metadata": {},
     "output_type": "execute_result"
    }
   ],
   "source": [
    "df.Route.value_counts()"
   ]
  },
  {
   "cell_type": "code",
   "execution_count": 214,
   "metadata": {},
   "outputs": [
    {
     "data": {
      "text/plain": [
       "1775076"
      ]
     },
     "execution_count": 214,
     "metadata": {},
     "output_type": "execute_result"
    }
   ],
   "source": [
    "df.Route.count()"
   ]
  },
  {
   "cell_type": "code",
   "execution_count": 215,
   "metadata": {},
   "outputs": [
    {
     "data": {
      "text/plain": [
       "3115827866"
      ]
     },
     "execution_count": 215,
     "metadata": {},
     "output_type": "execute_result"
    }
   ],
   "source": [
    "sum(df['Fare'])"
   ]
  },
  {
   "cell_type": "code",
   "execution_count": null,
   "metadata": {},
   "outputs": [],
   "source": []
  },
  {
   "cell_type": "code",
   "execution_count": 99,
   "metadata": {},
   "outputs": [
    {
     "data": {
      "text/plain": [
       "KIGALI-MUSANZE             True\n",
       "RUBAVU-KIGALI              True\n",
       "KIGALI-RUBAVU              True\n",
       "MUSANZE-KIGALI             True\n",
       "KIGALI-HUYE                True\n",
       "HUYE-KIGALI                True\n",
       "MUSANZE-RUBAVU             True\n",
       "RUBAVU-MUSANZE             True\n",
       "KIGALI-NGORORERO           True\n",
       "NGORORERO-KIGALI           True\n",
       "KIGALI-MUHANGA             True\n",
       "MUHANGA-KIGALI             True\n",
       "KIGALI-NYANZA              True\n",
       "KIBEHO-HUYE                True\n",
       "HUYE-KIBEHO                True\n",
       "MUHANGA-HUYE               True\n",
       "KIGALI-RUSIZI              True\n",
       "KIGALI-GATUNA              True\n",
       "HUYE-MUHANGA               True\n",
       "HUYE-RUGARIKA              True\n",
       "KIGALI-KARONGI             True\n",
       "KIGALI-NYAMASHEKE          True\n",
       "KIGALI-RWAMAGANA           True\n",
       "KIGALI-BIRAMBO             True\n",
       "KABARONDO-MURINDI          True\n",
       "BIRAMBO-KIGALI             True\n",
       "NGORORERO-MUHANGA          True\n",
       "GATUNA-KIGALI              True\n",
       "MURINDI-KABARONDO          True\n",
       "RUBAVU-BYANGABO            True\n",
       "                          ...  \n",
       "KAMABARE-RAMIRO           False\n",
       "RUBENGERA-BUBAZI          False\n",
       "CYURU-NYABIHU             False\n",
       "RUSOZI-GITOMA             False\n",
       "RUGABANO-GITWE            False\n",
       "BIREMBO-RUGARAMA          False\n",
       "KAGAMBA-NYABIHU           False\n",
       "RUSHAKI-MULINDI           False\n",
       "GASENYI-GISOVU            False\n",
       "KARAMBI-GAKUBO            False\n",
       "KAMABUYE-MUNYINYA         False\n",
       "RAMIRO-GASORO             False\n",
       "KIGUFI-NYAMUGARI          False\n",
       "KAMABUYE-NYARUGENGE       False\n",
       "CONGONIL-RUGARAMBIRO      False\n",
       "RUSHISHI-RWANKUBA         False\n",
       "KIGALI-RUKOKO             False\n",
       "NYAGAHANGA-MANISHYA       False\n",
       "KIMIRONKO-KABARE          False\n",
       "KARAMBI-RUSASA            False\n",
       "RUBENGERA-NYABARONGO      False\n",
       "KAMABUYE-KABASENGEREZI    False\n",
       "NYAMYUMBA-GAHARAWE        False\n",
       "MAKAMBAZI-NYANZA          False\n",
       "GITWE-KIBUNGO             False\n",
       "GASHORA-GIHINGA           False\n",
       "BUSASAMANA-KABUYE         False\n",
       "GISIZA-KABUJENJE          False\n",
       "BUHANDA-MAKAMBAZI         False\n",
       "KABASAZI-KARAMA           False\n",
       "Name: Route, Length: 2988, dtype: bool"
      ]
     },
     "execution_count": 99,
     "metadata": {},
     "output_type": "execute_result"
    }
   ],
   "source": [
    "dfRicto"
   ]
  },
  {
   "cell_type": "code",
   "execution_count": 130,
   "metadata": {},
   "outputs": [],
   "source": [
    "Ta=df['Route'].value_counts()[df['Route'].value_counts()>3000]"
   ]
  },
  {
   "cell_type": "code",
   "execution_count": 131,
   "metadata": {},
   "outputs": [
    {
     "data": {
      "text/plain": [
       "1302163"
      ]
     },
     "execution_count": 131,
     "metadata": {},
     "output_type": "execute_result"
    }
   ],
   "source": [
    "sum(Ta)"
   ]
  },
  {
   "cell_type": "code",
   "execution_count": 211,
   "metadata": {},
   "outputs": [
    {
     "data": {
      "text/plain": [
       "KIGALI-MUSANZE       135102\n",
       "RUBAVU-KIGALI        113209\n",
       "KIGALI-RUBAVU        112631\n",
       "MUSANZE-KIGALI       101444\n",
       "KIGALI-HUYE           66681\n",
       "HUYE-KIGALI           60145\n",
       "MUSANZE-RUBAVU        59934\n",
       "RUBAVU-MUSANZE        50421\n",
       "KIGALI-NGORORERO      44581\n",
       "NGORORERO-KIGALI      35082\n",
       "KIGALI-MUHANGA        27375\n",
       "MUHANGA-KIGALI        24284\n",
       "KIGALI-NYANZA         22172\n",
       "KIBEHO-HUYE           19151\n",
       "HUYE-KIBEHO           18901\n",
       "MUHANGA-HUYE          18826\n",
       "KIGALI-RUSIZI         17886\n",
       "KIGALI-GATUNA         17867\n",
       "HUYE-MUHANGA          14848\n",
       "HUYE-RUGARIKA         13995\n",
       "KIGALI-KARONGI        13859\n",
       "KIGALI-NYAMASHEKE     12425\n",
       "KIGALI-RWAMAGANA      12245\n",
       "KIGALI-BIRAMBO        11840\n",
       "KABARONDO-MURINDI     11800\n",
       "BIRAMBO-KIGALI        10489\n",
       "NGORORERO-MUHANGA     10431\n",
       "Name: Route, dtype: int64"
      ]
     },
     "execution_count": 211,
     "metadata": {},
     "output_type": "execute_result"
    }
   ],
   "source": [
    "dfRicto1 = df.groupby(\"Route\").filter(lambda x: len(x) >10000)\n",
    "dfRicto1.Route.value_counts()\n"
   ]
  },
  {
   "cell_type": "code",
   "execution_count": 213,
   "metadata": {},
   "outputs": [
    {
     "data": {
      "image/png": "[encoded data removed]",
      "text/plain": [
       "<matplotlib.figure.Figure at 0x7f427dfa3048>"
      ]
     },
     "metadata": {},
     "output_type": "display_data"
    }
   ],
   "source": [
    "sns.set_style('ticks')\n",
    "fig, ax = plt.subplots()\n",
    "# the size of A4 paper\n",
    "fig.set_size_inches(22, 10)\n",
    "\n",
    "sns.countplot(x=\"Route\",data=dfRicto1)\n",
    "sns.despine()\n",
    "fig.savefig('RitcoRoute2017.png')\n",
    "ax.set_xticklabels(ax.get_xticklabels(),rotation=90)\n",
    "sns.set(font_scale = 1)\n",
    "plt.title('RITCO TICKET SALES BY ROUTE 2017')\n",
    "\n",
    "total = dfRicto1.Route.count()\n",
    "\n",
    "for p in ax.patches:\n",
    "    height = p.get_height()\n",
    "    ax.text(p.get_x()+p.get_width()/2.,\n",
    "            height+500 ,\n",
    "            '{:1.0f}'.format((height/total)*100)+'%',\n",
    "            ha=\"center\") "
   ]
  },
  {
   "cell_type": "markdown",
   "metadata": {},
   "source": [
    "# Kcoach 2017\n"
   ]
  },
  {
   "cell_type": "code",
   "execution_count": 141,
   "metadata": {},
   "outputs": [],
   "source": [
    "df2=pd.read_csv('/root/Downloads/kcoach_20180424.csv')\n"
   ]
  },
  {
   "cell_type": "code",
   "execution_count": 142,
   "metadata": {},
   "outputs": [
    {
     "data": {
      "text/html": [
       "<div>\n",
       "<style scoped>\n",
       "    .dataframe tbody tr th:only-of-type {\n",
       "        vertical-align: middle;\n",
       "    }\n",
       "\n",
       "    .dataframe tbody tr th {\n",
       "        vertical-align: top;\n",
       "    }\n",
       "\n",
       "    .dataframe thead th {\n",
       "        text-align: right;\n",
       "    }\n",
       "</style>\n",
       "<table border=\"1\" class=\"dataframe\">\n",
       "  <thead>\n",
       "    <tr style=\"text-align: right;\">\n",
       "      <th></th>\n",
       "      <th>1525365</th>\n",
       "      <th>JOSIANE</th>\n",
       "      <th>RUBAVU-MUSANZE</th>\n",
       "      <th>04h00</th>\n",
       "      <th>2017-01-01</th>\n",
       "      <th>RAD297I</th>\n",
       "      <th>2017-01-01 03:03:54</th>\n",
       "      <th>1180</th>\n",
       "      <th>225</th>\n",
       "      <th>GENTIL</th>\n",
       "    </tr>\n",
       "  </thead>\n",
       "  <tbody>\n",
       "    <tr>\n",
       "      <th>0</th>\n",
       "      <td>1525366</td>\n",
       "      <td>RACHID</td>\n",
       "      <td>RUBAVU-KIGALI</td>\n",
       "      <td>04h00</td>\n",
       "      <td>2017-01-01</td>\n",
       "      <td>RAD297I</td>\n",
       "      <td>2017-01-01 03:06:13</td>\n",
       "      <td>3000</td>\n",
       "      <td>225</td>\n",
       "      <td>GENTIL</td>\n",
       "    </tr>\n",
       "    <tr>\n",
       "      <th>1</th>\n",
       "      <td>1525367</td>\n",
       "      <td>BINEZA</td>\n",
       "      <td>RUBAVU-MUSANZE</td>\n",
       "      <td>04h00</td>\n",
       "      <td>2017-01-01</td>\n",
       "      <td>RAD297I</td>\n",
       "      <td>2017-01-01 03:14:54</td>\n",
       "      <td>1180</td>\n",
       "      <td>225</td>\n",
       "      <td>GENTIL</td>\n",
       "    </tr>\n",
       "    <tr>\n",
       "      <th>2</th>\n",
       "      <td>1525368</td>\n",
       "      <td>JEANNE</td>\n",
       "      <td>RUBAVU-MUSANZE</td>\n",
       "      <td>04h00</td>\n",
       "      <td>2017-01-01</td>\n",
       "      <td>RAD297I</td>\n",
       "      <td>2017-01-01 03:15:10</td>\n",
       "      <td>1180</td>\n",
       "      <td>225</td>\n",
       "      <td>GENTIL</td>\n",
       "    </tr>\n",
       "    <tr>\n",
       "      <th>3</th>\n",
       "      <td>1525369</td>\n",
       "      <td>AIME</td>\n",
       "      <td>KIGALI-RUBAVU</td>\n",
       "      <td>05h15</td>\n",
       "      <td>2017-01-01</td>\n",
       "      <td>RAC458Y</td>\n",
       "      <td>2017-01-01 03:15:11</td>\n",
       "      <td>3000</td>\n",
       "      <td>230</td>\n",
       "      <td>Ntakirutimana Simon</td>\n",
       "    </tr>\n",
       "    <tr>\n",
       "      <th>4</th>\n",
       "      <td>1525370</td>\n",
       "      <td>VIANEY</td>\n",
       "      <td>KIGALI-RUBAVU</td>\n",
       "      <td>05h15</td>\n",
       "      <td>2017-01-01</td>\n",
       "      <td>RAC458Y</td>\n",
       "      <td>2017-01-01 03:15:47</td>\n",
       "      <td>3000</td>\n",
       "      <td>230</td>\n",
       "      <td>Ntakirutimana Simon</td>\n",
       "    </tr>\n",
       "  </tbody>\n",
       "</table>\n",
       "</div>"
      ],
      "text/plain": [
       "   1525365 JOSIANE  RUBAVU-MUSANZE  04h00  2017-01-01  RAD297I  \\\n",
       "0  1525366  RACHID   RUBAVU-KIGALI  04h00  2017-01-01  RAD297I   \n",
       "1  1525367  BINEZA  RUBAVU-MUSANZE  04h00  2017-01-01  RAD297I   \n",
       "2  1525368  JEANNE  RUBAVU-MUSANZE  04h00  2017-01-01  RAD297I   \n",
       "3  1525369    AIME   KIGALI-RUBAVU  05h15  2017-01-01  RAC458Y   \n",
       "4  1525370  VIANEY   KIGALI-RUBAVU  05h15  2017-01-01  RAC458Y   \n",
       "\n",
       "   2017-01-01 03:03:54  1180  225               GENTIL  \n",
       "0  2017-01-01 03:06:13  3000  225               GENTIL  \n",
       "1  2017-01-01 03:14:54  1180  225               GENTIL  \n",
       "2  2017-01-01 03:15:10  1180  225               GENTIL  \n",
       "3  2017-01-01 03:15:11  3000  230  Ntakirutimana Simon  \n",
       "4  2017-01-01 03:15:47  3000  230  Ntakirutimana Simon  "
      ]
     },
     "execution_count": 142,
     "metadata": {},
     "output_type": "execute_result"
    }
   ],
   "source": [
    "df2.head()\n"
   ]
  },
  {
   "cell_type": "code",
   "execution_count": 143,
   "metadata": {},
   "outputs": [
    {
     "data": {
      "text/plain": [
       "<matplotlib.axes._subplots.AxesSubplot at 0x7f42df19b7b8>"
      ]
     },
     "execution_count": 143,
     "metadata": {},
     "output_type": "execute_result"
    },
    {
     "data": {
      "image/png": "[encoded data removed]",
      "text/plain": [
       "<matplotlib.figure.Figure at 0x7f42df18e3c8>"
      ]
     },
     "metadata": {},
     "output_type": "display_data"
    }
   ],
   "source": [
    "sns.heatmap((df2.isnull()),yticklabels=False,cbar=False,cmap='viridis')"
   ]
  },
  {
   "cell_type": "code",
   "execution_count": 144,
   "metadata": {},
   "outputs": [
    {
     "data": {
      "text/plain": [
       "Index(['1525365', 'JOSIANE', 'RUBAVU-MUSANZE', '04h00', '2017-01-01',\n",
       "       'RAD297I', '2017-01-01 03:03:54', '1180', '225', 'GENTIL'],\n",
       "      dtype='object')"
      ]
     },
     "execution_count": 144,
     "metadata": {},
     "output_type": "execute_result"
    }
   ],
   "source": [
    "df2.columns\n",
    "\n"
   ]
  },
  {
   "cell_type": "code",
   "execution_count": 146,
   "metadata": {},
   "outputs": [],
   "source": [
    "old_names = ['1525365','JOSIANE','RUBAVU-MUSANZE','04h00','2017-01-01','RAD297I','2017-01-01 03:03:54','1180','225','GENTIL'] \n",
    "new_names = ['TicketNo','ClientName','Route','TimeofDeparture','Date','PlateNo','TimeStamp','Fare','POS','AgentName']\n",
    "\n",
    "df2.rename(columns=dict(zip(old_names, new_names)), inplace=True)"
   ]
  },
  {
   "cell_type": "code",
   "execution_count": 147,
   "metadata": {},
   "outputs": [
    {
     "data": {
      "text/html": [
       "<div>\n",
       "<style scoped>\n",
       "    .dataframe tbody tr th:only-of-type {\n",
       "        vertical-align: middle;\n",
       "    }\n",
       "\n",
       "    .dataframe tbody tr th {\n",
       "        vertical-align: top;\n",
       "    }\n",
       "\n",
       "    .dataframe thead th {\n",
       "        text-align: right;\n",
       "    }\n",
       "</style>\n",
       "<table border=\"1\" class=\"dataframe\">\n",
       "  <thead>\n",
       "    <tr style=\"text-align: right;\">\n",
       "      <th></th>\n",
       "      <th>TicketNo</th>\n",
       "      <th>ClientName</th>\n",
       "      <th>Route</th>\n",
       "      <th>TimeofDeparture</th>\n",
       "      <th>Date</th>\n",
       "      <th>PlateNo</th>\n",
       "      <th>TimeStamp</th>\n",
       "      <th>Fare</th>\n",
       "      <th>POS</th>\n",
       "      <th>AgentName</th>\n",
       "    </tr>\n",
       "  </thead>\n",
       "  <tbody>\n",
       "    <tr>\n",
       "      <th>0</th>\n",
       "      <td>1525366</td>\n",
       "      <td>RACHID</td>\n",
       "      <td>RUBAVU-KIGALI</td>\n",
       "      <td>04h00</td>\n",
       "      <td>2017-01-01</td>\n",
       "      <td>RAD297I</td>\n",
       "      <td>2017-01-01 03:06:13</td>\n",
       "      <td>3000</td>\n",
       "      <td>225</td>\n",
       "      <td>GENTIL</td>\n",
       "    </tr>\n",
       "    <tr>\n",
       "      <th>1</th>\n",
       "      <td>1525367</td>\n",
       "      <td>BINEZA</td>\n",
       "      <td>RUBAVU-MUSANZE</td>\n",
       "      <td>04h00</td>\n",
       "      <td>2017-01-01</td>\n",
       "      <td>RAD297I</td>\n",
       "      <td>2017-01-01 03:14:54</td>\n",
       "      <td>1180</td>\n",
       "      <td>225</td>\n",
       "      <td>GENTIL</td>\n",
       "    </tr>\n",
       "    <tr>\n",
       "      <th>2</th>\n",
       "      <td>1525368</td>\n",
       "      <td>JEANNE</td>\n",
       "      <td>RUBAVU-MUSANZE</td>\n",
       "      <td>04h00</td>\n",
       "      <td>2017-01-01</td>\n",
       "      <td>RAD297I</td>\n",
       "      <td>2017-01-01 03:15:10</td>\n",
       "      <td>1180</td>\n",
       "      <td>225</td>\n",
       "      <td>GENTIL</td>\n",
       "    </tr>\n",
       "    <tr>\n",
       "      <th>3</th>\n",
       "      <td>1525369</td>\n",
       "      <td>AIME</td>\n",
       "      <td>KIGALI-RUBAVU</td>\n",
       "      <td>05h15</td>\n",
       "      <td>2017-01-01</td>\n",
       "      <td>RAC458Y</td>\n",
       "      <td>2017-01-01 03:15:11</td>\n",
       "      <td>3000</td>\n",
       "      <td>230</td>\n",
       "      <td>Ntakirutimana Simon</td>\n",
       "    </tr>\n",
       "    <tr>\n",
       "      <th>4</th>\n",
       "      <td>1525370</td>\n",
       "      <td>VIANEY</td>\n",
       "      <td>KIGALI-RUBAVU</td>\n",
       "      <td>05h15</td>\n",
       "      <td>2017-01-01</td>\n",
       "      <td>RAC458Y</td>\n",
       "      <td>2017-01-01 03:15:47</td>\n",
       "      <td>3000</td>\n",
       "      <td>230</td>\n",
       "      <td>Ntakirutimana Simon</td>\n",
       "    </tr>\n",
       "  </tbody>\n",
       "</table>\n",
       "</div>"
      ],
      "text/plain": [
       "   TicketNo ClientName           Route TimeofDeparture        Date  PlateNo  \\\n",
       "0   1525366     RACHID   RUBAVU-KIGALI           04h00  2017-01-01  RAD297I   \n",
       "1   1525367     BINEZA  RUBAVU-MUSANZE           04h00  2017-01-01  RAD297I   \n",
       "2   1525368     JEANNE  RUBAVU-MUSANZE           04h00  2017-01-01  RAD297I   \n",
       "3   1525369       AIME   KIGALI-RUBAVU           05h15  2017-01-01  RAC458Y   \n",
       "4   1525370     VIANEY   KIGALI-RUBAVU           05h15  2017-01-01  RAC458Y   \n",
       "\n",
       "             TimeStamp  Fare  POS            AgentName  \n",
       "0  2017-01-01 03:06:13  3000  225               GENTIL  \n",
       "1  2017-01-01 03:14:54  1180  225               GENTIL  \n",
       "2  2017-01-01 03:15:10  1180  225               GENTIL  \n",
       "3  2017-01-01 03:15:11  3000  230  Ntakirutimana Simon  \n",
       "4  2017-01-01 03:15:47  3000  230  Ntakirutimana Simon  "
      ]
     },
     "execution_count": 147,
     "metadata": {},
     "output_type": "execute_result"
    }
   ],
   "source": [
    "df2.head()"
   ]
  },
  {
   "cell_type": "code",
   "execution_count": 150,
   "metadata": {},
   "outputs": [],
   "source": [
    "df2[\"TimeOfTicketSale\"]=pd.to_datetime(df2.TimeStamp)"
   ]
  },
  {
   "cell_type": "code",
   "execution_count": 151,
   "metadata": {},
   "outputs": [],
   "source": [
    "df2['Month']=df2.TimeOfTicketSale.dt.month"
   ]
  },
  {
   "cell_type": "code",
   "execution_count": 153,
   "metadata": {},
   "outputs": [],
   "source": [
    "df2['Hour']=df2.TimeOfTicketSale.dt.hour"
   ]
  },
  {
   "cell_type": "code",
   "execution_count": 154,
   "metadata": {},
   "outputs": [],
   "source": [
    "df2['Weekday']=df2.TimeOfTicketSale.dt.weekday_name"
   ]
  },
  {
   "cell_type": "code",
   "execution_count": 155,
   "metadata": {},
   "outputs": [],
   "source": [
    "df2['WeekOfMonth']=df2['TimeOfTicketSale'].apply(lambda d: (d.day-1) // 7 + 1)"
   ]
  },
  {
   "cell_type": "code",
   "execution_count": 157,
   "metadata": {},
   "outputs": [],
   "source": [
    "df2['StringMonth'] = df2['Month'].apply(lambda x: calendar.month_name[x])"
   ]
  },
  {
   "cell_type": "code",
   "execution_count": 158,
   "metadata": {},
   "outputs": [
    {
     "data": {
      "text/html": [
       "<div>\n",
       "<style scoped>\n",
       "    .dataframe tbody tr th:only-of-type {\n",
       "        vertical-align: middle;\n",
       "    }\n",
       "\n",
       "    .dataframe tbody tr th {\n",
       "        vertical-align: top;\n",
       "    }\n",
       "\n",
       "    .dataframe thead th {\n",
       "        text-align: right;\n",
       "    }\n",
       "</style>\n",
       "<table border=\"1\" class=\"dataframe\">\n",
       "  <thead>\n",
       "    <tr style=\"text-align: right;\">\n",
       "      <th></th>\n",
       "      <th>TicketNo</th>\n",
       "      <th>ClientName</th>\n",
       "      <th>Route</th>\n",
       "      <th>TimeofDeparture</th>\n",
       "      <th>Date</th>\n",
       "      <th>PlateNo</th>\n",
       "      <th>TimeStamp</th>\n",
       "      <th>Fare</th>\n",
       "      <th>POS</th>\n",
       "      <th>AgentName</th>\n",
       "      <th>TimeOfTicketSale</th>\n",
       "      <th>Month</th>\n",
       "      <th>Hour</th>\n",
       "      <th>Weekday</th>\n",
       "      <th>WeekOfMonth</th>\n",
       "      <th>StringMonth</th>\n",
       "    </tr>\n",
       "  </thead>\n",
       "  <tbody>\n",
       "    <tr>\n",
       "      <th>0</th>\n",
       "      <td>1525366</td>\n",
       "      <td>RACHID</td>\n",
       "      <td>RUBAVU-KIGALI</td>\n",
       "      <td>04h00</td>\n",
       "      <td>2017-01-01</td>\n",
       "      <td>RAD297I</td>\n",
       "      <td>2017-01-01 03:06:13</td>\n",
       "      <td>3000</td>\n",
       "      <td>225</td>\n",
       "      <td>GENTIL</td>\n",
       "      <td>2017-01-01 03:06:13</td>\n",
       "      <td>1</td>\n",
       "      <td>3</td>\n",
       "      <td>Sunday</td>\n",
       "      <td>1</td>\n",
       "      <td>January</td>\n",
       "    </tr>\n",
       "    <tr>\n",
       "      <th>1</th>\n",
       "      <td>1525367</td>\n",
       "      <td>BINEZA</td>\n",
       "      <td>RUBAVU-MUSANZE</td>\n",
       "      <td>04h00</td>\n",
       "      <td>2017-01-01</td>\n",
       "      <td>RAD297I</td>\n",
       "      <td>2017-01-01 03:14:54</td>\n",
       "      <td>1180</td>\n",
       "      <td>225</td>\n",
       "      <td>GENTIL</td>\n",
       "      <td>2017-01-01 03:14:54</td>\n",
       "      <td>1</td>\n",
       "      <td>3</td>\n",
       "      <td>Sunday</td>\n",
       "      <td>1</td>\n",
       "      <td>January</td>\n",
       "    </tr>\n",
       "    <tr>\n",
       "      <th>2</th>\n",
       "      <td>1525368</td>\n",
       "      <td>JEANNE</td>\n",
       "      <td>RUBAVU-MUSANZE</td>\n",
       "      <td>04h00</td>\n",
       "      <td>2017-01-01</td>\n",
       "      <td>RAD297I</td>\n",
       "      <td>2017-01-01 03:15:10</td>\n",
       "      <td>1180</td>\n",
       "      <td>225</td>\n",
       "      <td>GENTIL</td>\n",
       "      <td>2017-01-01 03:15:10</td>\n",
       "      <td>1</td>\n",
       "      <td>3</td>\n",
       "      <td>Sunday</td>\n",
       "      <td>1</td>\n",
       "      <td>January</td>\n",
       "    </tr>\n",
       "    <tr>\n",
       "      <th>3</th>\n",
       "      <td>1525369</td>\n",
       "      <td>AIME</td>\n",
       "      <td>KIGALI-RUBAVU</td>\n",
       "      <td>05h15</td>\n",
       "      <td>2017-01-01</td>\n",
       "      <td>RAC458Y</td>\n",
       "      <td>2017-01-01 03:15:11</td>\n",
       "      <td>3000</td>\n",
       "      <td>230</td>\n",
       "      <td>Ntakirutimana Simon</td>\n",
       "      <td>2017-01-01 03:15:11</td>\n",
       "      <td>1</td>\n",
       "      <td>3</td>\n",
       "      <td>Sunday</td>\n",
       "      <td>1</td>\n",
       "      <td>January</td>\n",
       "    </tr>\n",
       "    <tr>\n",
       "      <th>4</th>\n",
       "      <td>1525370</td>\n",
       "      <td>VIANEY</td>\n",
       "      <td>KIGALI-RUBAVU</td>\n",
       "      <td>05h15</td>\n",
       "      <td>2017-01-01</td>\n",
       "      <td>RAC458Y</td>\n",
       "      <td>2017-01-01 03:15:47</td>\n",
       "      <td>3000</td>\n",
       "      <td>230</td>\n",
       "      <td>Ntakirutimana Simon</td>\n",
       "      <td>2017-01-01 03:15:47</td>\n",
       "      <td>1</td>\n",
       "      <td>3</td>\n",
       "      <td>Sunday</td>\n",
       "      <td>1</td>\n",
       "      <td>January</td>\n",
       "    </tr>\n",
       "  </tbody>\n",
       "</table>\n",
       "</div>"
      ],
      "text/plain": [
       "   TicketNo ClientName           Route TimeofDeparture        Date  PlateNo  \\\n",
       "0   1525366     RACHID   RUBAVU-KIGALI           04h00  2017-01-01  RAD297I   \n",
       "1   1525367     BINEZA  RUBAVU-MUSANZE           04h00  2017-01-01  RAD297I   \n",
       "2   1525368     JEANNE  RUBAVU-MUSANZE           04h00  2017-01-01  RAD297I   \n",
       "3   1525369       AIME   KIGALI-RUBAVU           05h15  2017-01-01  RAC458Y   \n",
       "4   1525370     VIANEY   KIGALI-RUBAVU           05h15  2017-01-01  RAC458Y   \n",
       "\n",
       "             TimeStamp  Fare  POS            AgentName    TimeOfTicketSale  \\\n",
       "0  2017-01-01 03:06:13  3000  225               GENTIL 2017-01-01 03:06:13   \n",
       "1  2017-01-01 03:14:54  1180  225               GENTIL 2017-01-01 03:14:54   \n",
       "2  2017-01-01 03:15:10  1180  225               GENTIL 2017-01-01 03:15:10   \n",
       "3  2017-01-01 03:15:11  3000  230  Ntakirutimana Simon 2017-01-01 03:15:11   \n",
       "4  2017-01-01 03:15:47  3000  230  Ntakirutimana Simon 2017-01-01 03:15:47   \n",
       "\n",
       "   Month  Hour Weekday  WeekOfMonth StringMonth  \n",
       "0      1     3  Sunday            1     January  \n",
       "1      1     3  Sunday            1     January  \n",
       "2      1     3  Sunday            1     January  \n",
       "3      1     3  Sunday            1     January  \n",
       "4      1     3  Sunday            1     January  "
      ]
     },
     "execution_count": 158,
     "metadata": {},
     "output_type": "execute_result"
    }
   ],
   "source": [
    "df2.head()"
   ]
  },
  {
   "cell_type": "code",
   "execution_count": 195,
   "metadata": {},
   "outputs": [
    {
     "data": {
      "image/png": "[encoded data removed]",
      "text/plain": [
       "<matplotlib.figure.Figure at 0x7f42e6e19860>"
      ]
     },
     "metadata": {},
     "output_type": "display_data"
    }
   ],
   "source": [
    "sns.set_style('ticks')\n",
    "fig, ax = plt.subplots()\n",
    "# the size of A4 paper\n",
    "fig.set_size_inches(10, 5)\n",
    "\n",
    "sns.countplot(x=\"StringMonth\",data=df2)\n",
    "sns.despine()\n",
    "fig.savefig('KigaliCoachMonth2017.png')\n",
    "ax.set_xticklabels(ax.get_xticklabels(),rotation=90)\n",
    "sns.set(font_scale = 1)\n",
    "plt.title('KIGALI COACH 2017 MONTHLY TICKET SALES')\n",
    "\n",
    "total = df2.StringMonth.count()\n",
    "\n",
    "for p in ax.patches:\n",
    "    height = p.get_height()\n",
    "    ax.text(p.get_x()+p.get_width()/2.,\n",
    "            height+500 ,\n",
    "            '{:1.1f}'.format((height/total)*100)+'%',\n",
    "            ha=\"center\") "
   ]
  },
  {
   "cell_type": "code",
   "execution_count": 162,
   "metadata": {},
   "outputs": [
    {
     "data": {
      "text/plain": [
       "January      79200\n",
       "February     67486\n",
       "March        67387\n",
       "August       62910\n",
       "July         60048\n",
       "December     58781\n",
       "April        56657\n",
       "May          55269\n",
       "June         55192\n",
       "September    50747\n",
       "October      47869\n",
       "November     47339\n",
       "Name: StringMonth, dtype: int64"
      ]
     },
     "execution_count": 162,
     "metadata": {},
     "output_type": "execute_result"
    }
   ],
   "source": [
    "df2.StringMonth.value_counts()"
   ]
  },
  {
   "cell_type": "code",
   "execution_count": 163,
   "metadata": {},
   "outputs": [
    {
     "data": {
      "text/plain": [
       "708885"
      ]
     },
     "execution_count": 163,
     "metadata": {},
     "output_type": "execute_result"
    }
   ],
   "source": [
    "sum(df2.StringMonth.value_counts())\n"
   ]
  },
  {
   "cell_type": "code",
   "execution_count": 165,
   "metadata": {},
   "outputs": [
    {
     "data": {
      "text/plain": [
       "708885"
      ]
     },
     "execution_count": 165,
     "metadata": {},
     "output_type": "execute_result"
    }
   ],
   "source": [
    "df2.StringMonth.count()"
   ]
  },
  {
   "cell_type": "code",
   "execution_count": 194,
   "metadata": {},
   "outputs": [
    {
     "data": {
      "image/png": "[encoded data removed]",
      "text/plain": [
       "<matplotlib.figure.Figure at 0x7f42e6ea51d0>"
      ]
     },
     "metadata": {},
     "output_type": "display_data"
    }
   ],
   "source": [
    "sns.set_style('ticks')\n",
    "fig, ax = plt.subplots()\n",
    "# the size of A4 paper\n",
    "fig.set_size_inches(10, 5)\n",
    "\n",
    "sns.countplot(x=\"Weekday\",data=df2)\n",
    "sns.despine()\n",
    "fig.savefig('KigaliCoachWeekday2017.png')\n",
    "ax.set_xticklabels(ax.get_xticklabels(),rotation=90)\n",
    "sns.set(font_scale = 1)\n",
    "plt.title('KIGALI COACH TICKET SALES BY WEEKDAY 2017')\n",
    "\n",
    "total = df2.Weekday.count()\n",
    "\n",
    "for p in ax.patches:\n",
    "    height = p.get_height()\n",
    "    ax.text(p.get_x()+p.get_width()/2.,\n",
    "            height+500 ,\n",
    "            '{:1.1f}'.format((height/total)*100)+'%',\n",
    "            ha=\"center\") "
   ]
  },
  {
   "cell_type": "code",
   "execution_count": 167,
   "metadata": {},
   "outputs": [
    {
     "data": {
      "text/plain": [
       "Friday       111902\n",
       "Monday       110068\n",
       "Sunday       108541\n",
       "Saturday     100172\n",
       "Tuesday       95171\n",
       "Thursday      92073\n",
       "Wednesday     90958\n",
       "Name: Weekday, dtype: int64"
      ]
     },
     "execution_count": 167,
     "metadata": {},
     "output_type": "execute_result"
    }
   ],
   "source": [
    "df2.Weekday.value_counts()"
   ]
  },
  {
   "cell_type": "code",
   "execution_count": 169,
   "metadata": {},
   "outputs": [
    {
     "data": {
      "text/plain": [
       "708885"
      ]
     },
     "execution_count": 169,
     "metadata": {},
     "output_type": "execute_result"
    }
   ],
   "source": [
    "df2.Weekday.count()"
   ]
  },
  {
   "cell_type": "code",
   "execution_count": 192,
   "metadata": {},
   "outputs": [
    {
     "data": {
      "image/png": "[encoded data removed]",
      "text/plain": [
       "<matplotlib.figure.Figure at 0x7f42e70b70f0>"
      ]
     },
     "metadata": {},
     "output_type": "display_data"
    }
   ],
   "source": [
    "sns.set_style('ticks')\n",
    "fig, ax = plt.subplots()\n",
    "# the size of A4 paper\n",
    "fig.set_size_inches(10, 5)\n",
    "\n",
    "sns.countplot(x=\"Hour\",data=df2)\n",
    "sns.despine()\n",
    "fig.savefig('KigaliCoachHour2017.png')\n",
    "ax.set_xticklabels(ax.get_xticklabels(),rotation=90)\n",
    "sns.set(font_scale = 1)\n",
    "plt.title('KIGALI COACH TICKET SALES BY HOUR 2017')\n",
    "\n",
    "total = df2.Hour.count()\n",
    "\n",
    "for p in ax.patches:\n",
    "    height = p.get_height()\n",
    "    ax.text(p.get_x()+p.get_width()/2.,\n",
    "            height+500 ,\n",
    "            '{:1.0f}'.format((height/total)*100)+'%',\n",
    "            ha=\"center\") "
   ]
  },
  {
   "cell_type": "code",
   "execution_count": 171,
   "metadata": {},
   "outputs": [
    {
     "data": {
      "text/plain": [
       "15    54001\n",
       "16    52407\n",
       "14    52069\n",
       "6     51755\n",
       "17    49106\n",
       "13    47501\n",
       "10    46143\n",
       "11    46055\n",
       "9     44815\n",
       "7     44361\n",
       "12    44064\n",
       "8     43266\n",
       "5     41286\n",
       "18    34838\n",
       "4     25877\n",
       "3     14490\n",
       "19    12751\n",
       "20     2315\n",
       "2      1191\n",
       "21      302\n",
       "1       120\n",
       "22       96\n",
       "0        39\n",
       "23       37\n",
       "Name: Hour, dtype: int64"
      ]
     },
     "execution_count": 171,
     "metadata": {},
     "output_type": "execute_result"
    }
   ],
   "source": [
    "df2.Hour.value_counts()"
   ]
  },
  {
   "cell_type": "code",
   "execution_count": 190,
   "metadata": {},
   "outputs": [
    {
     "data": {
      "image/png": "[encoded data removed]",
      "text/plain": [
       "<matplotlib.figure.Figure at 0x7f42e6a79a90>"
      ]
     },
     "metadata": {},
     "output_type": "display_data"
    }
   ],
   "source": [
    "sns.set_style('ticks')\n",
    "fig, ax = plt.subplots()\n",
    "# the size of A4 paper\n",
    "fig.set_size_inches(10, 5)\n",
    "\n",
    "ax=sns.countplot(x=\"WeekOfMonth\",data=df2)\n",
    "sns.despine()\n",
    "fig.savefig('KigaliCoachWeekofMonth2017.png')\n",
    "ax.set_xticklabels(ax.get_xticklabels(),rotation=90)\n",
    "sns.set(font_scale = 1)\n",
    "plt.title('KIGALI COACH TICKET SALES BY WEEK OF MONTH 2017')\n",
    "total = df2.WeekOfMonth.count()\n",
    "\n",
    "for p in ax.patches:\n",
    "    height = p.get_height()\n",
    "    ax.text(p.get_x()+p.get_width()/2.,\n",
    "            height+2000 ,\n",
    "            '{:1.1f}'.format((height/total)*100)+'%',\n",
    "            ha=\"center\") "
   ]
  },
  {
   "cell_type": "code",
   "execution_count": 175,
   "metadata": {},
   "outputs": [
    {
     "data": {
      "text/plain": [
       "1    167901\n",
       "2    164167\n",
       "3    163747\n",
       "4    157902\n",
       "5     55168\n",
       "Name: WeekOfMonth, dtype: int64"
      ]
     },
     "execution_count": 175,
     "metadata": {},
     "output_type": "execute_result"
    }
   ],
   "source": [
    "df2.WeekOfMonth.value_counts()"
   ]
  },
  {
   "cell_type": "code",
   "execution_count": null,
   "metadata": {},
   "outputs": [],
   "source": []
  }
 ],
 "metadata": {
  "kernelspec": {
   "display_name": "Python 3",
   "language": "python",
   "name": "python3"
  },
  "language_info": {
   "codemirror_mode": {
    "name": "ipython",
    "version": 3
   },
   "file_extension": ".py",
   "mimetype": "text/x-python",
   "name": "python",
   "nbconvert_exporter": "python",
   "pygments_lexer": "ipython3",
   "version": "3.5.3"
  }
 },
 "nbformat": 4,
 "nbformat_minor": 2
}
