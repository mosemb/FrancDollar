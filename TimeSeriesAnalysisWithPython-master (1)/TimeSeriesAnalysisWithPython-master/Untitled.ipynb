{
 "cells": [
  {
   "cell_type": "code",
   "execution_count": 1,
   "metadata": {},
   "outputs": [],
   "source": [
    "import pandas as pd\n",
    "import numpy as np\n",
    "import matplotlib.pyplot as plt\n",
    "import seaborn as sns\n",
    "from math import ceil\n",
    "import datetime \n",
    "import statsmodels\n",
    "import sklearn\n",
    "import calendar \n",
    "import scipy"
   ]
  },
  {
   "cell_type": "code",
   "execution_count": 4,
   "metadata": {},
   "outputs": [],
   "source": [
    "df=pd.read_csv('/root/Downloads/LTRJune2018.csv', encoding = \"ISO-8859-1\")"
   ]
  },
  {
   "cell_type": "code",
   "execution_count": 12,
   "metadata": {},
   "outputs": [
    {
     "data": {
      "text/html": [
       "<div>\n",
       "<style scoped>\n",
       "    .dataframe tbody tr th:only-of-type {\n",
       "        vertical-align: middle;\n",
       "    }\n",
       "\n",
       "    .dataframe tbody tr th {\n",
       "        vertical-align: top;\n",
       "    }\n",
       "\n",
       "    .dataframe thead th {\n",
       "        text-align: right;\n",
       "    }\n",
       "</style>\n",
       "<table border=\"1\" class=\"dataframe\">\n",
       "  <thead>\n",
       "    <tr style=\"text-align: right;\">\n",
       "      <th></th>\n",
       "      <th>CustomerName</th>\n",
       "      <th>Service Type</th>\n",
       "      <th>Status</th>\n",
       "      <th>e-mail Address</th>\n",
       "      <th>Customer ID</th>\n",
       "      <th>Service ID</th>\n",
       "      <th>Start Date</th>\n",
       "      <th>End Date</th>\n",
       "    </tr>\n",
       "  </thead>\n",
       "  <tbody>\n",
       "    <tr>\n",
       "      <th>0</th>\n",
       "      <td>CENTRE URUMURI</td>\n",
       "      <td>WiMAX_Int_BS_512Kbps</td>\n",
       "      <td>Active</td>\n",
       "      <td>urumuri2016@gmail.com</td>\n",
       "      <td>R0000018</td>\n",
       "      <td>R0000018-0001</td>\n",
       "      <td>10/31/2016</td>\n",
       "      <td>NaN</td>\n",
       "    </tr>\n",
       "    <tr>\n",
       "      <th>1</th>\n",
       "      <td>MINISTRY OF HEALTH</td>\n",
       "      <td>TEL_NORMAL_4000</td>\n",
       "      <td>Active</td>\n",
       "      <td>mtmichel2001@gmail.com</td>\n",
       "      <td>R0000025</td>\n",
       "      <td>R0000025-0001</td>\n",
       "      <td>7/10/2017</td>\n",
       "      <td>NaN</td>\n",
       "    </tr>\n",
       "    <tr>\n",
       "      <th>2</th>\n",
       "      <td>MINISTRY OF HEALTH</td>\n",
       "      <td>TEL_NORMAL_4000</td>\n",
       "      <td>Active</td>\n",
       "      <td>mtmichel2001@gmail.com</td>\n",
       "      <td>R0000025</td>\n",
       "      <td>R0000025-0002</td>\n",
       "      <td>7/10/2017</td>\n",
       "      <td>NaN</td>\n",
       "    </tr>\n",
       "    <tr>\n",
       "      <th>3</th>\n",
       "      <td>MINISTRY OF HEALTH</td>\n",
       "      <td>TEL_NORMAL_4000</td>\n",
       "      <td>Active</td>\n",
       "      <td>mtmichel2001@gmail.com</td>\n",
       "      <td>R0000025</td>\n",
       "      <td>R0000025-0003</td>\n",
       "      <td>7/10/2017</td>\n",
       "      <td>NaN</td>\n",
       "    </tr>\n",
       "    <tr>\n",
       "      <th>4</th>\n",
       "      <td>CLINIQUE BIEN NAITRE</td>\n",
       "      <td>WiMAX_Int_BS_512Kbps</td>\n",
       "      <td>Closed</td>\n",
       "      <td>jcukunda@gamil.com</td>\n",
       "      <td>R0000045</td>\n",
       "      <td>R0000045-0001</td>\n",
       "      <td>10/31/2016</td>\n",
       "      <td>10/31/2017</td>\n",
       "    </tr>\n",
       "  </tbody>\n",
       "</table>\n",
       "</div>"
      ],
      "text/plain": [
       "           CustomerName          Service Type  Status          e-mail Address  \\\n",
       "0        CENTRE URUMURI  WiMAX_Int_BS_512Kbps  Active   urumuri2016@gmail.com   \n",
       "1    MINISTRY OF HEALTH       TEL_NORMAL_4000  Active  mtmichel2001@gmail.com   \n",
       "2    MINISTRY OF HEALTH       TEL_NORMAL_4000  Active  mtmichel2001@gmail.com   \n",
       "3    MINISTRY OF HEALTH       TEL_NORMAL_4000  Active  mtmichel2001@gmail.com   \n",
       "4  CLINIQUE BIEN NAITRE  WiMAX_Int_BS_512Kbps  Closed      jcukunda@gamil.com   \n",
       "\n",
       "  Customer ID     Service ID  Start Date    End Date  \n",
       "0    R0000018  R0000018-0001  10/31/2016         NaN  \n",
       "1    R0000025  R0000025-0001   7/10/2017         NaN  \n",
       "2    R0000025  R0000025-0002   7/10/2017         NaN  \n",
       "3    R0000025  R0000025-0003   7/10/2017         NaN  \n",
       "4    R0000045  R0000045-0001  10/31/2016  10/31/2017  "
      ]
     },
     "execution_count": 12,
     "metadata": {},
     "output_type": "execute_result"
    }
   ],
   "source": [
    "df.head()\n"
   ]
  },
  {
   "cell_type": "code",
   "execution_count": 13,
   "metadata": {},
   "outputs": [],
   "source": [
    "old_names = ['Service Type','Customer ID', 'Service ID','Start Date', 'End Date' ] \n",
    "new_names = ['ServiceType','CustomerID','ServiceID', 'StartDate','EndDate']\n",
    "df.rename(columns=dict(zip(old_names, new_names)), inplace=True)\n"
   ]
  },
  {
   "cell_type": "code",
   "execution_count": 14,
   "metadata": {},
   "outputs": [
    {
     "data": {
      "text/plain": [
       "CustomerName      4651\n",
       "ServiceType       4651\n",
       "Status            4651\n",
       "e-mail Address    4646\n",
       "CustomerID        4651\n",
       "ServiceID         4651\n",
       "StartDate         4651\n",
       "EndDate           1835\n",
       "dtype: int64"
      ]
     },
     "execution_count": 14,
     "metadata": {},
     "output_type": "execute_result"
    }
   ],
   "source": [
    "df.count()\n"
   ]
  },
  {
   "cell_type": "code",
   "execution_count": 20,
   "metadata": {},
   "outputs": [
    {
     "data": {
      "text/plain": [
       "<matplotlib.axes._subplots.AxesSubplot at 0x7f54eafc3d30>"
      ]
     },
     "execution_count": 20,
     "metadata": {},
     "output_type": "execute_result"
    },
    {
     "data": {
      "image/png": "[encoded data removed]",
      "text/plain": [
       "<matplotlib.figure.Figure at 0x7f54f0068ba8>"
      ]
     },
     "metadata": {},
     "output_type": "display_data"
    }
   ],
   "source": [
    "sns.heatmap((df.isnull()),yticklabels=False,cbar=False,cmap='viridis')"
   ]
  },
  {
   "cell_type": "code",
   "execution_count": 15,
   "metadata": {},
   "outputs": [
    {
     "data": {
      "text/plain": [
       "<matplotlib.axes._subplots.AxesSubplot at 0x7f54f05b7940>"
      ]
     },
     "execution_count": 15,
     "metadata": {},
     "output_type": "execute_result"
    },
    {
     "data": {
      "image/png": "[encoded data removed]",
      "text/plain": [
       "<matplotlib.figure.Figure at 0x7f54f1544940>"
      ]
     },
     "metadata": {},
     "output_type": "display_data"
    }
   ],
   "source": [
    "sns.countplot(x='Status',data=df)\n"
   ]
  },
  {
   "cell_type": "code",
   "execution_count": 16,
   "metadata": {},
   "outputs": [
    {
     "data": {
      "text/plain": [
       "Active       2788\n",
       "Inactive     1598\n",
       "Closed        233\n",
       "Suspended      15\n",
       "Ordered        13\n",
       "Open            4\n",
       "Name: Status, dtype: int64"
      ]
     },
     "execution_count": 16,
     "metadata": {},
     "output_type": "execute_result"
    }
   ],
   "source": [
    "df.Status.value_counts()\n"
   ]
  },
  {
   "cell_type": "code",
   "execution_count": 21,
   "metadata": {},
   "outputs": [
    {
     "data": {
      "text/plain": [
       "4651"
      ]
     },
     "execution_count": 21,
     "metadata": {},
     "output_type": "execute_result"
    }
   ],
   "source": [
    "df.ServiceType.count()"
   ]
  },
  {
   "cell_type": "code",
   "execution_count": 18,
   "metadata": {},
   "outputs": [
    {
     "data": {
      "text/plain": [
       "CustomerName      object\n",
       "ServiceType       object\n",
       "Status            object\n",
       "e-mail Address    object\n",
       "CustomerID        object\n",
       "ServiceID         object\n",
       "StartDate         object\n",
       "EndDate           object\n",
       "dtype: object"
      ]
     },
     "execution_count": 18,
     "metadata": {},
     "output_type": "execute_result"
    }
   ],
   "source": [
    "df.dtypes"
   ]
  },
  {
   "cell_type": "code",
   "execution_count": 19,
   "metadata": {},
   "outputs": [
    {
     "data": {
      "text/plain": [
       "MINADEF                                         52\n",
       "BRALIRWA                                        43\n",
       "BANK OF KIGALI                                  34\n",
       "AXIOM NETWORKS LIMITED                          31\n",
       "TIGO COMMERCIAL                                 30\n",
       "BNR                                             30\n",
       "CONNECTIVITY ARCHITECTS LTD T/A CMC NETWORKS    28\n",
       "AFRICAN LEADERSHIP UNIVERSITY-OFFICE            27\n",
       "LTR NOC                                         26\n",
       "REG-HQ                                          25\n",
       "BPR-HQ                                          25\n",
       "ECOBANK                                         23\n",
       "AIRTEL RWANDA                                   22\n",
       "SULFO RWANDA INDUSTRIES                         20\n",
       "BPR                                             18\n",
       "RWANDAIR EXPRESS                                18\n",
       "LTR TEST & OFFICE SERVICES                      17\n",
       "COMITE INTERNATIONAL DE LA CROIX ROUGE          16\n",
       "MARASA HOLDINGS Ltd                             16\n",
       "AMERICAN EMBASSY                                16\n",
       " RWANDA BROADCASTING AGENCY(RBA)                15\n",
       "TOURISM PROMOTION SERVICES RWANDA KIGALI        14\n",
       "BANQUE MONDIALE                                 14\n",
       "I_M BANK                                        14\n",
       "MTN RWANDACELL                                  13\n",
       "PRICE WATER HOUSE COOPERS RWANDA LTD            12\n",
       "PARK INN BY RADISSON KIGALI                     12\n",
       "TRAVELPORT UGANDA/RWANDA                        12\n",
       "BRD                                             12\n",
       "RWANDAIR LTD                                    12\n",
       "                                                ..\n",
       "NSABAGASANI BERNARD                              1\n",
       "NZIZA ZABULON                                    1\n",
       "MUREKATETE FABIOLA                               1\n",
       "US EMBASSY OFFICE                                1\n",
       "MURIGANDE Eugene                                 1\n",
       "GREEN HILL ACCADEMY                              1\n",
       "ABACUS PHARMACY                                  1\n",
       "DARRELL DONALD BUSTIN                            1\n",
       "RUZIBIZA GILLES                                  1\n",
       "HE QIAN                                          1\n",
       "US Embassy Marine                                1\n",
       "LETS GO TOURS RWANDA LIMITED                     1\n",
       "ANTES AGNEW                                      1\n",
       "PETERS MARC GUSTAVE                              1\n",
       "JEAN MICHEL KARERA                               1\n",
       "ELDER GILLET                                     1\n",
       "BRUNO SOUCY-CBM                                  1\n",
       "DIANE ESICIA                                     1\n",
       "MODERN COAST EXPRESS                             1\n",
       "SKY NET WORLDWIDE EXPRESS                        1\n",
       "RUBONEKA TOUSSAINT                               1\n",
       "Pieter¶ÿBOSHOFF                                  1\n",
       "CHAMBRE DU SENAT                                 1\n",
       "MOHAMMED ELRASHED SIDAHMED                       1\n",
       "SONARWA LIFE ASSURANCE COMPANY                   1\n",
       "SANNY NTAYOMBYA                                  1\n",
       "SEBASTIEN HOUBEN                                 1\n",
       "KABUYE SUGAR WORKS                               1\n",
       "AMBASSADE DU RDC                                 1\n",
       "Ibrahim Gahutu                                   1\n",
       "Name: CustomerName, Length: 1986, dtype: int64"
      ]
     },
     "execution_count": 19,
     "metadata": {},
     "output_type": "execute_result"
    }
   ],
   "source": [
    "df.CustomerName.value_counts()"
   ]
  },
  {
   "cell_type": "code",
   "execution_count": 22,
   "metadata": {},
   "outputs": [
    {
     "data": {
      "text/plain": [
       "FIBRO_FAM_ENTERT_10M    910\n",
       "Tel_Normal_4000         792\n",
       "Hai-GPON_Voice_@Home    694\n",
       "Fibro_Fam_Entert_10M    609\n",
       "FIBRO_MOD_FAMILY_25M    185\n",
       "Tel_Staff_Voice          78\n",
       "Fibro_Mod_Family_25M     76\n",
       "TEL_NORMAL_4000          69\n",
       "ADDITIONAL_Int_IP        65\n",
       "BASIC ESSENTIAL          64\n",
       "BB_Family_Entert_10M     43\n",
       "CDMA_EVDO_Staff          39\n",
       "INSTALLATION EQUIP       37\n",
       "BAND_ON_DEMAND           33\n",
       "BB_FAMILY_ENTERT_10M     26\n",
       "WiMAX_Int_BS_1Mbp        26\n",
       "Fiber_Data_1Mbp          25\n",
       "GPON_ONT                 24\n",
       "GPON_FE_002              23\n",
       "Tel_PRI_100000           23\n",
       "FIBER_INT_BS_1MBP        22\n",
       "HAI-GPON_VOICE_@HOME     21\n",
       "WiMAX_Int_BS_512Kbps     21\n",
       "Copper_Int_BS_512Kps     21\n",
       "Fiber_Int_BS_2Mbps       20\n",
       "Copper_Int_BS_1Mbp       19\n",
       "CopperL_Int_Staff        18\n",
       "SPACE_RENT               18\n",
       "FIBER_INT_BS_10MBPS      18\n",
       "CDMA_EVDO                17\n",
       "                       ... \n",
       "BIG_BLUE_20MBPS           1\n",
       "Fiber_Int_BS_18Mbps       1\n",
       "FIBER_DATA_BS_45MBPS      1\n",
       "Tel_Short_Code            1\n",
       "Copper_Int_BS_256Kps      1\n",
       "Fiber_Int_Bs_25Mbps       1\n",
       "WI-FI INTERNET BUSIN      1\n",
       "Big_Blue_15Mbps           1\n",
       "Fiber_Int_BS_16Mbps       1\n",
       "WEBHOST_PLAN_I            1\n",
       "IP_Transit_775MBPS        1\n",
       "FIBER_INT_BS_8MBPS        1\n",
       "IP_TRANSIT_1.4GB          1\n",
       "Fiber_Int_BS_20Mbps       1\n",
       "EMAIL_100                 1\n",
       "FIBER_INT_BS_120MBPS      1\n",
       "IP_TRANSIT_1.4Gb          1\n",
       "WiMAX_Int_BS_4Mbps        1\n",
       "WiMAX_Int_BS_384Kbps      1\n",
       "WiFi_15Mbps               1\n",
       "IP_BACKHAUL_250MBPS       1\n",
       "Fiber_Data_5Mbps          1\n",
       "Big_Blue_35Mbps           1\n",
       "ADSL_VOICE_INTERNET       1\n",
       "BB_MODERN_FAMILY_20M      1\n",
       "WIMAX_INT_RS_1MBP         1\n",
       "IRU_Capacity              1\n",
       "INCOMING VOICE CALLS      1\n",
       "FIBER_DATA_DWDM_10GB      1\n",
       "IP_TRANSIT_200MBPS        1\n",
       "Name: ServiceType, Length: 199, dtype: int64"
      ]
     },
     "execution_count": 22,
     "metadata": {},
     "output_type": "execute_result"
    }
   ],
   "source": [
    "df.ServiceType.value_counts()"
   ]
  },
  {
   "cell_type": "code",
   "execution_count": 30,
   "metadata": {},
   "outputs": [],
   "source": [
    "df2=df['Status'].value_counts()"
   ]
  },
  {
   "cell_type": "code",
   "execution_count": 31,
   "metadata": {},
   "outputs": [
    {
     "data": {
      "text/plain": [
       "Active       2788\n",
       "Inactive     1598\n",
       "Closed        233\n",
       "Suspended      15\n",
       "Ordered        13\n",
       "Open            4\n",
       "Name: Status, dtype: int64"
      ]
     },
     "execution_count": 31,
     "metadata": {},
     "output_type": "execute_result"
    }
   ],
   "source": [
    "df2"
   ]
  },
  {
   "cell_type": "code",
   "execution_count": null,
   "metadata": {},
   "outputs": [],
   "source": []
  }
 ],
 "metadata": {
  "kernelspec": {
   "display_name": "Python 3",
   "language": "python",
   "name": "python3"
  },
  "language_info": {
   "codemirror_mode": {
    "name": "ipython",
    "version": 3
   },
   "file_extension": ".py",
   "mimetype": "text/x-python",
   "name": "python",
   "nbconvert_exporter": "python",
   "pygments_lexer": "ipython3",
   "version": "3.5.3"
  }
 },
 "nbformat": 4,
 "nbformat_minor": 2
}
