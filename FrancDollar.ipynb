{
 "cells": [
  {
   "cell_type": "code",
   "execution_count": 1,
   "metadata": {},
   "outputs": [],
   "source": [
    "import pandas as pd \n",
    "import numpy as np \n",
    "import seaborn as sns \n",
    "import matplotlib.pyplot as plt\n",
    "import os\n",
    "\n",
    "%matplotlib inline "
   ]
  },
  {
   "cell_type": "code",
   "execution_count": 2,
   "metadata": {},
   "outputs": [],
   "source": [
    "df = pd.read_csv('/root/Documents/TradingReal/RwandaFinanceData/RwandeseFranc4.csv')"
   ]
  },
  {
   "cell_type": "code",
   "execution_count": 3,
   "metadata": {},
   "outputs": [
    {
     "data": {
      "text/html": [
       "<div>\n",
       "<style scoped>\n",
       "    .dataframe tbody tr th:only-of-type {\n",
       "        vertical-align: middle;\n",
       "    }\n",
       "\n",
       "    .dataframe tbody tr th {\n",
       "        vertical-align: top;\n",
       "    }\n",
       "\n",
       "    .dataframe thead th {\n",
       "        text-align: right;\n",
       "    }\n",
       "</style>\n",
       "<table border=\"1\" class=\"dataframe\">\n",
       "  <thead>\n",
       "    <tr style=\"text-align: right;\">\n",
       "      <th></th>\n",
       "      <th>Unnamed: 0</th>\n",
       "      <th>Unnamed: 1</th>\n",
       "      <th>[Close]</th>\n",
       "    </tr>\n",
       "  </thead>\n",
       "  <tbody>\n",
       "    <tr>\n",
       "      <th>0</th>\n",
       "      <td>2004-01-01</td>\n",
       "      <td>545.37</td>\n",
       "      <td>NaN</td>\n",
       "    </tr>\n",
       "    <tr>\n",
       "      <th>1</th>\n",
       "      <td>2004-01-02</td>\n",
       "      <td>545.37</td>\n",
       "      <td>NaN</td>\n",
       "    </tr>\n",
       "    <tr>\n",
       "      <th>2</th>\n",
       "      <td>2004-01-05</td>\n",
       "      <td>545.43</td>\n",
       "      <td>NaN</td>\n",
       "    </tr>\n",
       "    <tr>\n",
       "      <th>3</th>\n",
       "      <td>2004-01-06</td>\n",
       "      <td>544.97</td>\n",
       "      <td>NaN</td>\n",
       "    </tr>\n",
       "    <tr>\n",
       "      <th>4</th>\n",
       "      <td>2004-01-07</td>\n",
       "      <td>545.23</td>\n",
       "      <td>NaN</td>\n",
       "    </tr>\n",
       "  </tbody>\n",
       "</table>\n",
       "</div>"
      ],
      "text/plain": [
       "   Unnamed: 0  Unnamed: 1  [Close]\n",
       "0  2004-01-01      545.37      NaN\n",
       "1  2004-01-02      545.37      NaN\n",
       "2  2004-01-05      545.43      NaN\n",
       "3  2004-01-06      544.97      NaN\n",
       "4  2004-01-07      545.23      NaN"
      ]
     },
     "execution_count": 3,
     "metadata": {},
     "output_type": "execute_result"
    }
   ],
   "source": [
    "df.head()"
   ]
  },
  {
   "cell_type": "code",
   "execution_count": 4,
   "metadata": {},
   "outputs": [],
   "source": [
    "df.columns = ['Years', 'OpeningPrice', 'ClosingPrice']"
   ]
  },
  {
   "cell_type": "code",
   "execution_count": 5,
   "metadata": {},
   "outputs": [
    {
     "name": "stdout",
     "output_type": "stream",
     "text": [
      "<class 'pandas.core.frame.DataFrame'>\n",
      "RangeIndex: 3392 entries, 0 to 3391\n",
      "Data columns (total 3 columns):\n",
      "Years           3392 non-null object\n",
      "OpeningPrice    3392 non-null float64\n",
      "ClosingPrice    0 non-null float64\n",
      "dtypes: float64(2), object(1)\n",
      "memory usage: 79.6+ KB\n"
     ]
    }
   ],
   "source": [
    "df.info()"
   ]
  },
  {
   "cell_type": "code",
   "execution_count": 6,
   "metadata": {},
   "outputs": [
    {
     "data": {
      "text/html": [
       "<div>\n",
       "<style scoped>\n",
       "    .dataframe tbody tr th:only-of-type {\n",
       "        vertical-align: middle;\n",
       "    }\n",
       "\n",
       "    .dataframe tbody tr th {\n",
       "        vertical-align: top;\n",
       "    }\n",
       "\n",
       "    .dataframe thead th {\n",
       "        text-align: right;\n",
       "    }\n",
       "</style>\n",
       "<table border=\"1\" class=\"dataframe\">\n",
       "  <thead>\n",
       "    <tr style=\"text-align: right;\">\n",
       "      <th></th>\n",
       "      <th>OpeningPrice</th>\n",
       "      <th>ClosingPrice</th>\n",
       "    </tr>\n",
       "  </thead>\n",
       "  <tbody>\n",
       "    <tr>\n",
       "      <th>count</th>\n",
       "      <td>3392.000000</td>\n",
       "      <td>0.0</td>\n",
       "    </tr>\n",
       "    <tr>\n",
       "      <th>mean</th>\n",
       "      <td>599.244675</td>\n",
       "      <td>NaN</td>\n",
       "    </tr>\n",
       "    <tr>\n",
       "      <th>std</th>\n",
       "      <td>78.080479</td>\n",
       "      <td>NaN</td>\n",
       "    </tr>\n",
       "    <tr>\n",
       "      <th>min</th>\n",
       "      <td>5.782500</td>\n",
       "      <td>NaN</td>\n",
       "    </tr>\n",
       "    <tr>\n",
       "      <th>25%</th>\n",
       "      <td>537.350000</td>\n",
       "      <td>NaN</td>\n",
       "    </tr>\n",
       "    <tr>\n",
       "      <th>50%</th>\n",
       "      <td>577.485000</td>\n",
       "      <td>NaN</td>\n",
       "    </tr>\n",
       "    <tr>\n",
       "      <th>75%</th>\n",
       "      <td>654.550000</td>\n",
       "      <td>NaN</td>\n",
       "    </tr>\n",
       "    <tr>\n",
       "      <th>max</th>\n",
       "      <td>828.920000</td>\n",
       "      <td>NaN</td>\n",
       "    </tr>\n",
       "  </tbody>\n",
       "</table>\n",
       "</div>"
      ],
      "text/plain": [
       "       OpeningPrice  ClosingPrice\n",
       "count   3392.000000           0.0\n",
       "mean     599.244675           NaN\n",
       "std       78.080479           NaN\n",
       "min        5.782500           NaN\n",
       "25%      537.350000           NaN\n",
       "50%      577.485000           NaN\n",
       "75%      654.550000           NaN\n",
       "max      828.920000           NaN"
      ]
     },
     "execution_count": 6,
     "metadata": {},
     "output_type": "execute_result"
    }
   ],
   "source": [
    "df.describe()"
   ]
  },
  {
   "cell_type": "code",
   "execution_count": 7,
   "metadata": {},
   "outputs": [
    {
     "data": {
      "text/plain": [
       "<matplotlib.axes._subplots.AxesSubplot at 0x7f3fa021de48>"
      ]
     },
     "execution_count": 7,
     "metadata": {},
     "output_type": "execute_result"
    },
    {
     "data": {
      "image/png": "[encoded data removed]",
      "text/plain": [
       "<matplotlib.figure.Figure at 0x7f3fa029abe0>"
      ]
     },
     "metadata": {},
     "output_type": "display_data"
    }
   ],
   "source": [
    "sns.heatmap(df.isnull())"
   ]
  },
  {
   "cell_type": "code",
   "execution_count": 8,
   "metadata": {},
   "outputs": [],
   "source": [
    "df['Years']= pd.to_datetime(df['Years'])"
   ]
  },
  {
   "cell_type": "code",
   "execution_count": 9,
   "metadata": {},
   "outputs": [],
   "source": [
    "df['Year']= df.Years.dt.year"
   ]
  },
  {
   "cell_type": "code",
   "execution_count": 10,
   "metadata": {},
   "outputs": [
    {
     "data": {
      "text/html": [
       "<div>\n",
       "<style scoped>\n",
       "    .dataframe tbody tr th:only-of-type {\n",
       "        vertical-align: middle;\n",
       "    }\n",
       "\n",
       "    .dataframe tbody tr th {\n",
       "        vertical-align: top;\n",
       "    }\n",
       "\n",
       "    .dataframe thead th {\n",
       "        text-align: right;\n",
       "    }\n",
       "</style>\n",
       "<table border=\"1\" class=\"dataframe\">\n",
       "  <thead>\n",
       "    <tr style=\"text-align: right;\">\n",
       "      <th></th>\n",
       "      <th>Years</th>\n",
       "      <th>OpeningPrice</th>\n",
       "      <th>ClosingPrice</th>\n",
       "      <th>Year</th>\n",
       "    </tr>\n",
       "  </thead>\n",
       "  <tbody>\n",
       "    <tr>\n",
       "      <th>0</th>\n",
       "      <td>2004-01-01</td>\n",
       "      <td>545.37</td>\n",
       "      <td>NaN</td>\n",
       "      <td>2004</td>\n",
       "    </tr>\n",
       "    <tr>\n",
       "      <th>1</th>\n",
       "      <td>2004-01-02</td>\n",
       "      <td>545.37</td>\n",
       "      <td>NaN</td>\n",
       "      <td>2004</td>\n",
       "    </tr>\n",
       "    <tr>\n",
       "      <th>2</th>\n",
       "      <td>2004-01-05</td>\n",
       "      <td>545.43</td>\n",
       "      <td>NaN</td>\n",
       "      <td>2004</td>\n",
       "    </tr>\n",
       "    <tr>\n",
       "      <th>3</th>\n",
       "      <td>2004-01-06</td>\n",
       "      <td>544.97</td>\n",
       "      <td>NaN</td>\n",
       "      <td>2004</td>\n",
       "    </tr>\n",
       "    <tr>\n",
       "      <th>4</th>\n",
       "      <td>2004-01-07</td>\n",
       "      <td>545.23</td>\n",
       "      <td>NaN</td>\n",
       "      <td>2004</td>\n",
       "    </tr>\n",
       "  </tbody>\n",
       "</table>\n",
       "</div>"
      ],
      "text/plain": [
       "       Years  OpeningPrice  ClosingPrice  Year\n",
       "0 2004-01-01        545.37           NaN  2004\n",
       "1 2004-01-02        545.37           NaN  2004\n",
       "2 2004-01-05        545.43           NaN  2004\n",
       "3 2004-01-06        544.97           NaN  2004\n",
       "4 2004-01-07        545.23           NaN  2004"
      ]
     },
     "execution_count": 10,
     "metadata": {},
     "output_type": "execute_result"
    }
   ],
   "source": [
    "df.head()"
   ]
  },
  {
   "cell_type": "code",
   "execution_count": 11,
   "metadata": {},
   "outputs": [],
   "source": [
    "del df['ClosingPrice']"
   ]
  },
  {
   "cell_type": "code",
   "execution_count": 12,
   "metadata": {},
   "outputs": [
    {
     "data": {
      "text/html": [
       "<div>\n",
       "<style scoped>\n",
       "    .dataframe tbody tr th:only-of-type {\n",
       "        vertical-align: middle;\n",
       "    }\n",
       "\n",
       "    .dataframe tbody tr th {\n",
       "        vertical-align: top;\n",
       "    }\n",
       "\n",
       "    .dataframe thead th {\n",
       "        text-align: right;\n",
       "    }\n",
       "</style>\n",
       "<table border=\"1\" class=\"dataframe\">\n",
       "  <thead>\n",
       "    <tr style=\"text-align: right;\">\n",
       "      <th></th>\n",
       "      <th>Years</th>\n",
       "      <th>OpeningPrice</th>\n",
       "      <th>Year</th>\n",
       "    </tr>\n",
       "  </thead>\n",
       "  <tbody>\n",
       "    <tr>\n",
       "      <th>0</th>\n",
       "      <td>2004-01-01</td>\n",
       "      <td>545.37</td>\n",
       "      <td>2004</td>\n",
       "    </tr>\n",
       "    <tr>\n",
       "      <th>1</th>\n",
       "      <td>2004-01-02</td>\n",
       "      <td>545.37</td>\n",
       "      <td>2004</td>\n",
       "    </tr>\n",
       "    <tr>\n",
       "      <th>2</th>\n",
       "      <td>2004-01-05</td>\n",
       "      <td>545.43</td>\n",
       "      <td>2004</td>\n",
       "    </tr>\n",
       "    <tr>\n",
       "      <th>3</th>\n",
       "      <td>2004-01-06</td>\n",
       "      <td>544.97</td>\n",
       "      <td>2004</td>\n",
       "    </tr>\n",
       "    <tr>\n",
       "      <th>4</th>\n",
       "      <td>2004-01-07</td>\n",
       "      <td>545.23</td>\n",
       "      <td>2004</td>\n",
       "    </tr>\n",
       "  </tbody>\n",
       "</table>\n",
       "</div>"
      ],
      "text/plain": [
       "       Years  OpeningPrice  Year\n",
       "0 2004-01-01        545.37  2004\n",
       "1 2004-01-02        545.37  2004\n",
       "2 2004-01-05        545.43  2004\n",
       "3 2004-01-06        544.97  2004\n",
       "4 2004-01-07        545.23  2004"
      ]
     },
     "execution_count": 12,
     "metadata": {},
     "output_type": "execute_result"
    }
   ],
   "source": [
    "df.head()"
   ]
  },
  {
   "cell_type": "code",
   "execution_count": 13,
   "metadata": {},
   "outputs": [],
   "source": [
    "df['OpeningPrice']= df['OpeningPrice'].replace([5.782500], 578.2500)"
   ]
  },
  {
   "cell_type": "code",
   "execution_count": 192,
   "metadata": {},
   "outputs": [
    {
     "data": {
      "text/plain": [
       "<matplotlib.axes._subplots.AxesSubplot at 0x7f3f9c2b5438>"
      ]
     },
     "execution_count": 192,
     "metadata": {},
     "output_type": "execute_result"
    },
    {
     "data": {
      "image/png": "[encoded data removed]",
      "text/plain": [
       "<matplotlib.figure.Figure at 0x7f3f9c2f3dd8>"
      ]
     },
     "metadata": {},
     "output_type": "display_data"
    }
   ],
   "source": [
    "\n",
    "df.plot(x='Year', y='OpeningPrice')"
   ]
  },
  {
   "cell_type": "code",
   "execution_count": 193,
   "metadata": {},
   "outputs": [],
   "source": [
    "df.to_csv(os.getcwd() + \"/data_franc.csv\")  ##Save Dataframe"
   ]
  },
  {
   "cell_type": "code",
   "execution_count": 15,
   "metadata": {},
   "outputs": [
    {
     "data": {
      "text/html": [
       "<div>\n",
       "<style scoped>\n",
       "    .dataframe tbody tr th:only-of-type {\n",
       "        vertical-align: middle;\n",
       "    }\n",
       "\n",
       "    .dataframe tbody tr th {\n",
       "        vertical-align: top;\n",
       "    }\n",
       "\n",
       "    .dataframe thead th {\n",
       "        text-align: right;\n",
       "    }\n",
       "</style>\n",
       "<table border=\"1\" class=\"dataframe\">\n",
       "  <thead>\n",
       "    <tr style=\"text-align: right;\">\n",
       "      <th></th>\n",
       "      <th>OpeningPrice</th>\n",
       "      <th>Year</th>\n",
       "    </tr>\n",
       "  </thead>\n",
       "  <tbody>\n",
       "    <tr>\n",
       "      <th>count</th>\n",
       "      <td>3392.000000</td>\n",
       "      <td>3392.000000</td>\n",
       "    </tr>\n",
       "    <tr>\n",
       "      <th>mean</th>\n",
       "      <td>599.413445</td>\n",
       "      <td>2010.000000</td>\n",
       "    </tr>\n",
       "    <tr>\n",
       "      <th>std</th>\n",
       "      <td>77.413179</td>\n",
       "      <td>3.742682</td>\n",
       "    </tr>\n",
       "    <tr>\n",
       "      <th>min</th>\n",
       "      <td>505.720000</td>\n",
       "      <td>2004.000000</td>\n",
       "    </tr>\n",
       "    <tr>\n",
       "      <th>25%</th>\n",
       "      <td>537.402500</td>\n",
       "      <td>2007.000000</td>\n",
       "    </tr>\n",
       "    <tr>\n",
       "      <th>50%</th>\n",
       "      <td>577.500000</td>\n",
       "      <td>2010.000000</td>\n",
       "    </tr>\n",
       "    <tr>\n",
       "      <th>75%</th>\n",
       "      <td>654.550000</td>\n",
       "      <td>2013.000000</td>\n",
       "    </tr>\n",
       "    <tr>\n",
       "      <th>max</th>\n",
       "      <td>828.920000</td>\n",
       "      <td>2016.000000</td>\n",
       "    </tr>\n",
       "  </tbody>\n",
       "</table>\n",
       "</div>"
      ],
      "text/plain": [
       "       OpeningPrice         Year\n",
       "count   3392.000000  3392.000000\n",
       "mean     599.413445  2010.000000\n",
       "std       77.413179     3.742682\n",
       "min      505.720000  2004.000000\n",
       "25%      537.402500  2007.000000\n",
       "50%      577.500000  2010.000000\n",
       "75%      654.550000  2013.000000\n",
       "max      828.920000  2016.000000"
      ]
     },
     "execution_count": 15,
     "metadata": {},
     "output_type": "execute_result"
    }
   ],
   "source": [
    "df.describe()"
   ]
  },
  {
   "cell_type": "code",
   "execution_count": 16,
   "metadata": {},
   "outputs": [
    {
     "data": {
      "text/plain": [
       "<pandas.core.groupby.DataFrameGroupBy object at 0x7f3fa0100ba8>"
      ]
     },
     "execution_count": 16,
     "metadata": {},
     "output_type": "execute_result"
    }
   ],
   "source": [
    "df.groupby('Year')"
   ]
  },
  {
   "cell_type": "code",
   "execution_count": 17,
   "metadata": {},
   "outputs": [],
   "source": [
    "#df.set_index(['Years'], inplace=True)"
   ]
  },
  {
   "cell_type": "code",
   "execution_count": 18,
   "metadata": {},
   "outputs": [
    {
     "data": {
      "text/html": [
       "<div>\n",
       "<style scoped>\n",
       "    .dataframe tbody tr th:only-of-type {\n",
       "        vertical-align: middle;\n",
       "    }\n",
       "\n",
       "    .dataframe tbody tr th {\n",
       "        vertical-align: top;\n",
       "    }\n",
       "\n",
       "    .dataframe thead th {\n",
       "        text-align: right;\n",
       "    }\n",
       "</style>\n",
       "<table border=\"1\" class=\"dataframe\">\n",
       "  <thead>\n",
       "    <tr style=\"text-align: right;\">\n",
       "      <th></th>\n",
       "      <th>Years</th>\n",
       "      <th>OpeningPrice</th>\n",
       "      <th>Year</th>\n",
       "    </tr>\n",
       "  </thead>\n",
       "  <tbody>\n",
       "    <tr>\n",
       "      <th>0</th>\n",
       "      <td>2004-01-01</td>\n",
       "      <td>545.37</td>\n",
       "      <td>2004</td>\n",
       "    </tr>\n",
       "    <tr>\n",
       "      <th>1</th>\n",
       "      <td>2004-01-02</td>\n",
       "      <td>545.37</td>\n",
       "      <td>2004</td>\n",
       "    </tr>\n",
       "    <tr>\n",
       "      <th>2</th>\n",
       "      <td>2004-01-05</td>\n",
       "      <td>545.43</td>\n",
       "      <td>2004</td>\n",
       "    </tr>\n",
       "    <tr>\n",
       "      <th>3</th>\n",
       "      <td>2004-01-06</td>\n",
       "      <td>544.97</td>\n",
       "      <td>2004</td>\n",
       "    </tr>\n",
       "    <tr>\n",
       "      <th>4</th>\n",
       "      <td>2004-01-07</td>\n",
       "      <td>545.23</td>\n",
       "      <td>2004</td>\n",
       "    </tr>\n",
       "  </tbody>\n",
       "</table>\n",
       "</div>"
      ],
      "text/plain": [
       "       Years  OpeningPrice  Year\n",
       "0 2004-01-01        545.37  2004\n",
       "1 2004-01-02        545.37  2004\n",
       "2 2004-01-05        545.43  2004\n",
       "3 2004-01-06        544.97  2004\n",
       "4 2004-01-07        545.23  2004"
      ]
     },
     "execution_count": 18,
     "metadata": {},
     "output_type": "execute_result"
    }
   ],
   "source": [
    "df.head()"
   ]
  },
  {
   "cell_type": "code",
   "execution_count": 19,
   "metadata": {},
   "outputs": [],
   "source": [
    "g= df.groupby('Year')"
   ]
  },
  {
   "cell_type": "code",
   "execution_count": 20,
   "metadata": {},
   "outputs": [
    {
     "data": {
      "text/html": [
       "<div>\n",
       "<style scoped>\n",
       "    .dataframe tbody tr th:only-of-type {\n",
       "        vertical-align: middle;\n",
       "    }\n",
       "\n",
       "    .dataframe tbody tr th {\n",
       "        vertical-align: top;\n",
       "    }\n",
       "\n",
       "    .dataframe thead th {\n",
       "        text-align: right;\n",
       "    }\n",
       "</style>\n",
       "<table border=\"1\" class=\"dataframe\">\n",
       "  <thead>\n",
       "    <tr style=\"text-align: right;\">\n",
       "      <th></th>\n",
       "      <th>Years</th>\n",
       "      <th>OpeningPrice</th>\n",
       "    </tr>\n",
       "    <tr>\n",
       "      <th>Year</th>\n",
       "      <th></th>\n",
       "      <th></th>\n",
       "    </tr>\n",
       "  </thead>\n",
       "  <tbody>\n",
       "    <tr>\n",
       "      <th>2004</th>\n",
       "      <td>262</td>\n",
       "      <td>262</td>\n",
       "    </tr>\n",
       "    <tr>\n",
       "      <th>2005</th>\n",
       "      <td>260</td>\n",
       "      <td>260</td>\n",
       "    </tr>\n",
       "    <tr>\n",
       "      <th>2006</th>\n",
       "      <td>260</td>\n",
       "      <td>260</td>\n",
       "    </tr>\n",
       "    <tr>\n",
       "      <th>2007</th>\n",
       "      <td>261</td>\n",
       "      <td>261</td>\n",
       "    </tr>\n",
       "    <tr>\n",
       "      <th>2008</th>\n",
       "      <td>262</td>\n",
       "      <td>262</td>\n",
       "    </tr>\n",
       "    <tr>\n",
       "      <th>2009</th>\n",
       "      <td>261</td>\n",
       "      <td>261</td>\n",
       "    </tr>\n",
       "    <tr>\n",
       "      <th>2010</th>\n",
       "      <td>261</td>\n",
       "      <td>261</td>\n",
       "    </tr>\n",
       "    <tr>\n",
       "      <th>2011</th>\n",
       "      <td>260</td>\n",
       "      <td>260</td>\n",
       "    </tr>\n",
       "    <tr>\n",
       "      <th>2012</th>\n",
       "      <td>261</td>\n",
       "      <td>261</td>\n",
       "    </tr>\n",
       "    <tr>\n",
       "      <th>2013</th>\n",
       "      <td>261</td>\n",
       "      <td>261</td>\n",
       "    </tr>\n",
       "    <tr>\n",
       "      <th>2014</th>\n",
       "      <td>261</td>\n",
       "      <td>261</td>\n",
       "    </tr>\n",
       "    <tr>\n",
       "      <th>2015</th>\n",
       "      <td>261</td>\n",
       "      <td>261</td>\n",
       "    </tr>\n",
       "    <tr>\n",
       "      <th>2016</th>\n",
       "      <td>261</td>\n",
       "      <td>261</td>\n",
       "    </tr>\n",
       "  </tbody>\n",
       "</table>\n",
       "</div>"
      ],
      "text/plain": [
       "      Years  OpeningPrice\n",
       "Year                     \n",
       "2004    262           262\n",
       "2005    260           260\n",
       "2006    260           260\n",
       "2007    261           261\n",
       "2008    262           262\n",
       "2009    261           261\n",
       "2010    261           261\n",
       "2011    260           260\n",
       "2012    261           261\n",
       "2013    261           261\n",
       "2014    261           261\n",
       "2015    261           261\n",
       "2016    261           261"
      ]
     },
     "execution_count": 20,
     "metadata": {},
     "output_type": "execute_result"
    }
   ],
   "source": [
    "df.groupby(\"Year\").count()"
   ]
  },
  {
   "cell_type": "code",
   "execution_count": 21,
   "metadata": {},
   "outputs": [],
   "source": [
    "df_2004 = df[df['Year'] == 2004]"
   ]
  },
  {
   "cell_type": "code",
   "execution_count": 22,
   "metadata": {},
   "outputs": [],
   "source": [
    "df_2005 = df[df['Year'] == 2005]"
   ]
  },
  {
   "cell_type": "code",
   "execution_count": 23,
   "metadata": {},
   "outputs": [],
   "source": [
    "df_2006 = df[df['Year'] == 2006]"
   ]
  },
  {
   "cell_type": "code",
   "execution_count": 24,
   "metadata": {},
   "outputs": [],
   "source": [
    "df_2007 = df[df['Year'] == 2007]"
   ]
  },
  {
   "cell_type": "code",
   "execution_count": 25,
   "metadata": {},
   "outputs": [],
   "source": [
    "df_2008 = df[df['Year'] == 2008]"
   ]
  },
  {
   "cell_type": "code",
   "execution_count": 26,
   "metadata": {},
   "outputs": [],
   "source": [
    "df_2009 = df[df['Year'] == 2009]"
   ]
  },
  {
   "cell_type": "code",
   "execution_count": 27,
   "metadata": {},
   "outputs": [],
   "source": [
    "df_2010= df[df['Year'] == 2010]"
   ]
  },
  {
   "cell_type": "code",
   "execution_count": 28,
   "metadata": {},
   "outputs": [],
   "source": [
    "df_2011 = df[df['Year'] == 2011]"
   ]
  },
  {
   "cell_type": "code",
   "execution_count": 29,
   "metadata": {},
   "outputs": [],
   "source": [
    "df_2012 = df[df['Year'] == 2012]"
   ]
  },
  {
   "cell_type": "code",
   "execution_count": 30,
   "metadata": {},
   "outputs": [],
   "source": [
    "df_2013 = df[df['Year'] == 2013]"
   ]
  },
  {
   "cell_type": "code",
   "execution_count": 31,
   "metadata": {},
   "outputs": [],
   "source": [
    "df_2014 = df[df['Year'] == 2014]"
   ]
  },
  {
   "cell_type": "code",
   "execution_count": 32,
   "metadata": {},
   "outputs": [],
   "source": [
    "df_2015 = df[df['Year'] == 2015]"
   ]
  },
  {
   "cell_type": "code",
   "execution_count": 33,
   "metadata": {},
   "outputs": [],
   "source": [
    "df_2016 = df[df['Year'] == 2016]"
   ]
  },
  {
   "cell_type": "code",
   "execution_count": 34,
   "metadata": {},
   "outputs": [
    {
     "data": {
      "text/html": [
       "<div>\n",
       "<style scoped>\n",
       "    .dataframe tbody tr th:only-of-type {\n",
       "        vertical-align: middle;\n",
       "    }\n",
       "\n",
       "    .dataframe tbody tr th {\n",
       "        vertical-align: top;\n",
       "    }\n",
       "\n",
       "    .dataframe thead th {\n",
       "        text-align: right;\n",
       "    }\n",
       "</style>\n",
       "<table border=\"1\" class=\"dataframe\">\n",
       "  <thead>\n",
       "    <tr style=\"text-align: right;\">\n",
       "      <th></th>\n",
       "      <th>Years</th>\n",
       "      <th>OpeningPrice</th>\n",
       "      <th>Year</th>\n",
       "    </tr>\n",
       "  </thead>\n",
       "  <tbody>\n",
       "    <tr>\n",
       "      <th>3387</th>\n",
       "      <td>2016-12-26</td>\n",
       "      <td>811.26</td>\n",
       "      <td>2016</td>\n",
       "    </tr>\n",
       "    <tr>\n",
       "      <th>3388</th>\n",
       "      <td>2016-12-27</td>\n",
       "      <td>811.26</td>\n",
       "      <td>2016</td>\n",
       "    </tr>\n",
       "    <tr>\n",
       "      <th>3389</th>\n",
       "      <td>2016-12-28</td>\n",
       "      <td>811.26</td>\n",
       "      <td>2016</td>\n",
       "    </tr>\n",
       "    <tr>\n",
       "      <th>3390</th>\n",
       "      <td>2016-12-29</td>\n",
       "      <td>811.26</td>\n",
       "      <td>2016</td>\n",
       "    </tr>\n",
       "    <tr>\n",
       "      <th>3391</th>\n",
       "      <td>2016-12-30</td>\n",
       "      <td>811.26</td>\n",
       "      <td>2016</td>\n",
       "    </tr>\n",
       "  </tbody>\n",
       "</table>\n",
       "</div>"
      ],
      "text/plain": [
       "          Years  OpeningPrice  Year\n",
       "3387 2016-12-26        811.26  2016\n",
       "3388 2016-12-27        811.26  2016\n",
       "3389 2016-12-28        811.26  2016\n",
       "3390 2016-12-29        811.26  2016\n",
       "3391 2016-12-30        811.26  2016"
      ]
     },
     "execution_count": 34,
     "metadata": {},
     "output_type": "execute_result"
    }
   ],
   "source": [
    "df_2016.tail()"
   ]
  },
  {
   "cell_type": "code",
   "execution_count": 35,
   "metadata": {},
   "outputs": [
    {
     "data": {
      "text/plain": [
       "<matplotlib.axes._subplots.AxesSubplot at 0x7f3fa0133828>"
      ]
     },
     "execution_count": 35,
     "metadata": {},
     "output_type": "execute_result"
    },
    {
     "data": {
      "image/png": "[encoded data removed]",
      "text/plain": [
       "<matplotlib.figure.Figure at 0x7f3fa001bf28>"
      ]
     },
     "metadata": {},
     "output_type": "display_data"
    }
   ],
   "source": [
    "df_2016.plot(x='Years',y='OpeningPrice')"
   ]
  },
  {
   "cell_type": "code",
   "execution_count": 36,
   "metadata": {},
   "outputs": [],
   "source": [
    "df_2015.index = range(len(df_2015))\n",
    "df_2016.index = range(len(df_2016))"
   ]
  },
  {
   "cell_type": "code",
   "execution_count": 47,
   "metadata": {},
   "outputs": [],
   "source": [
    "dfs = [df_2004, df_2005,df_2006,df_2007,df_2008,df_2009, df_2010, df_2011, df_2012, df_2013, df_2014,df_2015,df_2016]"
   ]
  },
  {
   "cell_type": "code",
   "execution_count": 50,
   "metadata": {},
   "outputs": [],
   "source": [
    "for i in dfs:\n",
    "    i.index=range(len(i))"
   ]
  },
  {
   "cell_type": "code",
   "execution_count": 56,
   "metadata": {},
   "outputs": [],
   "source": [
    "df3 =pd.concat(dfs, axis=1)"
   ]
  },
  {
   "cell_type": "code",
   "execution_count": 58,
   "metadata": {},
   "outputs": [
    {
     "data": {
      "text/html": [
       "<div>\n",
       "<style scoped>\n",
       "    .dataframe tbody tr th:only-of-type {\n",
       "        vertical-align: middle;\n",
       "    }\n",
       "\n",
       "    .dataframe tbody tr th {\n",
       "        vertical-align: top;\n",
       "    }\n",
       "\n",
       "    .dataframe thead th {\n",
       "        text-align: right;\n",
       "    }\n",
       "</style>\n",
       "<table border=\"1\" class=\"dataframe\">\n",
       "  <thead>\n",
       "    <tr style=\"text-align: right;\">\n",
       "      <th></th>\n",
       "      <th>Years</th>\n",
       "      <th>OpeningPrice</th>\n",
       "      <th>Year</th>\n",
       "      <th>Years</th>\n",
       "      <th>OpeningPrice</th>\n",
       "      <th>Year</th>\n",
       "      <th>Years</th>\n",
       "      <th>OpeningPrice</th>\n",
       "      <th>Year</th>\n",
       "      <th>Years</th>\n",
       "      <th>...</th>\n",
       "      <th>Year</th>\n",
       "      <th>Years</th>\n",
       "      <th>OpeningPrice</th>\n",
       "      <th>Year</th>\n",
       "      <th>Years</th>\n",
       "      <th>OpeningPrice</th>\n",
       "      <th>Year</th>\n",
       "      <th>Years</th>\n",
       "      <th>OpeningPrice</th>\n",
       "      <th>Year</th>\n",
       "    </tr>\n",
       "  </thead>\n",
       "  <tbody>\n",
       "    <tr>\n",
       "      <th>0</th>\n",
       "      <td>2004-01-01</td>\n",
       "      <td>545.37</td>\n",
       "      <td>2004</td>\n",
       "      <td>2005-01-03</td>\n",
       "      <td>543.26</td>\n",
       "      <td>2005.0</td>\n",
       "      <td>2006-01-02</td>\n",
       "      <td>513.31</td>\n",
       "      <td>2006.0</td>\n",
       "      <td>2007-01-01</td>\n",
       "      <td>...</td>\n",
       "      <td>2013.0</td>\n",
       "      <td>2014-01-01</td>\n",
       "      <td>673.00</td>\n",
       "      <td>2014.0</td>\n",
       "      <td>2015-01-01</td>\n",
       "      <td>670.00</td>\n",
       "      <td>2015.0</td>\n",
       "      <td>2016-01-01</td>\n",
       "      <td>747.9199</td>\n",
       "      <td>2016.0</td>\n",
       "    </tr>\n",
       "    <tr>\n",
       "      <th>1</th>\n",
       "      <td>2004-01-02</td>\n",
       "      <td>545.37</td>\n",
       "      <td>2004</td>\n",
       "      <td>2005-01-04</td>\n",
       "      <td>543.82</td>\n",
       "      <td>2005.0</td>\n",
       "      <td>2006-01-03</td>\n",
       "      <td>513.47</td>\n",
       "      <td>2006.0</td>\n",
       "      <td>2007-01-02</td>\n",
       "      <td>...</td>\n",
       "      <td>2013.0</td>\n",
       "      <td>2014-01-02</td>\n",
       "      <td>667.25</td>\n",
       "      <td>2014.0</td>\n",
       "      <td>2015-01-02</td>\n",
       "      <td>679.85</td>\n",
       "      <td>2015.0</td>\n",
       "      <td>2016-01-04</td>\n",
       "      <td>746.5000</td>\n",
       "      <td>2016.0</td>\n",
       "    </tr>\n",
       "    <tr>\n",
       "      <th>2</th>\n",
       "      <td>2004-01-05</td>\n",
       "      <td>545.43</td>\n",
       "      <td>2004</td>\n",
       "      <td>2005-01-05</td>\n",
       "      <td>544.70</td>\n",
       "      <td>2005.0</td>\n",
       "      <td>2006-01-04</td>\n",
       "      <td>510.97</td>\n",
       "      <td>2006.0</td>\n",
       "      <td>2007-01-03</td>\n",
       "      <td>...</td>\n",
       "      <td>2013.0</td>\n",
       "      <td>2014-01-03</td>\n",
       "      <td>660.00</td>\n",
       "      <td>2014.0</td>\n",
       "      <td>2015-01-05</td>\n",
       "      <td>680.00</td>\n",
       "      <td>2015.0</td>\n",
       "      <td>2016-01-05</td>\n",
       "      <td>746.0000</td>\n",
       "      <td>2016.0</td>\n",
       "    </tr>\n",
       "    <tr>\n",
       "      <th>3</th>\n",
       "      <td>2004-01-06</td>\n",
       "      <td>544.97</td>\n",
       "      <td>2004</td>\n",
       "      <td>2005-01-06</td>\n",
       "      <td>545.05</td>\n",
       "      <td>2005.0</td>\n",
       "      <td>2006-01-05</td>\n",
       "      <td>513.59</td>\n",
       "      <td>2006.0</td>\n",
       "      <td>2007-01-04</td>\n",
       "      <td>...</td>\n",
       "      <td>2013.0</td>\n",
       "      <td>2014-01-06</td>\n",
       "      <td>666.49</td>\n",
       "      <td>2014.0</td>\n",
       "      <td>2015-01-06</td>\n",
       "      <td>676.00</td>\n",
       "      <td>2015.0</td>\n",
       "      <td>2016-01-06</td>\n",
       "      <td>747.0000</td>\n",
       "      <td>2016.0</td>\n",
       "    </tr>\n",
       "    <tr>\n",
       "      <th>4</th>\n",
       "      <td>2004-01-07</td>\n",
       "      <td>545.23</td>\n",
       "      <td>2004</td>\n",
       "      <td>2005-01-07</td>\n",
       "      <td>551.33</td>\n",
       "      <td>2005.0</td>\n",
       "      <td>2006-01-06</td>\n",
       "      <td>511.24</td>\n",
       "      <td>2006.0</td>\n",
       "      <td>2007-01-05</td>\n",
       "      <td>...</td>\n",
       "      <td>2013.0</td>\n",
       "      <td>2014-01-07</td>\n",
       "      <td>660.00</td>\n",
       "      <td>2014.0</td>\n",
       "      <td>2015-01-07</td>\n",
       "      <td>671.00</td>\n",
       "      <td>2015.0</td>\n",
       "      <td>2016-01-07</td>\n",
       "      <td>751.8000</td>\n",
       "      <td>2016.0</td>\n",
       "    </tr>\n",
       "  </tbody>\n",
       "</table>\n",
       "<p>5 rows × 39 columns</p>\n",
       "</div>"
      ],
      "text/plain": [
       "       Years OpeningPrice  Year      Years OpeningPrice    Year      Years  \\\n",
       "0 2004-01-01       545.37  2004 2005-01-03       543.26  2005.0 2006-01-02   \n",
       "1 2004-01-02       545.37  2004 2005-01-04       543.82  2005.0 2006-01-03   \n",
       "2 2004-01-05       545.43  2004 2005-01-05       544.70  2005.0 2006-01-04   \n",
       "3 2004-01-06       544.97  2004 2005-01-06       545.05  2005.0 2006-01-05   \n",
       "4 2004-01-07       545.23  2004 2005-01-07       551.33  2005.0 2006-01-06   \n",
       "\n",
       "  OpeningPrice    Year      Years   ...      Year      Years OpeningPrice  \\\n",
       "0       513.31  2006.0 2007-01-01   ...    2013.0 2014-01-01       673.00   \n",
       "1       513.47  2006.0 2007-01-02   ...    2013.0 2014-01-02       667.25   \n",
       "2       510.97  2006.0 2007-01-03   ...    2013.0 2014-01-03       660.00   \n",
       "3       513.59  2006.0 2007-01-04   ...    2013.0 2014-01-06       666.49   \n",
       "4       511.24  2006.0 2007-01-05   ...    2013.0 2014-01-07       660.00   \n",
       "\n",
       "     Year      Years OpeningPrice    Year      Years OpeningPrice    Year  \n",
       "0  2014.0 2015-01-01       670.00  2015.0 2016-01-01     747.9199  2016.0  \n",
       "1  2014.0 2015-01-02       679.85  2015.0 2016-01-04     746.5000  2016.0  \n",
       "2  2014.0 2015-01-05       680.00  2015.0 2016-01-05     746.0000  2016.0  \n",
       "3  2014.0 2015-01-06       676.00  2015.0 2016-01-06     747.0000  2016.0  \n",
       "4  2014.0 2015-01-07       671.00  2015.0 2016-01-07     751.8000  2016.0  \n",
       "\n",
       "[5 rows x 39 columns]"
      ]
     },
     "execution_count": 58,
     "metadata": {},
     "output_type": "execute_result"
    }
   ],
   "source": [
    "df3.head()"
   ]
  },
  {
   "cell_type": "code",
   "execution_count": 60,
   "metadata": {},
   "outputs": [
    {
     "ename": "KeyError",
     "evalue": "'Year'",
     "output_type": "error",
     "traceback": [
      "\u001b[0;31m---------------------------------------------------------------------------\u001b[0m",
      "\u001b[0;31mKeyError\u001b[0m                                  Traceback (most recent call last)",
      "\u001b[0;32m/usr/local/lib/python3.5/dist-packages/pandas/core/indexes/base.py\u001b[0m in \u001b[0;36mget_loc\u001b[0;34m(self, key, method, tolerance)\u001b[0m\n\u001b[1;32m   2524\u001b[0m             \u001b[0;32mtry\u001b[0m\u001b[0;34m:\u001b[0m\u001b[0;34m\u001b[0m\u001b[0m\n\u001b[0;32m-> 2525\u001b[0;31m                 \u001b[0;32mreturn\u001b[0m \u001b[0mself\u001b[0m\u001b[0;34m.\u001b[0m\u001b[0m_engine\u001b[0m\u001b[0;34m.\u001b[0m\u001b[0mget_loc\u001b[0m\u001b[0;34m(\u001b[0m\u001b[0mkey\u001b[0m\u001b[0;34m)\u001b[0m\u001b[0;34m\u001b[0m\u001b[0m\n\u001b[0m\u001b[1;32m   2526\u001b[0m             \u001b[0;32mexcept\u001b[0m \u001b[0mKeyError\u001b[0m\u001b[0;34m:\u001b[0m\u001b[0;34m\u001b[0m\u001b[0m\n",
      "\u001b[0;32mpandas/_libs/index.pyx\u001b[0m in \u001b[0;36mpandas._libs.index.IndexEngine.get_loc\u001b[0;34m()\u001b[0m\n",
      "\u001b[0;32mpandas/_libs/index.pyx\u001b[0m in \u001b[0;36mpandas._libs.index.IndexEngine.get_loc\u001b[0;34m()\u001b[0m\n",
      "\u001b[0;32mpandas/_libs/index.pyx\u001b[0m in \u001b[0;36mpandas._libs.index.IndexEngine._get_loc_duplicates\u001b[0;34m()\u001b[0m\n",
      "\u001b[0;32mpandas/_libs/index.pyx\u001b[0m in \u001b[0;36mpandas._libs.index.IndexEngine._maybe_get_bool_indexer\u001b[0;34m()\u001b[0m\n",
      "\u001b[0;31mKeyError\u001b[0m: 'Year'",
      "\nDuring handling of the above exception, another exception occurred:\n",
      "\u001b[0;31mKeyError\u001b[0m                                  Traceback (most recent call last)",
      "\u001b[0;32m<ipython-input-60-19be3f987ed3>\u001b[0m in \u001b[0;36m<module>\u001b[0;34m()\u001b[0m\n\u001b[0;32m----> 1\u001b[0;31m \u001b[0;32mdel\u001b[0m \u001b[0mdf3\u001b[0m\u001b[0;34m[\u001b[0m\u001b[0;34m'Year'\u001b[0m\u001b[0;34m]\u001b[0m\u001b[0;34m\u001b[0m\u001b[0m\n\u001b[0m",
      "\u001b[0;32m/usr/local/lib/python3.5/dist-packages/pandas/core/generic.py\u001b[0m in \u001b[0;36m__delitem__\u001b[0;34m(self, key)\u001b[0m\n\u001b[1;32m   2094\u001b[0m             \u001b[0;31m# there was no match, this call should raise the appropriate\u001b[0m\u001b[0;34m\u001b[0m\u001b[0;34m\u001b[0m\u001b[0m\n\u001b[1;32m   2095\u001b[0m             \u001b[0;31m# exception:\u001b[0m\u001b[0;34m\u001b[0m\u001b[0;34m\u001b[0m\u001b[0m\n\u001b[0;32m-> 2096\u001b[0;31m             \u001b[0mself\u001b[0m\u001b[0;34m.\u001b[0m\u001b[0m_data\u001b[0m\u001b[0;34m.\u001b[0m\u001b[0mdelete\u001b[0m\u001b[0;34m(\u001b[0m\u001b[0mkey\u001b[0m\u001b[0;34m)\u001b[0m\u001b[0;34m\u001b[0m\u001b[0m\n\u001b[0m\u001b[1;32m   2097\u001b[0m \u001b[0;34m\u001b[0m\u001b[0m\n\u001b[1;32m   2098\u001b[0m         \u001b[0;31m# delete from the caches\u001b[0m\u001b[0;34m\u001b[0m\u001b[0;34m\u001b[0m\u001b[0m\n",
      "\u001b[0;32m/usr/local/lib/python3.5/dist-packages/pandas/core/internals.py\u001b[0m in \u001b[0;36mdelete\u001b[0;34m(self, item)\u001b[0m\n\u001b[1;32m   3900\u001b[0m         \u001b[0mDelete\u001b[0m \u001b[0mselected\u001b[0m \u001b[0mitem\u001b[0m \u001b[0;34m(\u001b[0m\u001b[0mitems\u001b[0m \u001b[0;32mif\u001b[0m \u001b[0mnon\u001b[0m\u001b[0;34m-\u001b[0m\u001b[0munique\u001b[0m\u001b[0;34m)\u001b[0m \u001b[0;32min\u001b[0m\u001b[0;34m-\u001b[0m\u001b[0mplace\u001b[0m\u001b[0;34m.\u001b[0m\u001b[0;34m\u001b[0m\u001b[0m\n\u001b[1;32m   3901\u001b[0m         \"\"\"\n\u001b[0;32m-> 3902\u001b[0;31m         \u001b[0mindexer\u001b[0m \u001b[0;34m=\u001b[0m \u001b[0mself\u001b[0m\u001b[0;34m.\u001b[0m\u001b[0mitems\u001b[0m\u001b[0;34m.\u001b[0m\u001b[0mget_loc\u001b[0m\u001b[0;34m(\u001b[0m\u001b[0mitem\u001b[0m\u001b[0;34m)\u001b[0m\u001b[0;34m\u001b[0m\u001b[0m\n\u001b[0m\u001b[1;32m   3903\u001b[0m \u001b[0;34m\u001b[0m\u001b[0m\n\u001b[1;32m   3904\u001b[0m         \u001b[0mis_deleted\u001b[0m \u001b[0;34m=\u001b[0m \u001b[0mnp\u001b[0m\u001b[0;34m.\u001b[0m\u001b[0mzeros\u001b[0m\u001b[0;34m(\u001b[0m\u001b[0mself\u001b[0m\u001b[0;34m.\u001b[0m\u001b[0mshape\u001b[0m\u001b[0;34m[\u001b[0m\u001b[0;36m0\u001b[0m\u001b[0;34m]\u001b[0m\u001b[0;34m,\u001b[0m \u001b[0mdtype\u001b[0m\u001b[0;34m=\u001b[0m\u001b[0mnp\u001b[0m\u001b[0;34m.\u001b[0m\u001b[0mbool_\u001b[0m\u001b[0;34m)\u001b[0m\u001b[0;34m\u001b[0m\u001b[0m\n",
      "\u001b[0;32m/usr/local/lib/python3.5/dist-packages/pandas/core/indexes/base.py\u001b[0m in \u001b[0;36mget_loc\u001b[0;34m(self, key, method, tolerance)\u001b[0m\n\u001b[1;32m   2525\u001b[0m                 \u001b[0;32mreturn\u001b[0m \u001b[0mself\u001b[0m\u001b[0;34m.\u001b[0m\u001b[0m_engine\u001b[0m\u001b[0;34m.\u001b[0m\u001b[0mget_loc\u001b[0m\u001b[0;34m(\u001b[0m\u001b[0mkey\u001b[0m\u001b[0;34m)\u001b[0m\u001b[0;34m\u001b[0m\u001b[0m\n\u001b[1;32m   2526\u001b[0m             \u001b[0;32mexcept\u001b[0m \u001b[0mKeyError\u001b[0m\u001b[0;34m:\u001b[0m\u001b[0;34m\u001b[0m\u001b[0m\n\u001b[0;32m-> 2527\u001b[0;31m                 \u001b[0;32mreturn\u001b[0m \u001b[0mself\u001b[0m\u001b[0;34m.\u001b[0m\u001b[0m_engine\u001b[0m\u001b[0;34m.\u001b[0m\u001b[0mget_loc\u001b[0m\u001b[0;34m(\u001b[0m\u001b[0mself\u001b[0m\u001b[0;34m.\u001b[0m\u001b[0m_maybe_cast_indexer\u001b[0m\u001b[0;34m(\u001b[0m\u001b[0mkey\u001b[0m\u001b[0;34m)\u001b[0m\u001b[0;34m)\u001b[0m\u001b[0;34m\u001b[0m\u001b[0m\n\u001b[0m\u001b[1;32m   2528\u001b[0m \u001b[0;34m\u001b[0m\u001b[0m\n\u001b[1;32m   2529\u001b[0m         \u001b[0mindexer\u001b[0m \u001b[0;34m=\u001b[0m \u001b[0mself\u001b[0m\u001b[0;34m.\u001b[0m\u001b[0mget_indexer\u001b[0m\u001b[0;34m(\u001b[0m\u001b[0;34m[\u001b[0m\u001b[0mkey\u001b[0m\u001b[0;34m]\u001b[0m\u001b[0;34m,\u001b[0m \u001b[0mmethod\u001b[0m\u001b[0;34m=\u001b[0m\u001b[0mmethod\u001b[0m\u001b[0;34m,\u001b[0m \u001b[0mtolerance\u001b[0m\u001b[0;34m=\u001b[0m\u001b[0mtolerance\u001b[0m\u001b[0;34m)\u001b[0m\u001b[0;34m\u001b[0m\u001b[0m\n",
      "\u001b[0;32mpandas/_libs/index.pyx\u001b[0m in \u001b[0;36mpandas._libs.index.IndexEngine.get_loc\u001b[0;34m()\u001b[0m\n",
      "\u001b[0;32mpandas/_libs/index.pyx\u001b[0m in \u001b[0;36mpandas._libs.index.IndexEngine.get_loc\u001b[0;34m()\u001b[0m\n",
      "\u001b[0;32mpandas/_libs/index.pyx\u001b[0m in \u001b[0;36mpandas._libs.index.IndexEngine._get_loc_duplicates\u001b[0;34m()\u001b[0m\n",
      "\u001b[0;32mpandas/_libs/index.pyx\u001b[0m in \u001b[0;36mpandas._libs.index.IndexEngine._maybe_get_bool_indexer\u001b[0;34m()\u001b[0m\n",
      "\u001b[0;31mKeyError\u001b[0m: 'Year'"
     ]
    }
   ],
   "source": [
    "del df3['Year']"
   ]
  },
  {
   "cell_type": "code",
   "execution_count": 62,
   "metadata": {},
   "outputs": [
    {
     "data": {
      "text/html": [
       "<div>\n",
       "<style scoped>\n",
       "    .dataframe tbody tr th:only-of-type {\n",
       "        vertical-align: middle;\n",
       "    }\n",
       "\n",
       "    .dataframe tbody tr th {\n",
       "        vertical-align: top;\n",
       "    }\n",
       "\n",
       "    .dataframe thead th {\n",
       "        text-align: right;\n",
       "    }\n",
       "</style>\n",
       "<table border=\"1\" class=\"dataframe\">\n",
       "  <thead>\n",
       "    <tr style=\"text-align: right;\">\n",
       "      <th></th>\n",
       "      <th>Years</th>\n",
       "      <th>OpeningPrice</th>\n",
       "      <th>Years</th>\n",
       "      <th>OpeningPrice</th>\n",
       "      <th>Years</th>\n",
       "      <th>OpeningPrice</th>\n",
       "      <th>Years</th>\n",
       "      <th>OpeningPrice</th>\n",
       "      <th>Years</th>\n",
       "      <th>OpeningPrice</th>\n",
       "      <th>...</th>\n",
       "      <th>Years</th>\n",
       "      <th>OpeningPrice</th>\n",
       "      <th>Years</th>\n",
       "      <th>OpeningPrice</th>\n",
       "      <th>Years</th>\n",
       "      <th>OpeningPrice</th>\n",
       "      <th>Years</th>\n",
       "      <th>OpeningPrice</th>\n",
       "      <th>Years</th>\n",
       "      <th>OpeningPrice</th>\n",
       "    </tr>\n",
       "  </thead>\n",
       "  <tbody>\n",
       "    <tr>\n",
       "      <th>0</th>\n",
       "      <td>2004-01-01</td>\n",
       "      <td>545.37</td>\n",
       "      <td>2005-01-03</td>\n",
       "      <td>543.26</td>\n",
       "      <td>2006-01-02</td>\n",
       "      <td>513.31</td>\n",
       "      <td>2007-01-01</td>\n",
       "      <td>524.87</td>\n",
       "      <td>2008-01-01</td>\n",
       "      <td>538.05</td>\n",
       "      <td>...</td>\n",
       "      <td>2012-01-02</td>\n",
       "      <td>588.90</td>\n",
       "      <td>2013-01-01</td>\n",
       "      <td>605.98</td>\n",
       "      <td>2014-01-01</td>\n",
       "      <td>673.00</td>\n",
       "      <td>2015-01-01</td>\n",
       "      <td>670.00</td>\n",
       "      <td>2016-01-01</td>\n",
       "      <td>747.9199</td>\n",
       "    </tr>\n",
       "    <tr>\n",
       "      <th>1</th>\n",
       "      <td>2004-01-02</td>\n",
       "      <td>545.37</td>\n",
       "      <td>2005-01-04</td>\n",
       "      <td>543.82</td>\n",
       "      <td>2006-01-03</td>\n",
       "      <td>513.47</td>\n",
       "      <td>2007-01-02</td>\n",
       "      <td>525.87</td>\n",
       "      <td>2008-01-02</td>\n",
       "      <td>532.48</td>\n",
       "      <td>...</td>\n",
       "      <td>2012-01-03</td>\n",
       "      <td>591.51</td>\n",
       "      <td>2013-01-02</td>\n",
       "      <td>605.41</td>\n",
       "      <td>2014-01-02</td>\n",
       "      <td>667.25</td>\n",
       "      <td>2015-01-02</td>\n",
       "      <td>679.85</td>\n",
       "      <td>2016-01-04</td>\n",
       "      <td>746.5000</td>\n",
       "    </tr>\n",
       "    <tr>\n",
       "      <th>2</th>\n",
       "      <td>2004-01-05</td>\n",
       "      <td>545.43</td>\n",
       "      <td>2005-01-05</td>\n",
       "      <td>544.70</td>\n",
       "      <td>2006-01-04</td>\n",
       "      <td>510.97</td>\n",
       "      <td>2007-01-03</td>\n",
       "      <td>528.30</td>\n",
       "      <td>2008-01-03</td>\n",
       "      <td>534.00</td>\n",
       "      <td>...</td>\n",
       "      <td>2012-01-04</td>\n",
       "      <td>596.00</td>\n",
       "      <td>2013-01-03</td>\n",
       "      <td>609.60</td>\n",
       "      <td>2014-01-03</td>\n",
       "      <td>660.00</td>\n",
       "      <td>2015-01-05</td>\n",
       "      <td>680.00</td>\n",
       "      <td>2016-01-05</td>\n",
       "      <td>746.0000</td>\n",
       "    </tr>\n",
       "    <tr>\n",
       "      <th>3</th>\n",
       "      <td>2004-01-06</td>\n",
       "      <td>544.97</td>\n",
       "      <td>2005-01-06</td>\n",
       "      <td>545.05</td>\n",
       "      <td>2006-01-05</td>\n",
       "      <td>513.59</td>\n",
       "      <td>2007-01-04</td>\n",
       "      <td>526.50</td>\n",
       "      <td>2008-01-04</td>\n",
       "      <td>532.40</td>\n",
       "      <td>...</td>\n",
       "      <td>2012-01-05</td>\n",
       "      <td>596.00</td>\n",
       "      <td>2013-01-04</td>\n",
       "      <td>609.88</td>\n",
       "      <td>2014-01-06</td>\n",
       "      <td>666.49</td>\n",
       "      <td>2015-01-06</td>\n",
       "      <td>676.00</td>\n",
       "      <td>2016-01-06</td>\n",
       "      <td>747.0000</td>\n",
       "    </tr>\n",
       "    <tr>\n",
       "      <th>4</th>\n",
       "      <td>2004-01-07</td>\n",
       "      <td>545.23</td>\n",
       "      <td>2005-01-07</td>\n",
       "      <td>551.33</td>\n",
       "      <td>2006-01-06</td>\n",
       "      <td>511.24</td>\n",
       "      <td>2007-01-05</td>\n",
       "      <td>529.83</td>\n",
       "      <td>2008-01-07</td>\n",
       "      <td>533.99</td>\n",
       "      <td>...</td>\n",
       "      <td>2012-01-06</td>\n",
       "      <td>596.00</td>\n",
       "      <td>2013-01-07</td>\n",
       "      <td>614.00</td>\n",
       "      <td>2014-01-07</td>\n",
       "      <td>660.00</td>\n",
       "      <td>2015-01-07</td>\n",
       "      <td>671.00</td>\n",
       "      <td>2016-01-07</td>\n",
       "      <td>751.8000</td>\n",
       "    </tr>\n",
       "  </tbody>\n",
       "</table>\n",
       "<p>5 rows × 26 columns</p>\n",
       "</div>"
      ],
      "text/plain": [
       "       Years  OpeningPrice      Years  OpeningPrice      Years  OpeningPrice  \\\n",
       "0 2004-01-01        545.37 2005-01-03        543.26 2006-01-02        513.31   \n",
       "1 2004-01-02        545.37 2005-01-04        543.82 2006-01-03        513.47   \n",
       "2 2004-01-05        545.43 2005-01-05        544.70 2006-01-04        510.97   \n",
       "3 2004-01-06        544.97 2005-01-06        545.05 2006-01-05        513.59   \n",
       "4 2004-01-07        545.23 2005-01-07        551.33 2006-01-06        511.24   \n",
       "\n",
       "       Years  OpeningPrice      Years  OpeningPrice      ...           Years  \\\n",
       "0 2007-01-01        524.87 2008-01-01        538.05      ...      2012-01-02   \n",
       "1 2007-01-02        525.87 2008-01-02        532.48      ...      2012-01-03   \n",
       "2 2007-01-03        528.30 2008-01-03        534.00      ...      2012-01-04   \n",
       "3 2007-01-04        526.50 2008-01-04        532.40      ...      2012-01-05   \n",
       "4 2007-01-05        529.83 2008-01-07        533.99      ...      2012-01-06   \n",
       "\n",
       "   OpeningPrice      Years  OpeningPrice      Years  OpeningPrice      Years  \\\n",
       "0        588.90 2013-01-01        605.98 2014-01-01        673.00 2015-01-01   \n",
       "1        591.51 2013-01-02        605.41 2014-01-02        667.25 2015-01-02   \n",
       "2        596.00 2013-01-03        609.60 2014-01-03        660.00 2015-01-05   \n",
       "3        596.00 2013-01-04        609.88 2014-01-06        666.49 2015-01-06   \n",
       "4        596.00 2013-01-07        614.00 2014-01-07        660.00 2015-01-07   \n",
       "\n",
       "   OpeningPrice      Years  OpeningPrice  \n",
       "0        670.00 2016-01-01      747.9199  \n",
       "1        679.85 2016-01-04      746.5000  \n",
       "2        680.00 2016-01-05      746.0000  \n",
       "3        676.00 2016-01-06      747.0000  \n",
       "4        671.00 2016-01-07      751.8000  \n",
       "\n",
       "[5 rows x 26 columns]"
      ]
     },
     "execution_count": 62,
     "metadata": {},
     "output_type": "execute_result"
    }
   ],
   "source": [
    "df3.head()"
   ]
  },
  {
   "cell_type": "code",
   "execution_count": 63,
   "metadata": {},
   "outputs": [],
   "source": [
    "del df3['Years']"
   ]
  },
  {
   "cell_type": "code",
   "execution_count": 66,
   "metadata": {},
   "outputs": [
    {
     "data": {
      "text/html": [
       "<div>\n",
       "<style scoped>\n",
       "    .dataframe tbody tr th:only-of-type {\n",
       "        vertical-align: middle;\n",
       "    }\n",
       "\n",
       "    .dataframe tbody tr th {\n",
       "        vertical-align: top;\n",
       "    }\n",
       "\n",
       "    .dataframe thead th {\n",
       "        text-align: right;\n",
       "    }\n",
       "</style>\n",
       "<table border=\"1\" class=\"dataframe\">\n",
       "  <thead>\n",
       "    <tr style=\"text-align: right;\">\n",
       "      <th></th>\n",
       "      <th>OpeningPrice</th>\n",
       "      <th>OpeningPrice</th>\n",
       "      <th>OpeningPrice</th>\n",
       "      <th>OpeningPrice</th>\n",
       "      <th>OpeningPrice</th>\n",
       "      <th>OpeningPrice</th>\n",
       "      <th>OpeningPrice</th>\n",
       "      <th>OpeningPrice</th>\n",
       "      <th>OpeningPrice</th>\n",
       "      <th>OpeningPrice</th>\n",
       "      <th>OpeningPrice</th>\n",
       "      <th>OpeningPrice</th>\n",
       "      <th>OpeningPrice</th>\n",
       "    </tr>\n",
       "  </thead>\n",
       "  <tbody>\n",
       "    <tr>\n",
       "      <th>257</th>\n",
       "      <td>543.62</td>\n",
       "      <td>513.09</td>\n",
       "      <td>527.83</td>\n",
       "      <td>548.49</td>\n",
       "      <td>545.47</td>\n",
       "      <td>559.60</td>\n",
       "      <td>586.0</td>\n",
       "      <td>596.0</td>\n",
       "      <td>608.31</td>\n",
       "      <td>668.00</td>\n",
       "      <td>676.0</td>\n",
       "      <td>749.50</td>\n",
       "      <td>811.26</td>\n",
       "    </tr>\n",
       "    <tr>\n",
       "      <th>258</th>\n",
       "      <td>543.49</td>\n",
       "      <td>513.10</td>\n",
       "      <td>526.16</td>\n",
       "      <td>530.06</td>\n",
       "      <td>545.08</td>\n",
       "      <td>560.15</td>\n",
       "      <td>586.0</td>\n",
       "      <td>596.0</td>\n",
       "      <td>624.00</td>\n",
       "      <td>660.00</td>\n",
       "      <td>686.0</td>\n",
       "      <td>746.50</td>\n",
       "      <td>811.26</td>\n",
       "    </tr>\n",
       "    <tr>\n",
       "      <th>259</th>\n",
       "      <td>543.32</td>\n",
       "      <td>513.53</td>\n",
       "      <td>525.31</td>\n",
       "      <td>533.33</td>\n",
       "      <td>561.98</td>\n",
       "      <td>559.98</td>\n",
       "      <td>585.0</td>\n",
       "      <td>596.0</td>\n",
       "      <td>607.72</td>\n",
       "      <td>675.45</td>\n",
       "      <td>680.0</td>\n",
       "      <td>747.92</td>\n",
       "      <td>811.26</td>\n",
       "    </tr>\n",
       "    <tr>\n",
       "      <th>260</th>\n",
       "      <td>544.08</td>\n",
       "      <td>NaN</td>\n",
       "      <td>NaN</td>\n",
       "      <td>538.05</td>\n",
       "      <td>548.60</td>\n",
       "      <td>560.42</td>\n",
       "      <td>586.0</td>\n",
       "      <td>NaN</td>\n",
       "      <td>604.90</td>\n",
       "      <td>655.00</td>\n",
       "      <td>675.0</td>\n",
       "      <td>747.92</td>\n",
       "      <td>811.26</td>\n",
       "    </tr>\n",
       "    <tr>\n",
       "      <th>261</th>\n",
       "      <td>543.16</td>\n",
       "      <td>NaN</td>\n",
       "      <td>NaN</td>\n",
       "      <td>NaN</td>\n",
       "      <td>547.51</td>\n",
       "      <td>NaN</td>\n",
       "      <td>NaN</td>\n",
       "      <td>NaN</td>\n",
       "      <td>NaN</td>\n",
       "      <td>NaN</td>\n",
       "      <td>NaN</td>\n",
       "      <td>NaN</td>\n",
       "      <td>NaN</td>\n",
       "    </tr>\n",
       "  </tbody>\n",
       "</table>\n",
       "</div>"
      ],
      "text/plain": [
       "     OpeningPrice  OpeningPrice  OpeningPrice  OpeningPrice  OpeningPrice  \\\n",
       "257        543.62        513.09        527.83        548.49        545.47   \n",
       "258        543.49        513.10        526.16        530.06        545.08   \n",
       "259        543.32        513.53        525.31        533.33        561.98   \n",
       "260        544.08           NaN           NaN        538.05        548.60   \n",
       "261        543.16           NaN           NaN           NaN        547.51   \n",
       "\n",
       "     OpeningPrice  OpeningPrice  OpeningPrice  OpeningPrice  OpeningPrice  \\\n",
       "257        559.60         586.0         596.0        608.31        668.00   \n",
       "258        560.15         586.0         596.0        624.00        660.00   \n",
       "259        559.98         585.0         596.0        607.72        675.45   \n",
       "260        560.42         586.0           NaN        604.90        655.00   \n",
       "261           NaN           NaN           NaN           NaN           NaN   \n",
       "\n",
       "     OpeningPrice  OpeningPrice  OpeningPrice  \n",
       "257         676.0        749.50        811.26  \n",
       "258         686.0        746.50        811.26  \n",
       "259         680.0        747.92        811.26  \n",
       "260         675.0        747.92        811.26  \n",
       "261           NaN           NaN           NaN  "
      ]
     },
     "execution_count": 66,
     "metadata": {},
     "output_type": "execute_result"
    }
   ],
   "source": [
    "df3.tail()"
   ]
  },
  {
   "cell_type": "code",
   "execution_count": 67,
   "metadata": {},
   "outputs": [],
   "source": [
    "df3.columns = ['2004', '2005', '2006', '2007', '2008', '2009', '2010', '2011', '2012', '2013', '2014', '2015', '2016']"
   ]
  },
  {
   "cell_type": "code",
   "execution_count": 69,
   "metadata": {},
   "outputs": [
    {
     "data": {
      "text/html": [
       "<div>\n",
       "<style scoped>\n",
       "    .dataframe tbody tr th:only-of-type {\n",
       "        vertical-align: middle;\n",
       "    }\n",
       "\n",
       "    .dataframe tbody tr th {\n",
       "        vertical-align: top;\n",
       "    }\n",
       "\n",
       "    .dataframe thead th {\n",
       "        text-align: right;\n",
       "    }\n",
       "</style>\n",
       "<table border=\"1\" class=\"dataframe\">\n",
       "  <thead>\n",
       "    <tr style=\"text-align: right;\">\n",
       "      <th></th>\n",
       "      <th>2004</th>\n",
       "      <th>2005</th>\n",
       "      <th>2006</th>\n",
       "      <th>2007</th>\n",
       "      <th>2008</th>\n",
       "      <th>2009</th>\n",
       "      <th>2010</th>\n",
       "      <th>2011</th>\n",
       "      <th>2012</th>\n",
       "      <th>2013</th>\n",
       "      <th>2014</th>\n",
       "      <th>2015</th>\n",
       "      <th>2016</th>\n",
       "    </tr>\n",
       "  </thead>\n",
       "  <tbody>\n",
       "    <tr>\n",
       "      <th>0</th>\n",
       "      <td>545.37</td>\n",
       "      <td>543.26</td>\n",
       "      <td>513.31</td>\n",
       "      <td>524.87</td>\n",
       "      <td>538.05</td>\n",
       "      <td>546.96</td>\n",
       "      <td>570.00</td>\n",
       "      <td>580.51</td>\n",
       "      <td>588.90</td>\n",
       "      <td>605.98</td>\n",
       "      <td>673.00</td>\n",
       "      <td>670.00</td>\n",
       "      <td>747.9199</td>\n",
       "    </tr>\n",
       "    <tr>\n",
       "      <th>1</th>\n",
       "      <td>545.37</td>\n",
       "      <td>543.82</td>\n",
       "      <td>513.47</td>\n",
       "      <td>525.87</td>\n",
       "      <td>532.48</td>\n",
       "      <td>549.03</td>\n",
       "      <td>559.66</td>\n",
       "      <td>586.00</td>\n",
       "      <td>591.51</td>\n",
       "      <td>605.41</td>\n",
       "      <td>667.25</td>\n",
       "      <td>679.85</td>\n",
       "      <td>746.5000</td>\n",
       "    </tr>\n",
       "    <tr>\n",
       "      <th>2</th>\n",
       "      <td>545.43</td>\n",
       "      <td>544.70</td>\n",
       "      <td>510.97</td>\n",
       "      <td>528.30</td>\n",
       "      <td>534.00</td>\n",
       "      <td>548.53</td>\n",
       "      <td>561.00</td>\n",
       "      <td>585.00</td>\n",
       "      <td>596.00</td>\n",
       "      <td>609.60</td>\n",
       "      <td>660.00</td>\n",
       "      <td>680.00</td>\n",
       "      <td>746.0000</td>\n",
       "    </tr>\n",
       "    <tr>\n",
       "      <th>3</th>\n",
       "      <td>544.97</td>\n",
       "      <td>545.05</td>\n",
       "      <td>513.59</td>\n",
       "      <td>526.50</td>\n",
       "      <td>532.40</td>\n",
       "      <td>540.60</td>\n",
       "      <td>561.24</td>\n",
       "      <td>586.00</td>\n",
       "      <td>596.00</td>\n",
       "      <td>609.88</td>\n",
       "      <td>666.49</td>\n",
       "      <td>676.00</td>\n",
       "      <td>747.0000</td>\n",
       "    </tr>\n",
       "    <tr>\n",
       "      <th>4</th>\n",
       "      <td>545.23</td>\n",
       "      <td>551.33</td>\n",
       "      <td>511.24</td>\n",
       "      <td>529.83</td>\n",
       "      <td>533.99</td>\n",
       "      <td>546.63</td>\n",
       "      <td>560.78</td>\n",
       "      <td>585.00</td>\n",
       "      <td>596.00</td>\n",
       "      <td>614.00</td>\n",
       "      <td>660.00</td>\n",
       "      <td>671.00</td>\n",
       "      <td>751.8000</td>\n",
       "    </tr>\n",
       "  </tbody>\n",
       "</table>\n",
       "</div>"
      ],
      "text/plain": [
       "     2004    2005    2006    2007    2008    2009    2010    2011    2012  \\\n",
       "0  545.37  543.26  513.31  524.87  538.05  546.96  570.00  580.51  588.90   \n",
       "1  545.37  543.82  513.47  525.87  532.48  549.03  559.66  586.00  591.51   \n",
       "2  545.43  544.70  510.97  528.30  534.00  548.53  561.00  585.00  596.00   \n",
       "3  544.97  545.05  513.59  526.50  532.40  540.60  561.24  586.00  596.00   \n",
       "4  545.23  551.33  511.24  529.83  533.99  546.63  560.78  585.00  596.00   \n",
       "\n",
       "     2013    2014    2015      2016  \n",
       "0  605.98  673.00  670.00  747.9199  \n",
       "1  605.41  667.25  679.85  746.5000  \n",
       "2  609.60  660.00  680.00  746.0000  \n",
       "3  609.88  666.49  676.00  747.0000  \n",
       "4  614.00  660.00  671.00  751.8000  "
      ]
     },
     "execution_count": 69,
     "metadata": {},
     "output_type": "execute_result"
    }
   ],
   "source": [
    "df3.head()"
   ]
  },
  {
   "cell_type": "code",
   "execution_count": 94,
   "metadata": {},
   "outputs": [],
   "source": [
    "df4 = df3.fillna(method='ffill')"
   ]
  },
  {
   "cell_type": "code",
   "execution_count": 95,
   "metadata": {},
   "outputs": [
    {
     "data": {
      "text/html": [
       "<div>\n",
       "<style scoped>\n",
       "    .dataframe tbody tr th:only-of-type {\n",
       "        vertical-align: middle;\n",
       "    }\n",
       "\n",
       "    .dataframe tbody tr th {\n",
       "        vertical-align: top;\n",
       "    }\n",
       "\n",
       "    .dataframe thead th {\n",
       "        text-align: right;\n",
       "    }\n",
       "</style>\n",
       "<table border=\"1\" class=\"dataframe\">\n",
       "  <thead>\n",
       "    <tr style=\"text-align: right;\">\n",
       "      <th></th>\n",
       "      <th>2004</th>\n",
       "      <th>2005</th>\n",
       "      <th>2006</th>\n",
       "      <th>2007</th>\n",
       "      <th>2008</th>\n",
       "      <th>2009</th>\n",
       "      <th>2010</th>\n",
       "      <th>2011</th>\n",
       "      <th>2012</th>\n",
       "      <th>2013</th>\n",
       "      <th>2014</th>\n",
       "      <th>2015</th>\n",
       "      <th>2016</th>\n",
       "    </tr>\n",
       "  </thead>\n",
       "  <tbody>\n",
       "    <tr>\n",
       "      <th>257</th>\n",
       "      <td>543.62</td>\n",
       "      <td>513.09</td>\n",
       "      <td>527.83</td>\n",
       "      <td>548.49</td>\n",
       "      <td>545.47</td>\n",
       "      <td>559.60</td>\n",
       "      <td>586.0</td>\n",
       "      <td>596.0</td>\n",
       "      <td>608.31</td>\n",
       "      <td>668.00</td>\n",
       "      <td>676.0</td>\n",
       "      <td>749.50</td>\n",
       "      <td>811.26</td>\n",
       "    </tr>\n",
       "    <tr>\n",
       "      <th>258</th>\n",
       "      <td>543.49</td>\n",
       "      <td>513.10</td>\n",
       "      <td>526.16</td>\n",
       "      <td>530.06</td>\n",
       "      <td>545.08</td>\n",
       "      <td>560.15</td>\n",
       "      <td>586.0</td>\n",
       "      <td>596.0</td>\n",
       "      <td>624.00</td>\n",
       "      <td>660.00</td>\n",
       "      <td>686.0</td>\n",
       "      <td>746.50</td>\n",
       "      <td>811.26</td>\n",
       "    </tr>\n",
       "    <tr>\n",
       "      <th>259</th>\n",
       "      <td>543.32</td>\n",
       "      <td>513.53</td>\n",
       "      <td>525.31</td>\n",
       "      <td>533.33</td>\n",
       "      <td>561.98</td>\n",
       "      <td>559.98</td>\n",
       "      <td>585.0</td>\n",
       "      <td>596.0</td>\n",
       "      <td>607.72</td>\n",
       "      <td>675.45</td>\n",
       "      <td>680.0</td>\n",
       "      <td>747.92</td>\n",
       "      <td>811.26</td>\n",
       "    </tr>\n",
       "    <tr>\n",
       "      <th>260</th>\n",
       "      <td>544.08</td>\n",
       "      <td>513.53</td>\n",
       "      <td>525.31</td>\n",
       "      <td>538.05</td>\n",
       "      <td>548.60</td>\n",
       "      <td>560.42</td>\n",
       "      <td>586.0</td>\n",
       "      <td>596.0</td>\n",
       "      <td>604.90</td>\n",
       "      <td>655.00</td>\n",
       "      <td>675.0</td>\n",
       "      <td>747.92</td>\n",
       "      <td>811.26</td>\n",
       "    </tr>\n",
       "    <tr>\n",
       "      <th>261</th>\n",
       "      <td>543.16</td>\n",
       "      <td>513.53</td>\n",
       "      <td>525.31</td>\n",
       "      <td>538.05</td>\n",
       "      <td>547.51</td>\n",
       "      <td>560.42</td>\n",
       "      <td>586.0</td>\n",
       "      <td>596.0</td>\n",
       "      <td>604.90</td>\n",
       "      <td>655.00</td>\n",
       "      <td>675.0</td>\n",
       "      <td>747.92</td>\n",
       "      <td>811.26</td>\n",
       "    </tr>\n",
       "  </tbody>\n",
       "</table>\n",
       "</div>"
      ],
      "text/plain": [
       "       2004    2005    2006    2007    2008    2009   2010   2011    2012  \\\n",
       "257  543.62  513.09  527.83  548.49  545.47  559.60  586.0  596.0  608.31   \n",
       "258  543.49  513.10  526.16  530.06  545.08  560.15  586.0  596.0  624.00   \n",
       "259  543.32  513.53  525.31  533.33  561.98  559.98  585.0  596.0  607.72   \n",
       "260  544.08  513.53  525.31  538.05  548.60  560.42  586.0  596.0  604.90   \n",
       "261  543.16  513.53  525.31  538.05  547.51  560.42  586.0  596.0  604.90   \n",
       "\n",
       "       2013   2014    2015    2016  \n",
       "257  668.00  676.0  749.50  811.26  \n",
       "258  660.00  686.0  746.50  811.26  \n",
       "259  675.45  680.0  747.92  811.26  \n",
       "260  655.00  675.0  747.92  811.26  \n",
       "261  655.00  675.0  747.92  811.26  "
      ]
     },
     "execution_count": 95,
     "metadata": {},
     "output_type": "execute_result"
    }
   ],
   "source": [
    "df4.tail()"
   ]
  },
  {
   "cell_type": "code",
   "execution_count": 73,
   "metadata": {},
   "outputs": [
    {
     "data": {
      "text/plain": [
       "Index(['2004', '2005', '2006', '2007', '2008', '2009', '2010', '2011', '2012',\n",
       "       '2013', '2014', '2015', '2016'],\n",
       "      dtype='object')"
      ]
     },
     "execution_count": 73,
     "metadata": {},
     "output_type": "execute_result"
    }
   ],
   "source": [
    "df3.columns"
   ]
  },
  {
   "cell_type": "code",
   "execution_count": 97,
   "metadata": {},
   "outputs": [],
   "source": [
    "X= df4[['2004', '2005', '2006', '2007', '2008', '2009', '2010', '2011', '2012',\n",
    "       '2013', '2014', '2015']]"
   ]
  },
  {
   "cell_type": "code",
   "execution_count": 98,
   "metadata": {},
   "outputs": [],
   "source": [
    "y= df4['2016']"
   ]
  },
  {
   "cell_type": "code",
   "execution_count": 99,
   "metadata": {},
   "outputs": [],
   "source": [
    "from sklearn.model_selection import train_test_split"
   ]
  },
  {
   "cell_type": "code",
   "execution_count": 101,
   "metadata": {},
   "outputs": [
    {
     "name": "stdout",
     "output_type": "stream",
     "text": [
      "<class 'pandas.core.frame.DataFrame'>\n",
      "RangeIndex: 262 entries, 0 to 261\n",
      "Data columns (total 13 columns):\n",
      "2004    262 non-null float64\n",
      "2005    262 non-null float64\n",
      "2006    262 non-null float64\n",
      "2007    262 non-null float64\n",
      "2008    262 non-null float64\n",
      "2009    262 non-null float64\n",
      "2010    262 non-null float64\n",
      "2011    262 non-null float64\n",
      "2012    262 non-null float64\n",
      "2013    262 non-null float64\n",
      "2014    262 non-null float64\n",
      "2015    262 non-null float64\n",
      "2016    262 non-null float64\n",
      "dtypes: float64(13)\n",
      "memory usage: 26.7 KB\n"
     ]
    }
   ],
   "source": [
    "df4.info()"
   ]
  },
  {
   "cell_type": "code",
   "execution_count": 141,
   "metadata": {},
   "outputs": [
    {
     "name": "stderr",
     "output_type": "stream",
     "text": [
      "/usr/local/lib/python3.5/dist-packages/sklearn/model_selection/_split.py:2026: FutureWarning: From version 0.21, test_size will always complement train_size unless both are specified.\n",
      "  FutureWarning)\n"
     ]
    }
   ],
   "source": [
    "X_train,X_test,y_train,y_test = train_test_split(X,y,train_size=0.4,random_state=101)"
   ]
  },
  {
   "cell_type": "code",
   "execution_count": 142,
   "metadata": {},
   "outputs": [],
   "source": [
    "from sklearn.linear_model import LinearRegression\n",
    "from sklearn import linear_model"
   ]
  },
  {
   "cell_type": "code",
   "execution_count": 187,
   "metadata": {},
   "outputs": [],
   "source": [
    "lm = LinearRegression()\n",
    "lm2 = linear_model.Ridge (alpha = .5)\n",
    "reg = linear_model.RidgeCV(alphas=[0.1, 1.0, 10.0])\n",
    "lm3 = linear_model.Lasso(alpha = 0.1)\n",
    "reg2 = linear_model.LassoLars(alpha=.1)\n",
    "reg3 = linear_model.BayesianRidge()\n",
    "clf = linear_model.ARDRegression()"
   ]
  },
  {
   "cell_type": "code",
   "execution_count": 188,
   "metadata": {},
   "outputs": [
    {
     "data": {
      "text/plain": [
       "ARDRegression(alpha_1=1e-06, alpha_2=1e-06, compute_score=False, copy_X=True,\n",
       "       fit_intercept=True, lambda_1=1e-06, lambda_2=1e-06, n_iter=300,\n",
       "       normalize=False, threshold_lambda=10000.0, tol=0.001, verbose=False)"
      ]
     },
     "execution_count": 188,
     "metadata": {},
     "output_type": "execute_result"
    }
   ],
   "source": [
    "lm.fit(X_train,y_train)\n",
    "lm2.fit(X_train,y_train)\n",
    "reg.fit(X_train,y_train)\n",
    "lm3.fit(X_train, y_train)\n",
    "reg2.fit(X_train, y_train)\n",
    "reg3.fit(X_train,y_train)\n",
    "clf.fit(X_train,y_train)"
   ]
  },
  {
   "cell_type": "code",
   "execution_count": 189,
   "metadata": {},
   "outputs": [
    {
     "name": "stdout",
     "output_type": "stream",
     "text": [
      "-510.291082595\n",
      "-510.038120164\n",
      "-505.296668192\n",
      "-492.32087454\n",
      "-179.106014099\n",
      "-182.409876295\n",
      "-194.715421051\n"
     ]
    }
   ],
   "source": [
    "print(lm.intercept_)\n",
    "print(lm2.intercept_)\n",
    "print(reg.intercept_)\n",
    "print(lm3.intercept_)\n",
    "print(reg2.intercept_)\n",
    "print(reg3.intercept_)\n",
    "print(clf.intercept_)"
   ]
  },
  {
   "cell_type": "code",
   "execution_count": 190,
   "metadata": {},
   "outputs": [],
   "source": [
    "prediction = lm.predict(X_test)\n",
    "prediction2 = lm2.predict(X_test)\n",
    "prediction3 = reg.predict(X_test)\n",
    "prediction4 = lm3.predict(X_test)\n",
    "prediction5= reg2.predict(X_test)\n",
    "prediction6= reg3.predict(X_test)\n",
    "prediction7 = clf.predict(X_test)"
   ]
  },
  {
   "cell_type": "code",
   "execution_count": 194,
   "metadata": {},
   "outputs": [
    {
     "data": {
      "text/plain": [
       "<matplotlib.collections.PathCollection at 0x7f3f9c1932b0>"
      ]
     },
     "execution_count": 194,
     "metadata": {},
     "output_type": "execute_result"
    },
    {
     "data": {
      "image/png": "[encoded data removed]",
      "text/plain": [
       "<matplotlib.figure.Figure at 0x7f3f9cbc8c50>"
      ]
     },
     "metadata": {},
     "output_type": "display_data"
    }
   ],
   "source": [
    "plt.scatter(y_test,prediction7)\n"
   ]
  },
  {
   "cell_type": "code",
   "execution_count": 199,
   "metadata": {},
   "outputs": [
    {
     "data": {
      "text/plain": [
       "[<matplotlib.lines.Line2D at 0x7f3f9c93fa58>]"
      ]
     },
     "execution_count": 199,
     "metadata": {},
     "output_type": "execute_result"
    },
    {
     "data": {
      "image/png": "[encoded data removed]",
      "text/plain": [
       "<matplotlib.figure.Figure at 0x7f3f9c4b4be0>"
      ]
     },
     "metadata": {},
     "output_type": "display_data"
    }
   ],
   "source": [
    "plt.plot(prediction7)"
   ]
  },
  {
   "cell_type": "code",
   "execution_count": 202,
   "metadata": {},
   "outputs": [
    {
     "data": {
      "text/html": [
       "<div>\n",
       "<style scoped>\n",
       "    .dataframe tbody tr th:only-of-type {\n",
       "        vertical-align: middle;\n",
       "    }\n",
       "\n",
       "    .dataframe tbody tr th {\n",
       "        vertical-align: top;\n",
       "    }\n",
       "\n",
       "    .dataframe thead th {\n",
       "        text-align: right;\n",
       "    }\n",
       "</style>\n",
       "<table border=\"1\" class=\"dataframe\">\n",
       "  <thead>\n",
       "    <tr style=\"text-align: right;\">\n",
       "      <th></th>\n",
       "      <th>Years</th>\n",
       "      <th>OpeningPrice</th>\n",
       "      <th>Year</th>\n",
       "    </tr>\n",
       "  </thead>\n",
       "  <tbody>\n",
       "    <tr>\n",
       "      <th>0</th>\n",
       "      <td>2004-01-01</td>\n",
       "      <td>545.37</td>\n",
       "      <td>2004</td>\n",
       "    </tr>\n",
       "    <tr>\n",
       "      <th>1</th>\n",
       "      <td>2004-01-02</td>\n",
       "      <td>545.37</td>\n",
       "      <td>2004</td>\n",
       "    </tr>\n",
       "    <tr>\n",
       "      <th>2</th>\n",
       "      <td>2004-01-05</td>\n",
       "      <td>545.43</td>\n",
       "      <td>2004</td>\n",
       "    </tr>\n",
       "    <tr>\n",
       "      <th>3</th>\n",
       "      <td>2004-01-06</td>\n",
       "      <td>544.97</td>\n",
       "      <td>2004</td>\n",
       "    </tr>\n",
       "    <tr>\n",
       "      <th>4</th>\n",
       "      <td>2004-01-07</td>\n",
       "      <td>545.23</td>\n",
       "      <td>2004</td>\n",
       "    </tr>\n",
       "  </tbody>\n",
       "</table>\n",
       "</div>"
      ],
      "text/plain": [
       "       Years  OpeningPrice  Year\n",
       "0 2004-01-01        545.37  2004\n",
       "1 2004-01-02        545.37  2004\n",
       "2 2004-01-05        545.43  2004\n",
       "3 2004-01-06        544.97  2004\n",
       "4 2004-01-07        545.23  2004"
      ]
     },
     "execution_count": 202,
     "metadata": {},
     "output_type": "execute_result"
    }
   ],
   "source": [
    "df.head()"
   ]
  },
  {
   "cell_type": "code",
   "execution_count": null,
   "metadata": {},
   "outputs": [],
   "source": []
  }
 ],
 "metadata": {
  "kernelspec": {
   "display_name": "Python 3",
   "language": "python",
   "name": "python3"
  },
  "language_info": {
   "codemirror_mode": {
    "name": "ipython",
    "version": 3
   },
   "file_extension": ".py",
   "mimetype": "text/x-python",
   "name": "python",
   "nbconvert_exporter": "python",
   "pygments_lexer": "ipython3",
   "version": "3.5.3"
  }
 },
 "nbformat": 4,
 "nbformat_minor": 2
}
